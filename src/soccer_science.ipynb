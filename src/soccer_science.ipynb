{
 "cells": [
  {
   "cell_type": "markdown",
   "metadata": {},
   "source": [
    "# Soccer Science"
   ]
  },
  {
   "cell_type": "markdown",
   "metadata": {},
   "source": [
    "## Setup"
   ]
  },
  {
   "cell_type": "markdown",
   "metadata": {},
   "source": [
    "### Import the Data"
   ]
  },
  {
   "cell_type": "markdown",
   "metadata": {},
   "source": [
    "Import all necessary modules"
   ]
  },
  {
   "cell_type": "code",
   "execution_count": 1,
   "metadata": {
    "ExecuteTime": {
     "end_time": "2020-04-02T01:03:03.064837Z",
     "start_time": "2020-04-02T01:03:01.761782Z"
    }
   },
   "outputs": [],
   "source": [
    "import pandas as pd\n",
    "import matplotlib.pyplot as plt\n",
    "import seaborn as sns\n",
    "import os\n",
    "import sys\n",
    "import re\n",
    "import scipy\n",
    "import numpy as np\n",
    "import datetime\n",
    "import xgboost as xgb\n",
    "import pickle\n",
    "\n",
    "from pivottablejs import pivot_ui\n",
    "from IPython.display import display\n",
    "from xgboost import XGBClassifier\n",
    "from sklearn.model_selection import cross_val_score\n",
    "from sklearn.ensemble import RandomForestClassifier\n",
    "from sklearn.linear_model import LogisticRegression\n",
    "from sklearn.model_selection import train_test_split, StratifiedKFold, RepeatedStratifiedKFold, GridSearchCV, cross_validate\n",
    "from sklearn import metrics\n",
    "from sklearn.metrics import precision_score, recall_score, confusion_matrix, classification_report, accuracy_score, f1_score\n"
   ]
  },
  {
   "cell_type": "markdown",
   "metadata": {},
   "source": [
    "Load the data. Note that the **date is first** (British format)"
   ]
  },
  {
   "cell_type": "code",
   "execution_count": 2,
   "metadata": {
    "ExecuteTime": {
     "end_time": "2020-04-02T01:03:03.123305Z",
     "start_time": "2020-04-02T01:03:03.067165Z"
    }
   },
   "outputs": [],
   "source": [
    "df_raw = pd.read_csv(\"..//Data/2015_2020_William_hill.csv\", parse_dates=[\"Date\"], dayfirst=True)\n",
    "df_names = pd.read_csv(\"..//Data/teams_to_numbers_MD.csv\")\n",
    "df_names1516 = pd.read_csv(\"..//Data/teams_to_numbers1516_MD.csv\")\n",
    "df_names1617 = pd.read_csv(\"..//Data/teams_to_numbers1617_MD.csv\")\n",
    "df_names1718 = pd.read_csv(\"..//Data/teams_to_numbers1718_MD.csv\")\n",
    "df_names1819 = pd.read_csv(\"..//Data/teams_to_numbers1819_MD.csv\")\n",
    "df_names1920 = pd.read_csv(\"..//Data/teams_to_numbers1920_MD.csv\")"
   ]
  },
  {
   "cell_type": "markdown",
   "metadata": {},
   "source": [
    "### Extract Year and Month"
   ]
  },
  {
   "cell_type": "markdown",
   "metadata": {},
   "source": [
    "Look at **all** data using info, describe and head.\n",
    "We can check for NAN / null values in info."
   ]
  },
  {
   "cell_type": "code",
   "execution_count": 3,
   "metadata": {
    "ExecuteTime": {
     "end_time": "2020-04-02T01:03:03.132882Z",
     "start_time": "2020-04-02T01:03:03.126432Z"
    }
   },
   "outputs": [],
   "source": [
    "pd.options.display.max_columns = None\n",
    "pd.options.display.max_rows = None"
   ]
  },
  {
   "cell_type": "markdown",
   "metadata": {},
   "source": [
    "Add more information to the datetime feature"
   ]
  },
  {
   "cell_type": "code",
   "execution_count": 4,
   "metadata": {
    "ExecuteTime": {
     "end_time": "2020-04-02T01:03:03.144429Z",
     "start_time": "2020-04-02T01:03:03.137191Z"
    }
   },
   "outputs": [],
   "source": [
    "df_raw['year'] = pd.DatetimeIndex(df_raw['Date']).year\n",
    "df_raw['month'] = pd.DatetimeIndex(df_raw['Date']).month"
   ]
  },
  {
   "cell_type": "code",
   "execution_count": 5,
   "metadata": {
    "ExecuteTime": {
     "end_time": "2020-04-02T01:03:03.171972Z",
     "start_time": "2020-04-02T01:03:03.147232Z"
    }
   },
   "outputs": [
    {
     "data": {
      "text/html": [
       "<div>\n",
       "<style scoped>\n",
       "    .dataframe tbody tr th:only-of-type {\n",
       "        vertical-align: middle;\n",
       "    }\n",
       "\n",
       "    .dataframe tbody tr th {\n",
       "        vertical-align: top;\n",
       "    }\n",
       "\n",
       "    .dataframe thead th {\n",
       "        text-align: right;\n",
       "    }\n",
       "</style>\n",
       "<table border=\"1\" class=\"dataframe\">\n",
       "  <thead>\n",
       "    <tr style=\"text-align: right;\">\n",
       "      <th></th>\n",
       "      <th>Date</th>\n",
       "      <th>HomeTeam</th>\n",
       "      <th>AwayTeam</th>\n",
       "      <th>outcome_by_HOME</th>\n",
       "      <th>AVERAGE_ODD_WIN</th>\n",
       "      <th>AVERAGE_ODD_DRAW</th>\n",
       "      <th>AVERAGE_ODD_OPPONENT_WIN</th>\n",
       "      <th>year</th>\n",
       "      <th>month</th>\n",
       "    </tr>\n",
       "  </thead>\n",
       "  <tbody>\n",
       "    <tr>\n",
       "      <th>0</th>\n",
       "      <td>2015-08-08</td>\n",
       "      <td>Bournemouth</td>\n",
       "      <td>Aston Villa</td>\n",
       "      <td>A</td>\n",
       "      <td>1.91</td>\n",
       "      <td>3.5</td>\n",
       "      <td>4.00</td>\n",
       "      <td>2015</td>\n",
       "      <td>8</td>\n",
       "    </tr>\n",
       "    <tr>\n",
       "      <th>1</th>\n",
       "      <td>2015-08-08</td>\n",
       "      <td>Chelsea</td>\n",
       "      <td>Swansea</td>\n",
       "      <td>D</td>\n",
       "      <td>1.40</td>\n",
       "      <td>4.0</td>\n",
       "      <td>10.00</td>\n",
       "      <td>2015</td>\n",
       "      <td>8</td>\n",
       "    </tr>\n",
       "    <tr>\n",
       "      <th>2</th>\n",
       "      <td>2015-08-08</td>\n",
       "      <td>Everton</td>\n",
       "      <td>Watford</td>\n",
       "      <td>D</td>\n",
       "      <td>1.73</td>\n",
       "      <td>3.5</td>\n",
       "      <td>5.00</td>\n",
       "      <td>2015</td>\n",
       "      <td>8</td>\n",
       "    </tr>\n",
       "    <tr>\n",
       "      <th>3</th>\n",
       "      <td>2015-08-08</td>\n",
       "      <td>Leicester</td>\n",
       "      <td>Sunderland</td>\n",
       "      <td>H</td>\n",
       "      <td>2.00</td>\n",
       "      <td>3.1</td>\n",
       "      <td>2.70</td>\n",
       "      <td>2015</td>\n",
       "      <td>8</td>\n",
       "    </tr>\n",
       "    <tr>\n",
       "      <th>4</th>\n",
       "      <td>2015-08-08</td>\n",
       "      <td>Man United</td>\n",
       "      <td>Tottenham</td>\n",
       "      <td>H</td>\n",
       "      <td>1.62</td>\n",
       "      <td>3.6</td>\n",
       "      <td>6.00</td>\n",
       "      <td>2015</td>\n",
       "      <td>8</td>\n",
       "    </tr>\n",
       "    <tr>\n",
       "      <th>5</th>\n",
       "      <td>2015-08-08</td>\n",
       "      <td>Norwich</td>\n",
       "      <td>Crystal Palace</td>\n",
       "      <td>A</td>\n",
       "      <td>2.60</td>\n",
       "      <td>3.1</td>\n",
       "      <td>2.88</td>\n",
       "      <td>2015</td>\n",
       "      <td>8</td>\n",
       "    </tr>\n",
       "    <tr>\n",
       "      <th>6</th>\n",
       "      <td>2015-08-09</td>\n",
       "      <td>Arsenal</td>\n",
       "      <td>West Ham</td>\n",
       "      <td>A</td>\n",
       "      <td>1.30</td>\n",
       "      <td>5.0</td>\n",
       "      <td>11.00</td>\n",
       "      <td>2015</td>\n",
       "      <td>8</td>\n",
       "    </tr>\n",
       "    <tr>\n",
       "      <th>7</th>\n",
       "      <td>2015-08-09</td>\n",
       "      <td>Newcastle</td>\n",
       "      <td>Southampton</td>\n",
       "      <td>D</td>\n",
       "      <td>2.70</td>\n",
       "      <td>3.1</td>\n",
       "      <td>2.70</td>\n",
       "      <td>2015</td>\n",
       "      <td>8</td>\n",
       "    </tr>\n",
       "    <tr>\n",
       "      <th>8</th>\n",
       "      <td>2015-08-09</td>\n",
       "      <td>Stoke</td>\n",
       "      <td>Liverpool</td>\n",
       "      <td>A</td>\n",
       "      <td>3.30</td>\n",
       "      <td>3.1</td>\n",
       "      <td>2.30</td>\n",
       "      <td>2015</td>\n",
       "      <td>8</td>\n",
       "    </tr>\n",
       "    <tr>\n",
       "      <th>9</th>\n",
       "      <td>2015-08-10</td>\n",
       "      <td>West Brom</td>\n",
       "      <td>Man City</td>\n",
       "      <td>A</td>\n",
       "      <td>5.50</td>\n",
       "      <td>3.5</td>\n",
       "      <td>1.70</td>\n",
       "      <td>2015</td>\n",
       "      <td>8</td>\n",
       "    </tr>\n",
       "  </tbody>\n",
       "</table>\n",
       "</div>"
      ],
      "text/plain": [
       "        Date     HomeTeam        AwayTeam outcome_by_HOME  AVERAGE_ODD_WIN  \\\n",
       "0 2015-08-08  Bournemouth     Aston Villa               A             1.91   \n",
       "1 2015-08-08      Chelsea         Swansea               D             1.40   \n",
       "2 2015-08-08      Everton         Watford               D             1.73   \n",
       "3 2015-08-08    Leicester      Sunderland               H             2.00   \n",
       "4 2015-08-08   Man United       Tottenham               H             1.62   \n",
       "5 2015-08-08      Norwich  Crystal Palace               A             2.60   \n",
       "6 2015-08-09      Arsenal        West Ham               A             1.30   \n",
       "7 2015-08-09    Newcastle     Southampton               D             2.70   \n",
       "8 2015-08-09        Stoke       Liverpool               A             3.30   \n",
       "9 2015-08-10    West Brom        Man City               A             5.50   \n",
       "\n",
       "   AVERAGE_ODD_DRAW  AVERAGE_ODD_OPPONENT_WIN  year  month  \n",
       "0               3.5                      4.00  2015      8  \n",
       "1               4.0                     10.00  2015      8  \n",
       "2               3.5                      5.00  2015      8  \n",
       "3               3.1                      2.70  2015      8  \n",
       "4               3.6                      6.00  2015      8  \n",
       "5               3.1                      2.88  2015      8  \n",
       "6               5.0                     11.00  2015      8  \n",
       "7               3.1                      2.70  2015      8  \n",
       "8               3.1                      2.30  2015      8  \n",
       "9               3.5                      1.70  2015      8  "
      ]
     },
     "execution_count": 5,
     "metadata": {},
     "output_type": "execute_result"
    }
   ],
   "source": [
    "df_raw.head(10)"
   ]
  },
  {
   "cell_type": "code",
   "execution_count": 6,
   "metadata": {
    "ExecuteTime": {
     "end_time": "2020-04-02T01:03:03.209799Z",
     "start_time": "2020-04-02T01:03:03.176262Z"
    }
   },
   "outputs": [
    {
     "data": {
      "text/html": [
       "<div>\n",
       "<style scoped>\n",
       "    .dataframe tbody tr th:only-of-type {\n",
       "        vertical-align: middle;\n",
       "    }\n",
       "\n",
       "    .dataframe tbody tr th {\n",
       "        vertical-align: top;\n",
       "    }\n",
       "\n",
       "    .dataframe thead th {\n",
       "        text-align: right;\n",
       "    }\n",
       "</style>\n",
       "<table border=\"1\" class=\"dataframe\">\n",
       "  <thead>\n",
       "    <tr style=\"text-align: right;\">\n",
       "      <th></th>\n",
       "      <th>AVERAGE_ODD_WIN</th>\n",
       "      <th>AVERAGE_ODD_DRAW</th>\n",
       "      <th>AVERAGE_ODD_OPPONENT_WIN</th>\n",
       "      <th>year</th>\n",
       "      <th>month</th>\n",
       "    </tr>\n",
       "  </thead>\n",
       "  <tbody>\n",
       "    <tr>\n",
       "      <th>count</th>\n",
       "      <td>1770.000000</td>\n",
       "      <td>1770.000000</td>\n",
       "      <td>1770.000000</td>\n",
       "      <td>1900.000000</td>\n",
       "      <td>1900.000000</td>\n",
       "    </tr>\n",
       "    <tr>\n",
       "      <th>mean</th>\n",
       "      <td>2.942164</td>\n",
       "      <td>4.031136</td>\n",
       "      <td>4.996678</td>\n",
       "      <td>2017.481053</td>\n",
       "      <td>6.751579</td>\n",
       "    </tr>\n",
       "    <tr>\n",
       "      <th>std</th>\n",
       "      <td>2.296751</td>\n",
       "      <td>1.336752</td>\n",
       "      <td>4.637151</td>\n",
       "      <td>1.489708</td>\n",
       "      <td>3.945571</td>\n",
       "    </tr>\n",
       "    <tr>\n",
       "      <th>min</th>\n",
       "      <td>1.050000</td>\n",
       "      <td>2.800000</td>\n",
       "      <td>1.120000</td>\n",
       "      <td>2015.000000</td>\n",
       "      <td>1.000000</td>\n",
       "    </tr>\n",
       "    <tr>\n",
       "      <th>25%</th>\n",
       "      <td>1.670000</td>\n",
       "      <td>3.250000</td>\n",
       "      <td>2.350000</td>\n",
       "      <td>2016.000000</td>\n",
       "      <td>3.000000</td>\n",
       "    </tr>\n",
       "    <tr>\n",
       "      <th>50%</th>\n",
       "      <td>2.250000</td>\n",
       "      <td>3.500000</td>\n",
       "      <td>3.300000</td>\n",
       "      <td>2017.000000</td>\n",
       "      <td>8.000000</td>\n",
       "    </tr>\n",
       "    <tr>\n",
       "      <th>75%</th>\n",
       "      <td>3.100000</td>\n",
       "      <td>4.200000</td>\n",
       "      <td>5.500000</td>\n",
       "      <td>2019.000000</td>\n",
       "      <td>11.000000</td>\n",
       "    </tr>\n",
       "    <tr>\n",
       "      <th>max</th>\n",
       "      <td>21.000000</td>\n",
       "      <td>13.000000</td>\n",
       "      <td>46.000000</td>\n",
       "      <td>2020.000000</td>\n",
       "      <td>12.000000</td>\n",
       "    </tr>\n",
       "  </tbody>\n",
       "</table>\n",
       "</div>"
      ],
      "text/plain": [
       "       AVERAGE_ODD_WIN  AVERAGE_ODD_DRAW  AVERAGE_ODD_OPPONENT_WIN  \\\n",
       "count      1770.000000       1770.000000               1770.000000   \n",
       "mean          2.942164          4.031136                  4.996678   \n",
       "std           2.296751          1.336752                  4.637151   \n",
       "min           1.050000          2.800000                  1.120000   \n",
       "25%           1.670000          3.250000                  2.350000   \n",
       "50%           2.250000          3.500000                  3.300000   \n",
       "75%           3.100000          4.200000                  5.500000   \n",
       "max          21.000000         13.000000                 46.000000   \n",
       "\n",
       "              year        month  \n",
       "count  1900.000000  1900.000000  \n",
       "mean   2017.481053     6.751579  \n",
       "std       1.489708     3.945571  \n",
       "min    2015.000000     1.000000  \n",
       "25%    2016.000000     3.000000  \n",
       "50%    2017.000000     8.000000  \n",
       "75%    2019.000000    11.000000  \n",
       "max    2020.000000    12.000000  "
      ]
     },
     "execution_count": 6,
     "metadata": {},
     "output_type": "execute_result"
    }
   ],
   "source": [
    "df_raw.describe()"
   ]
  },
  {
   "cell_type": "code",
   "execution_count": 7,
   "metadata": {
    "ExecuteTime": {
     "end_time": "2020-04-02T01:03:03.223295Z",
     "start_time": "2020-04-02T01:03:03.214068Z"
    }
   },
   "outputs": [
    {
     "name": "stdout",
     "output_type": "stream",
     "text": [
      "<class 'pandas.core.frame.DataFrame'>\n",
      "RangeIndex: 1900 entries, 0 to 1899\n",
      "Data columns (total 9 columns):\n",
      "Date                        1900 non-null datetime64[ns]\n",
      "HomeTeam                    1900 non-null object\n",
      "AwayTeam                    1900 non-null object\n",
      "outcome_by_HOME             1770 non-null object\n",
      "AVERAGE_ODD_WIN             1770 non-null float64\n",
      "AVERAGE_ODD_DRAW            1770 non-null float64\n",
      "AVERAGE_ODD_OPPONENT_WIN    1770 non-null float64\n",
      "year                        1900 non-null int64\n",
      "month                       1900 non-null int64\n",
      "dtypes: datetime64[ns](1), float64(3), int64(2), object(3)\n",
      "memory usage: 133.7+ KB\n"
     ]
    }
   ],
   "source": [
    "df_raw.info()"
   ]
  },
  {
   "cell_type": "markdown",
   "metadata": {},
   "source": [
    "### Make Catagorical Features Numerical and add Team Information"
   ]
  },
  {
   "cell_type": "markdown",
   "metadata": {},
   "source": [
    "There are no null items, but there are strings which need to be turned into catagorical data: team name and outcome. And we want the \"last game\" number to be consistent with the W, D, L of the \"outcome\""
   ]
  },
  {
   "cell_type": "code",
   "execution_count": 8,
   "metadata": {
    "ExecuteTime": {
     "end_time": "2020-04-02T01:03:03.231030Z",
     "start_time": "2020-04-02T01:03:03.225194Z"
    }
   },
   "outputs": [],
   "source": [
    "df_raw['outcome_by_HOME'] = df_raw.outcome_by_HOME.astype('category')"
   ]
  },
  {
   "cell_type": "code",
   "execution_count": 9,
   "metadata": {
    "ExecuteTime": {
     "end_time": "2020-04-02T01:03:03.270678Z",
     "start_time": "2020-04-02T01:03:03.232960Z"
    }
   },
   "outputs": [],
   "source": [
    "df_raw = df_raw.replace('H', 2)\n",
    "df_raw = df_raw.replace('D', 1)\n",
    "df_raw = df_raw.replace('A', 0)"
   ]
  },
  {
   "cell_type": "code",
   "execution_count": 10,
   "metadata": {
    "ExecuteTime": {
     "end_time": "2020-04-02T01:03:03.284394Z",
     "start_time": "2020-04-02T01:03:03.273453Z"
    }
   },
   "outputs": [],
   "source": [
    "df_num = df_names.merge(df_raw, left_on='Team', right_on='HomeTeam');\n",
    "df_num = df_num.drop(['Team'], axis=1)\n",
    "\n"
   ]
  },
  {
   "cell_type": "code",
   "execution_count": 11,
   "metadata": {
    "ExecuteTime": {
     "end_time": "2020-04-02T01:03:03.291408Z",
     "start_time": "2020-04-02T01:03:03.286183Z"
    }
   },
   "outputs": [],
   "source": [
    "df_num.rename(columns = {'Av_Salary_Club':'H_Av_Salary_Club',\n",
    "                         'Draw':'H_Draw',\n",
    "                         'Goals_For':'H_Goals_For',\n",
    "                         'Goal_Difference':'H_Goal_Difference'},\n",
    "              inplace = True)"
   ]
  },
  {
   "cell_type": "code",
   "execution_count": 12,
   "metadata": {
    "ExecuteTime": {
     "end_time": "2020-04-02T01:03:03.299109Z",
     "start_time": "2020-04-02T01:03:03.294044Z"
    }
   },
   "outputs": [],
   "source": [
    "df_num.rename(columns = {'Team_Number':'H_Team_number'}, inplace = True)"
   ]
  },
  {
   "cell_type": "code",
   "execution_count": 13,
   "metadata": {
    "ExecuteTime": {
     "end_time": "2020-04-02T01:03:03.313112Z",
     "start_time": "2020-04-02T01:03:03.302700Z"
    }
   },
   "outputs": [],
   "source": [
    "df_num2 = df_names.merge(df_num, left_on='Team', right_on='AwayTeam');\n",
    "df_num2 = df_num2.drop(['Team'], axis=1)"
   ]
  },
  {
   "cell_type": "code",
   "execution_count": 14,
   "metadata": {
    "ExecuteTime": {
     "end_time": "2020-04-02T01:03:03.321099Z",
     "start_time": "2020-04-02T01:03:03.315125Z"
    }
   },
   "outputs": [],
   "source": [
    "df_num2.rename(columns = {'Av_Salary_Club':'A_Av_Salary_Club',\n",
    "                         'Draw':'A_Draw',\n",
    "                         'Goals_For':'A_Goals_For',\n",
    "                         'Goal_Difference':'A_Goal_Difference'},\n",
    "              inplace = True)"
   ]
  },
  {
   "cell_type": "code",
   "execution_count": 15,
   "metadata": {
    "ExecuteTime": {
     "end_time": "2020-04-02T01:03:03.327758Z",
     "start_time": "2020-04-02T01:03:03.323033Z"
    }
   },
   "outputs": [],
   "source": [
    "df_num2.rename(columns = {'Team_Number':'A_Team_number'}, inplace = True)"
   ]
  },
  {
   "cell_type": "code",
   "execution_count": 16,
   "metadata": {
    "ExecuteTime": {
     "end_time": "2020-04-02T01:03:03.338577Z",
     "start_time": "2020-04-02T01:03:03.330576Z"
    }
   },
   "outputs": [
    {
     "name": "stdout",
     "output_type": "stream",
     "text": [
      "<class 'pandas.core.frame.DataFrame'>\n",
      "Int64Index: 1900 entries, 0 to 1899\n",
      "Data columns (total 19 columns):\n",
      "A_Team_number               1900 non-null int64\n",
      "A_Av_Salary_Club            1900 non-null float64\n",
      "A_Draw                      1900 non-null int64\n",
      "A_Goals_For                 1900 non-null int64\n",
      "A_Goal_Difference           1900 non-null int64\n",
      "H_Team_number               1900 non-null int64\n",
      "H_Av_Salary_Club            1900 non-null float64\n",
      "H_Draw                      1900 non-null int64\n",
      "H_Goals_For                 1900 non-null int64\n",
      "H_Goal_Difference           1900 non-null int64\n",
      "Date                        1900 non-null datetime64[ns]\n",
      "HomeTeam                    1900 non-null object\n",
      "AwayTeam                    1900 non-null object\n",
      "outcome_by_HOME             1770 non-null float64\n",
      "AVERAGE_ODD_WIN             1770 non-null float64\n",
      "AVERAGE_ODD_DRAW            1770 non-null float64\n",
      "AVERAGE_ODD_OPPONENT_WIN    1770 non-null float64\n",
      "year                        1900 non-null int64\n",
      "month                       1900 non-null int64\n",
      "dtypes: datetime64[ns](1), float64(6), int64(10), object(2)\n",
      "memory usage: 296.9+ KB\n"
     ]
    }
   ],
   "source": [
    "df_num2.info()"
   ]
  },
  {
   "cell_type": "code",
   "execution_count": 17,
   "metadata": {
    "ExecuteTime": {
     "end_time": "2020-04-02T01:03:03.345982Z",
     "start_time": "2020-04-02T01:03:03.340866Z"
    }
   },
   "outputs": [],
   "source": [
    "df_num2['RandomNumber'] = np.random.randint(1, df_num2.shape[0], df_num2.shape[0])\n"
   ]
  },
  {
   "cell_type": "code",
   "execution_count": 18,
   "metadata": {
    "ExecuteTime": {
     "end_time": "2020-04-02T01:03:03.357012Z",
     "start_time": "2020-04-02T01:03:03.351247Z"
    }
   },
   "outputs": [],
   "source": [
    "df_num2 = df_num2.sort_values(by=['Date'])\n",
    "df_num2 = df_num2.reset_index(drop=True)\n"
   ]
  },
  {
   "cell_type": "code",
   "execution_count": 19,
   "metadata": {
    "ExecuteTime": {
     "end_time": "2020-04-02T01:03:03.368792Z",
     "start_time": "2020-04-02T01:03:03.360921Z"
    }
   },
   "outputs": [
    {
     "name": "stdout",
     "output_type": "stream",
     "text": [
      "<class 'pandas.core.frame.DataFrame'>\n",
      "RangeIndex: 1900 entries, 0 to 1899\n",
      "Data columns (total 20 columns):\n",
      "A_Team_number               1900 non-null int64\n",
      "A_Av_Salary_Club            1900 non-null float64\n",
      "A_Draw                      1900 non-null int64\n",
      "A_Goals_For                 1900 non-null int64\n",
      "A_Goal_Difference           1900 non-null int64\n",
      "H_Team_number               1900 non-null int64\n",
      "H_Av_Salary_Club            1900 non-null float64\n",
      "H_Draw                      1900 non-null int64\n",
      "H_Goals_For                 1900 non-null int64\n",
      "H_Goal_Difference           1900 non-null int64\n",
      "Date                        1900 non-null datetime64[ns]\n",
      "HomeTeam                    1900 non-null object\n",
      "AwayTeam                    1900 non-null object\n",
      "outcome_by_HOME             1770 non-null float64\n",
      "AVERAGE_ODD_WIN             1770 non-null float64\n",
      "AVERAGE_ODD_DRAW            1770 non-null float64\n",
      "AVERAGE_ODD_OPPONENT_WIN    1770 non-null float64\n",
      "year                        1900 non-null int64\n",
      "month                       1900 non-null int64\n",
      "RandomNumber                1900 non-null int64\n",
      "dtypes: datetime64[ns](1), float64(6), int64(11), object(2)\n",
      "memory usage: 297.0+ KB\n"
     ]
    }
   ],
   "source": [
    "df_num2.info()"
   ]
  },
  {
   "cell_type": "code",
   "execution_count": 20,
   "metadata": {
    "ExecuteTime": {
     "end_time": "2020-04-02T01:03:03.388654Z",
     "start_time": "2020-04-02T01:03:03.370979Z"
    }
   },
   "outputs": [
    {
     "data": {
      "text/html": [
       "<div>\n",
       "<style scoped>\n",
       "    .dataframe tbody tr th:only-of-type {\n",
       "        vertical-align: middle;\n",
       "    }\n",
       "\n",
       "    .dataframe tbody tr th {\n",
       "        vertical-align: top;\n",
       "    }\n",
       "\n",
       "    .dataframe thead th {\n",
       "        text-align: right;\n",
       "    }\n",
       "</style>\n",
       "<table border=\"1\" class=\"dataframe\">\n",
       "  <thead>\n",
       "    <tr style=\"text-align: right;\">\n",
       "      <th></th>\n",
       "      <th>A_Team_number</th>\n",
       "      <th>A_Av_Salary_Club</th>\n",
       "      <th>A_Draw</th>\n",
       "      <th>A_Goals_For</th>\n",
       "      <th>A_Goal_Difference</th>\n",
       "      <th>H_Team_number</th>\n",
       "      <th>H_Av_Salary_Club</th>\n",
       "      <th>H_Draw</th>\n",
       "      <th>H_Goals_For</th>\n",
       "      <th>H_Goal_Difference</th>\n",
       "      <th>Date</th>\n",
       "      <th>HomeTeam</th>\n",
       "      <th>AwayTeam</th>\n",
       "      <th>outcome_by_HOME</th>\n",
       "      <th>AVERAGE_ODD_WIN</th>\n",
       "      <th>AVERAGE_ODD_DRAW</th>\n",
       "      <th>AVERAGE_ODD_OPPONENT_WIN</th>\n",
       "      <th>year</th>\n",
       "      <th>month</th>\n",
       "      <th>RandomNumber</th>\n",
       "    </tr>\n",
       "  </thead>\n",
       "  <tbody>\n",
       "    <tr>\n",
       "      <th>1895</th>\n",
       "      <td>19</td>\n",
       "      <td>0.65</td>\n",
       "      <td>92</td>\n",
       "      <td>365</td>\n",
       "      <td>-145</td>\n",
       "      <td>15</td>\n",
       "      <td>5.99</td>\n",
       "      <td>196</td>\n",
       "      <td>1374</td>\n",
       "      <td>399</td>\n",
       "      <td>2020-05-17</td>\n",
       "      <td>Man City</td>\n",
       "      <td>Norwich</td>\n",
       "      <td>0.0</td>\n",
       "      <td>0.0</td>\n",
       "      <td>0.0</td>\n",
       "      <td>0.0</td>\n",
       "      <td>2020</td>\n",
       "      <td>5</td>\n",
       "      <td>1763</td>\n",
       "    </tr>\n",
       "    <tr>\n",
       "      <th>1896</th>\n",
       "      <td>29</td>\n",
       "      <td>1.76</td>\n",
       "      <td>49</td>\n",
       "      <td>203</td>\n",
       "      <td>-124</td>\n",
       "      <td>7</td>\n",
       "      <td>5.02</td>\n",
       "      <td>257</td>\n",
       "      <td>1770</td>\n",
       "      <td>768</td>\n",
       "      <td>2020-05-17</td>\n",
       "      <td>Chelsea</td>\n",
       "      <td>Wolves</td>\n",
       "      <td>0.0</td>\n",
       "      <td>0.0</td>\n",
       "      <td>0.0</td>\n",
       "      <td>0.0</td>\n",
       "      <td>2020</td>\n",
       "      <td>5</td>\n",
       "      <td>662</td>\n",
       "    </tr>\n",
       "    <tr>\n",
       "      <th>1897</th>\n",
       "      <td>26</td>\n",
       "      <td>1.78</td>\n",
       "      <td>51</td>\n",
       "      <td>240</td>\n",
       "      <td>-137</td>\n",
       "      <td>1</td>\n",
       "      <td>4.85</td>\n",
       "      <td>260</td>\n",
       "      <td>1845</td>\n",
       "      <td>832</td>\n",
       "      <td>2020-05-17</td>\n",
       "      <td>Arsenal</td>\n",
       "      <td>Watford</td>\n",
       "      <td>0.0</td>\n",
       "      <td>0.0</td>\n",
       "      <td>0.0</td>\n",
       "      <td>0.0</td>\n",
       "      <td>2020</td>\n",
       "      <td>5</td>\n",
       "      <td>296</td>\n",
       "    </tr>\n",
       "    <tr>\n",
       "      <th>1898</th>\n",
       "      <td>3</td>\n",
       "      <td>1.99</td>\n",
       "      <td>36</td>\n",
       "      <td>201</td>\n",
       "      <td>-64</td>\n",
       "      <td>9</td>\n",
       "      <td>3.25</td>\n",
       "      <td>296</td>\n",
       "      <td>1357</td>\n",
       "      <td>46</td>\n",
       "      <td>2020-05-17</td>\n",
       "      <td>Everton</td>\n",
       "      <td>Bournemouth</td>\n",
       "      <td>0.0</td>\n",
       "      <td>0.0</td>\n",
       "      <td>0.0</td>\n",
       "      <td>0.0</td>\n",
       "      <td>2020</td>\n",
       "      <td>5</td>\n",
       "      <td>37</td>\n",
       "    </tr>\n",
       "    <tr>\n",
       "      <th>1899</th>\n",
       "      <td>16</td>\n",
       "      <td>6.53</td>\n",
       "      <td>224</td>\n",
       "      <td>1989</td>\n",
       "      <td>1060</td>\n",
       "      <td>13</td>\n",
       "      <td>2.71</td>\n",
       "      <td>136</td>\n",
       "      <td>623</td>\n",
       "      <td>-95</td>\n",
       "      <td>2020-05-17</td>\n",
       "      <td>Leicester</td>\n",
       "      <td>Man United</td>\n",
       "      <td>0.0</td>\n",
       "      <td>0.0</td>\n",
       "      <td>0.0</td>\n",
       "      <td>0.0</td>\n",
       "      <td>2020</td>\n",
       "      <td>5</td>\n",
       "      <td>897</td>\n",
       "    </tr>\n",
       "  </tbody>\n",
       "</table>\n",
       "</div>"
      ],
      "text/plain": [
       "      A_Team_number  A_Av_Salary_Club  A_Draw  A_Goals_For  A_Goal_Difference  \\\n",
       "1895             19              0.65      92          365               -145   \n",
       "1896             29              1.76      49          203               -124   \n",
       "1897             26              1.78      51          240               -137   \n",
       "1898              3              1.99      36          201                -64   \n",
       "1899             16              6.53     224         1989               1060   \n",
       "\n",
       "      H_Team_number  H_Av_Salary_Club  H_Draw  H_Goals_For  H_Goal_Difference  \\\n",
       "1895             15              5.99     196         1374                399   \n",
       "1896              7              5.02     257         1770                768   \n",
       "1897              1              4.85     260         1845                832   \n",
       "1898              9              3.25     296         1357                 46   \n",
       "1899             13              2.71     136          623                -95   \n",
       "\n",
       "           Date   HomeTeam     AwayTeam  outcome_by_HOME  AVERAGE_ODD_WIN  \\\n",
       "1895 2020-05-17   Man City      Norwich              0.0              0.0   \n",
       "1896 2020-05-17    Chelsea       Wolves              0.0              0.0   \n",
       "1897 2020-05-17    Arsenal      Watford              0.0              0.0   \n",
       "1898 2020-05-17    Everton  Bournemouth              0.0              0.0   \n",
       "1899 2020-05-17  Leicester   Man United              0.0              0.0   \n",
       "\n",
       "      AVERAGE_ODD_DRAW  AVERAGE_ODD_OPPONENT_WIN  year  month  RandomNumber  \n",
       "1895               0.0                       0.0  2020      5          1763  \n",
       "1896               0.0                       0.0  2020      5           662  \n",
       "1897               0.0                       0.0  2020      5           296  \n",
       "1898               0.0                       0.0  2020      5            37  \n",
       "1899               0.0                       0.0  2020      5           897  "
      ]
     },
     "execution_count": 20,
     "metadata": {},
     "output_type": "execute_result"
    }
   ],
   "source": [
    "df_num2.fillna(value=0, inplace=True)\n",
    "df_num2.tail()"
   ]
  },
  {
   "cell_type": "markdown",
   "metadata": {},
   "source": [
    "### Split Data into Seasons / Years, Add Seasonal Information"
   ]
  },
  {
   "cell_type": "code",
   "execution_count": 21,
   "metadata": {
    "ExecuteTime": {
     "end_time": "2020-04-02T01:03:03.394690Z",
     "start_time": "2020-04-02T01:03:03.390537Z"
    }
   },
   "outputs": [],
   "source": [
    "df = df_num2"
   ]
  },
  {
   "cell_type": "code",
   "execution_count": 22,
   "metadata": {
    "ExecuteTime": {
     "end_time": "2020-04-02T01:03:03.417872Z",
     "start_time": "2020-04-02T01:03:03.396616Z"
    }
   },
   "outputs": [],
   "source": [
    "df_2015B = df[(df[\"year\"]==2015) & (df[\"month\"]>=7)]\n",
    "df_2016A = df[(df[\"year\"]==2016) & (df[\"month\"]<7)]\n",
    "df_2016B = df[(df[\"year\"]==2016) & (df[\"month\"]>=7)]\n",
    "df_2017A = df[(df[\"year\"]==2017) & (df[\"month\"]<7)]\n",
    "df_2017B = df[(df[\"year\"]==2017) & (df[\"month\"]>=7)]\n",
    "df_2018A = df[(df[\"year\"]==2018) & (df[\"month\"]<7)]\n",
    "df_2018B = df[(df[\"year\"]==2018) & (df[\"month\"]>=7)]\n",
    "df_2019A = df[(df[\"year\"]==2019) & (df[\"month\"]<7)]\n",
    "df_2019B = df[(df[\"year\"]==2019) & (df[\"month\"]>=7)]\n",
    "df_2020A = df[(df[\"year\"]==2020) & (df[\"month\"]<7)]"
   ]
  },
  {
   "cell_type": "code",
   "execution_count": 23,
   "metadata": {
    "ExecuteTime": {
     "end_time": "2020-04-02T01:03:03.490097Z",
     "start_time": "2020-04-02T01:03:03.467140Z"
    }
   },
   "outputs": [],
   "source": [
    "df_15B16A = pd.concat([df_2015B, df_2016A], sort=False)\n",
    "df_16B17A = pd.concat([df_2016B, df_2017A], sort=False)\n",
    "df_17B18A = pd.concat([df_2017B, df_2018A], sort=False)\n",
    "df_18B19A = pd.concat([df_2018B, df_2019A], sort=False)\n",
    "df_19B20A = pd.concat([df_2019B, df_2020A], sort=False)\n"
   ]
  },
  {
   "cell_type": "code",
   "execution_count": 24,
   "metadata": {
    "ExecuteTime": {
     "end_time": "2020-04-02T01:03:03.528771Z",
     "start_time": "2020-04-02T01:03:03.491863Z"
    }
   },
   "outputs": [],
   "source": [
    "df_15B16A_sal = df_names1516.merge(df_15B16A, left_on='Team_Number', right_on='H_Team_number');\n",
    "df_15B16A_sal = df_15B16A_sal.drop(['Team_Number', 'Team'], axis=1)\n",
    "df_16B17A_sal = df_names1617.merge(df_16B17A, left_on='Team_Number', right_on='H_Team_number');\n",
    "df_16B17A_sal = df_16B17A_sal.drop(['Team_Number', 'Team'], axis=1)\n",
    "df_17B18A_sal = df_names1718.merge(df_17B18A, left_on='Team_Number', right_on='H_Team_number');\n",
    "df_17B18A_sal = df_17B18A_sal.drop(['Team_Number', 'Team'], axis=1)\n",
    "df_18B19A_sal = df_names1819.merge(df_18B19A, left_on='Team_Number', right_on='H_Team_number');\n",
    "df_18B19A_sal = df_18B19A_sal.drop(['Team_Number', 'Team'], axis=1)\n",
    "df_19B20A_sal = df_names1920.merge(df_19B20A, left_on='Team_Number', right_on='H_Team_number');\n",
    "df_19B20A_sal = df_19B20A_sal.drop(['Team_Number', 'Team'], axis=1)"
   ]
  },
  {
   "cell_type": "code",
   "execution_count": 25,
   "metadata": {
    "ExecuteTime": {
     "end_time": "2020-04-02T01:03:03.543074Z",
     "start_time": "2020-04-02T01:03:03.531604Z"
    }
   },
   "outputs": [],
   "source": [
    "df_15B16A_sal.rename(columns = {'Pos':'HSeas_Pos',\n",
    "                         'Draw':'HSeas_Draw',\n",
    "                         'Goals_For':'HSeas_Goals_For',\n",
    "                         'Goal_Difference':'HSeas_Goal_Difference',\n",
    "                         'Pts':'HSeas_Pts'},\n",
    "              inplace = True)\n",
    "\n",
    "df_16B17A_sal.rename(columns = {'Pos':'HSeas_Pos',\n",
    "                         'Draw':'HSeas_Draw',\n",
    "                         'Goals_For':'HSeas_Goals_For',\n",
    "                         'Goal_Difference':'HSeas_Goal_Difference',\n",
    "                         'Pts':'HSeas_Pts'},\n",
    "              inplace = True)\n",
    "\n",
    "df_17B18A_sal.rename(columns = {'Pos':'HSeas_Pos',\n",
    "                         'Draw':'HSeas_Draw',\n",
    "                         'Goals_For':'HSeas_Goals_For',\n",
    "                         'Goal_Difference':'HSeas_Goal_Difference',\n",
    "                         'Pts':'HSeas_Pts'},\n",
    "              inplace = True)\n",
    "\n",
    "df_18B19A_sal.rename(columns = {'Pos':'HSeas_Pos',\n",
    "                         'Draw':'HSeas_Draw',\n",
    "                         'Goals_For':'HSeas_Goals_For',\n",
    "                         'Goal_Difference':'HSeas_Goal_Difference',\n",
    "                         'Pts':'HSeas_Pts'},\n",
    "              inplace = True)\n",
    "\n",
    "df_19B20A_sal.rename(columns = {'Pos':'HSeas_Pos',\n",
    "                         'Draw':'HSeas_Draw',\n",
    "                         'Goals_For':'HSeas_Goals_For',\n",
    "                         'Goal_Difference':'HSeas_Goal_Difference',\n",
    "                         'Pts':'HSeas_Pts'},\n",
    "              inplace = True)\n"
   ]
  },
  {
   "cell_type": "code",
   "execution_count": 26,
   "metadata": {
    "ExecuteTime": {
     "end_time": "2020-04-02T01:03:03.580234Z",
     "start_time": "2020-04-02T01:03:03.544939Z"
    }
   },
   "outputs": [],
   "source": [
    "df_15B16A_sal2 = df_names1516.merge(df_15B16A_sal, left_on='Team_Number', right_on='A_Team_number');\n",
    "df_15B16A_sal2 = df_15B16A_sal2.drop(['Team_Number', 'Team'], axis=1)\n",
    "df_16B17A_sal2 = df_names1617.merge(df_16B17A_sal, left_on='Team_Number', right_on='A_Team_number');\n",
    "df_16B17A_sal2 = df_16B17A_sal2.drop(['Team_Number', 'Team'], axis=1)\n",
    "df_17B18A_sal2 = df_names1718.merge(df_17B18A_sal, left_on='Team_Number', right_on='A_Team_number');\n",
    "df_17B18A_sal2 = df_17B18A_sal2.drop(['Team_Number', 'Team'], axis=1)\n",
    "df_18B19A_sal2 = df_names1819.merge(df_18B19A_sal, left_on='Team_Number', right_on='A_Team_number');\n",
    "df_18B19A_sal2 = df_18B19A_sal2.drop(['Team_Number', 'Team'], axis=1)\n",
    "df_19B20A_sal2 = df_names1920.merge(df_19B20A_sal, left_on='Team_Number', right_on='A_Team_number');\n",
    "df_19B20A_sal2 = df_19B20A_sal2.drop(['Team_Number', 'Team'], axis=1)"
   ]
  },
  {
   "cell_type": "code",
   "execution_count": 27,
   "metadata": {
    "ExecuteTime": {
     "end_time": "2020-04-02T01:03:03.592585Z",
     "start_time": "2020-04-02T01:03:03.582114Z"
    }
   },
   "outputs": [],
   "source": [
    "df_15B16A_sal2.rename(columns = {'Pos':'ASeas_Pos',\n",
    "                         'Draw':'ASeas_Draw',\n",
    "                         'Goals_For':'ASeas_Goals_For',\n",
    "                         'Goal_Difference':'ASeas_Goal_Difference',\n",
    "                         'Pts':'ASeas_Pts'},\n",
    "              inplace = True)\n",
    "\n",
    "df_16B17A_sal2.rename(columns = {'Pos':'ASeas_Pos',\n",
    "                         'Draw':'ASeas_Draw',\n",
    "                         'Goals_For':'ASeas_Goals_For',\n",
    "                         'Goal_Difference':'ASeas_Goal_Difference',\n",
    "                         'Pts':'ASeas_Pts'},\n",
    "              inplace = True)\n",
    "\n",
    "df_17B18A_sal2.rename(columns = {'Pos':'ASeas_Pos',\n",
    "                         'Draw':'ASeas_Draw',\n",
    "                         'Goals_For':'ASeas_Goals_For',\n",
    "                         'Goal_Difference':'ASeas_Goal_Difference',\n",
    "                         'Pts':'ASeas_Pts'},\n",
    "              inplace = True)\n",
    "\n",
    "df_18B19A_sal2.rename(columns = {'Pos':'ASeas_Pos',\n",
    "                         'Draw':'ASeas_Draw',\n",
    "                         'Goals_For':'ASeas_Goals_For',\n",
    "                         'Goal_Difference':'ASeas_Goal_Difference',\n",
    "                         'Pts':'ASeas_Pts'},\n",
    "              inplace = True)\n",
    "\n",
    "df_19B20A_sal2.rename(columns = {'Pos':'ASeas_Pos',\n",
    "                         'Draw':'ASeas_Draw',\n",
    "                         'Goals_For':'ASeas_Goals_For',\n",
    "                         'Goal_Difference':'ASeas_Goal_Difference',\n",
    "                         'Pts':'ASeas_Pts'},\n",
    "              inplace = True)"
   ]
  },
  {
   "cell_type": "code",
   "execution_count": 28,
   "metadata": {
    "ExecuteTime": {
     "end_time": "2020-04-02T01:03:03.604681Z",
     "start_time": "2020-04-02T01:03:03.594313Z"
    }
   },
   "outputs": [],
   "source": [
    "df_15B16A_sal2 = df_15B16A_sal2.sort_values(by=['Date'])\n",
    "df_15B16A_sal2 = df_15B16A_sal2.reset_index(drop=True)\n",
    "\n",
    "df_16B17A_sal2 = df_16B17A_sal2.sort_values(by=['Date'])\n",
    "df_16B17A_sal2 = df_16B17A_sal2.reset_index(drop=True)\n",
    "\n",
    "df_17B18A_sal2 = df_17B18A_sal2.sort_values(by=['Date'])\n",
    "df_17B18A_sal2 = df_17B18A_sal2.reset_index(drop=True)\n",
    "\n",
    "df_18B19A_sal2 = df_18B19A_sal2.sort_values(by=['Date'])\n",
    "df_18B19A_sal2 = df_18B19A_sal2.reset_index(drop=True)\n",
    "\n",
    "df_19B20A_sal2 = df_19B20A_sal2.sort_values(by=['Date'])\n",
    "df_19B20A_sal2 = df_19B20A_sal2.reset_index(drop=True)\n"
   ]
  },
  {
   "cell_type": "code",
   "execution_count": 29,
   "metadata": {
    "ExecuteTime": {
     "end_time": "2020-04-02T01:03:03.617850Z",
     "start_time": "2020-04-02T01:03:03.606665Z"
    }
   },
   "outputs": [],
   "source": [
    "df_15B161718A_sal2 = pd.concat([df_15B16A_sal2, df_16B17A_sal2, df_17B18A_sal2], sort=False)\n",
    "df_15B161718A_sal2 = df_15B161718A_sal2.sort_values(by=['Date'])\n",
    "df_15B161718A_sal2 = df_15B161718A_sal2.reset_index(drop=True)"
   ]
  },
  {
   "cell_type": "code",
   "execution_count": 30,
   "metadata": {
    "ExecuteTime": {
     "end_time": "2020-04-02T01:03:03.623870Z",
     "start_time": "2020-04-02T01:03:03.619599Z"
    }
   },
   "outputs": [],
   "source": [
    "df_19B20A_sal2_test = df_19B20A_sal2.iloc[0:250]"
   ]
  },
  {
   "cell_type": "code",
   "execution_count": 31,
   "metadata": {
    "ExecuteTime": {
     "end_time": "2020-04-02T01:03:03.631433Z",
     "start_time": "2020-04-02T01:03:03.625823Z"
    }
   },
   "outputs": [],
   "source": [
    "y_19B20A_output = df_19B20A_sal2.outcome_by_HOME\n",
    "df_19B20A_output = df_19B20A_sal2.drop(['outcome_by_HOME', 'Date', 'HomeTeam', 'AwayTeam'], axis=1)\n"
   ]
  },
  {
   "cell_type": "code",
   "execution_count": 32,
   "metadata": {
    "ExecuteTime": {
     "end_time": "2020-04-02T01:03:03.641290Z",
     "start_time": "2020-04-02T01:03:03.633545Z"
    }
   },
   "outputs": [],
   "source": [
    "y_15B161718A = df_15B161718A_sal2.outcome_by_HOME\n",
    "y_18B19A = df_18B19A_sal2.outcome_by_HOME\n",
    "y_19B20A = df_19B20A_sal2_test.outcome_by_HOME\n",
    "df_15B161718A = df_15B161718A_sal2.drop(['outcome_by_HOME', 'Date', 'HomeTeam', 'AwayTeam'], axis=1)\n",
    "df_18B19A = df_18B19A_sal2.drop(['outcome_by_HOME', 'Date', 'HomeTeam', 'AwayTeam'], axis=1)\n",
    "df_19B20A = df_19B20A_sal2_test.drop(['outcome_by_HOME', 'Date', 'HomeTeam', 'AwayTeam'], axis=1)\n",
    "\n"
   ]
  },
  {
   "cell_type": "markdown",
   "metadata": {},
   "source": [
    "### Define Training/Valid/Test Datasets"
   ]
  },
  {
   "cell_type": "markdown",
   "metadata": {},
   "source": [
    "This is our training data set (2015/2016, 2016/2017, 2017/2018 seasons)"
   ]
  },
  {
   "cell_type": "code",
   "execution_count": 33,
   "metadata": {
    "ExecuteTime": {
     "end_time": "2020-04-02T01:03:03.646558Z",
     "start_time": "2020-04-02T01:03:03.643093Z"
    }
   },
   "outputs": [],
   "source": [
    "X_train = df_15B161718A\n",
    "y_train = y_15B161718A"
   ]
  },
  {
   "cell_type": "code",
   "execution_count": 34,
   "metadata": {
    "ExecuteTime": {
     "end_time": "2020-04-02T01:03:03.669767Z",
     "start_time": "2020-04-02T01:03:03.648899Z"
    }
   },
   "outputs": [
    {
     "data": {
      "text/html": [
       "<div>\n",
       "<style scoped>\n",
       "    .dataframe tbody tr th:only-of-type {\n",
       "        vertical-align: middle;\n",
       "    }\n",
       "\n",
       "    .dataframe tbody tr th {\n",
       "        vertical-align: top;\n",
       "    }\n",
       "\n",
       "    .dataframe thead th {\n",
       "        text-align: right;\n",
       "    }\n",
       "</style>\n",
       "<table border=\"1\" class=\"dataframe\">\n",
       "  <thead>\n",
       "    <tr style=\"text-align: right;\">\n",
       "      <th></th>\n",
       "      <th>ASeas_Pos</th>\n",
       "      <th>ASeas_Draw</th>\n",
       "      <th>ASeas_Goals_For</th>\n",
       "      <th>ASeas_Goal_Difference</th>\n",
       "      <th>ASeas_Pts</th>\n",
       "      <th>HSeas_Pos</th>\n",
       "      <th>HSeas_Draw</th>\n",
       "      <th>HSeas_Goals_For</th>\n",
       "      <th>HSeas_Goal_Difference</th>\n",
       "      <th>HSeas_Pts</th>\n",
       "      <th>A_Team_number</th>\n",
       "      <th>A_Av_Salary_Club</th>\n",
       "      <th>A_Draw</th>\n",
       "      <th>A_Goals_For</th>\n",
       "      <th>A_Goal_Difference</th>\n",
       "      <th>H_Team_number</th>\n",
       "      <th>H_Av_Salary_Club</th>\n",
       "      <th>H_Draw</th>\n",
       "      <th>H_Goals_For</th>\n",
       "      <th>H_Goal_Difference</th>\n",
       "      <th>Date</th>\n",
       "      <th>HomeTeam</th>\n",
       "      <th>AwayTeam</th>\n",
       "      <th>outcome_by_HOME</th>\n",
       "      <th>AVERAGE_ODD_WIN</th>\n",
       "      <th>AVERAGE_ODD_DRAW</th>\n",
       "      <th>AVERAGE_ODD_OPPONENT_WIN</th>\n",
       "      <th>year</th>\n",
       "      <th>month</th>\n",
       "      <th>RandomNumber</th>\n",
       "    </tr>\n",
       "  </thead>\n",
       "  <tbody>\n",
       "    <tr>\n",
       "      <th>245</th>\n",
       "      <td>0</td>\n",
       "      <td>0</td>\n",
       "      <td>0</td>\n",
       "      <td>0</td>\n",
       "      <td>0</td>\n",
       "      <td>14</td>\n",
       "      <td>6</td>\n",
       "      <td>56</td>\n",
       "      <td>-14</td>\n",
       "      <td>45</td>\n",
       "      <td>2</td>\n",
       "      <td>1.30</td>\n",
       "      <td>275</td>\n",
       "      <td>1117</td>\n",
       "      <td>-69</td>\n",
       "      <td>3</td>\n",
       "      <td>1.99</td>\n",
       "      <td>36</td>\n",
       "      <td>201</td>\n",
       "      <td>-64</td>\n",
       "      <td>2020-02-01</td>\n",
       "      <td>Bournemouth</td>\n",
       "      <td>Aston Villa</td>\n",
       "      <td>2.0</td>\n",
       "      <td>2.15</td>\n",
       "      <td>3.50</td>\n",
       "      <td>3.40</td>\n",
       "      <td>2020</td>\n",
       "      <td>2</td>\n",
       "      <td>1601</td>\n",
       "    </tr>\n",
       "    <tr>\n",
       "      <th>246</th>\n",
       "      <td>0</td>\n",
       "      <td>0</td>\n",
       "      <td>0</td>\n",
       "      <td>0</td>\n",
       "      <td>0</td>\n",
       "      <td>12</td>\n",
       "      <td>7</td>\n",
       "      <td>51</td>\n",
       "      <td>-2</td>\n",
       "      <td>49</td>\n",
       "      <td>20</td>\n",
       "      <td>0.62</td>\n",
       "      <td>36</td>\n",
       "      <td>128</td>\n",
       "      <td>-40</td>\n",
       "      <td>8</td>\n",
       "      <td>2.76</td>\n",
       "      <td>96</td>\n",
       "      <td>425</td>\n",
       "      <td>-139</td>\n",
       "      <td>2020-02-01</td>\n",
       "      <td>Crystal Palace</td>\n",
       "      <td>Sheffield United</td>\n",
       "      <td>0.0</td>\n",
       "      <td>3.10</td>\n",
       "      <td>3.10</td>\n",
       "      <td>2.50</td>\n",
       "      <td>2020</td>\n",
       "      <td>2</td>\n",
       "      <td>701</td>\n",
       "    </tr>\n",
       "    <tr>\n",
       "      <th>247</th>\n",
       "      <td>16</td>\n",
       "      <td>12</td>\n",
       "      <td>45</td>\n",
       "      <td>-20</td>\n",
       "      <td>39</td>\n",
       "      <td>2</td>\n",
       "      <td>7</td>\n",
       "      <td>89</td>\n",
       "      <td>67</td>\n",
       "      <td>97</td>\n",
       "      <td>21</td>\n",
       "      <td>2.67</td>\n",
       "      <td>214</td>\n",
       "      <td>937</td>\n",
       "      <td>-150</td>\n",
       "      <td>14</td>\n",
       "      <td>4.86</td>\n",
       "      <td>262</td>\n",
       "      <td>1774</td>\n",
       "      <td>728</td>\n",
       "      <td>2020-02-01</td>\n",
       "      <td>Liverpool</td>\n",
       "      <td>Southampton</td>\n",
       "      <td>2.0</td>\n",
       "      <td>1.27</td>\n",
       "      <td>5.80</td>\n",
       "      <td>11.00</td>\n",
       "      <td>2020</td>\n",
       "      <td>2</td>\n",
       "      <td>904</td>\n",
       "    </tr>\n",
       "    <tr>\n",
       "      <th>248</th>\n",
       "      <td>5</td>\n",
       "      <td>7</td>\n",
       "      <td>73</td>\n",
       "      <td>22</td>\n",
       "      <td>70</td>\n",
       "      <td>15</td>\n",
       "      <td>7</td>\n",
       "      <td>45</td>\n",
       "      <td>-23</td>\n",
       "      <td>40</td>\n",
       "      <td>1</td>\n",
       "      <td>4.85</td>\n",
       "      <td>260</td>\n",
       "      <td>1845</td>\n",
       "      <td>832</td>\n",
       "      <td>5</td>\n",
       "      <td>1.60</td>\n",
       "      <td>44</td>\n",
       "      <td>190</td>\n",
       "      <td>-107</td>\n",
       "      <td>2020-02-02</td>\n",
       "      <td>Burnley</td>\n",
       "      <td>Arsenal</td>\n",
       "      <td>1.0</td>\n",
       "      <td>3.75</td>\n",
       "      <td>3.50</td>\n",
       "      <td>2.00</td>\n",
       "      <td>2020</td>\n",
       "      <td>2</td>\n",
       "      <td>1</td>\n",
       "    </tr>\n",
       "    <tr>\n",
       "      <th>249</th>\n",
       "      <td>1</td>\n",
       "      <td>2</td>\n",
       "      <td>95</td>\n",
       "      <td>72</td>\n",
       "      <td>98</td>\n",
       "      <td>4</td>\n",
       "      <td>2</td>\n",
       "      <td>67</td>\n",
       "      <td>28</td>\n",
       "      <td>71</td>\n",
       "      <td>15</td>\n",
       "      <td>5.99</td>\n",
       "      <td>196</td>\n",
       "      <td>1374</td>\n",
       "      <td>399</td>\n",
       "      <td>25</td>\n",
       "      <td>3.52</td>\n",
       "      <td>257</td>\n",
       "      <td>1547</td>\n",
       "      <td>241</td>\n",
       "      <td>2020-02-02</td>\n",
       "      <td>Tottenham</td>\n",
       "      <td>Man City</td>\n",
       "      <td>2.0</td>\n",
       "      <td>5.80</td>\n",
       "      <td>4.33</td>\n",
       "      <td>1.55</td>\n",
       "      <td>2020</td>\n",
       "      <td>2</td>\n",
       "      <td>1326</td>\n",
       "    </tr>\n",
       "  </tbody>\n",
       "</table>\n",
       "</div>"
      ],
      "text/plain": [
       "     ASeas_Pos  ASeas_Draw  ASeas_Goals_For  ASeas_Goal_Difference  ASeas_Pts  \\\n",
       "245          0           0                0                      0          0   \n",
       "246          0           0                0                      0          0   \n",
       "247         16          12               45                    -20         39   \n",
       "248          5           7               73                     22         70   \n",
       "249          1           2               95                     72         98   \n",
       "\n",
       "     HSeas_Pos  HSeas_Draw  HSeas_Goals_For  HSeas_Goal_Difference  HSeas_Pts  \\\n",
       "245         14           6               56                    -14         45   \n",
       "246         12           7               51                     -2         49   \n",
       "247          2           7               89                     67         97   \n",
       "248         15           7               45                    -23         40   \n",
       "249          4           2               67                     28         71   \n",
       "\n",
       "     A_Team_number  A_Av_Salary_Club  A_Draw  A_Goals_For  A_Goal_Difference  \\\n",
       "245              2              1.30     275         1117                -69   \n",
       "246             20              0.62      36          128                -40   \n",
       "247             21              2.67     214          937               -150   \n",
       "248              1              4.85     260         1845                832   \n",
       "249             15              5.99     196         1374                399   \n",
       "\n",
       "     H_Team_number  H_Av_Salary_Club  H_Draw  H_Goals_For  H_Goal_Difference  \\\n",
       "245              3              1.99      36          201                -64   \n",
       "246              8              2.76      96          425               -139   \n",
       "247             14              4.86     262         1774                728   \n",
       "248              5              1.60      44          190               -107   \n",
       "249             25              3.52     257         1547                241   \n",
       "\n",
       "          Date        HomeTeam          AwayTeam  outcome_by_HOME  \\\n",
       "245 2020-02-01     Bournemouth       Aston Villa              2.0   \n",
       "246 2020-02-01  Crystal Palace  Sheffield United              0.0   \n",
       "247 2020-02-01       Liverpool       Southampton              2.0   \n",
       "248 2020-02-02         Burnley           Arsenal              1.0   \n",
       "249 2020-02-02       Tottenham          Man City              2.0   \n",
       "\n",
       "     AVERAGE_ODD_WIN  AVERAGE_ODD_DRAW  AVERAGE_ODD_OPPONENT_WIN  year  month  \\\n",
       "245             2.15              3.50                      3.40  2020      2   \n",
       "246             3.10              3.10                      2.50  2020      2   \n",
       "247             1.27              5.80                     11.00  2020      2   \n",
       "248             3.75              3.50                      2.00  2020      2   \n",
       "249             5.80              4.33                      1.55  2020      2   \n",
       "\n",
       "     RandomNumber  \n",
       "245          1601  \n",
       "246           701  \n",
       "247           904  \n",
       "248             1  \n",
       "249          1326  "
      ]
     },
     "execution_count": 34,
     "metadata": {},
     "output_type": "execute_result"
    }
   ],
   "source": [
    "df_19B20A_sal2_test.tail()"
   ]
  },
  {
   "cell_type": "markdown",
   "metadata": {},
   "source": [
    "df_18B19A = validation data; df_19B20A = test data (with y_18B19A and y_19B20A being the corresponding results)"
   ]
  },
  {
   "cell_type": "code",
   "execution_count": 35,
   "metadata": {
    "ExecuteTime": {
     "end_time": "2020-04-02T01:03:03.675642Z",
     "start_time": "2020-04-02T01:03:03.672054Z"
    }
   },
   "outputs": [],
   "source": [
    "X_valid = df_18B19A\n",
    "y_valid = y_18B19A\n",
    "X_test = df_19B20A\n",
    "y_test = y_19B20A"
   ]
  },
  {
   "cell_type": "markdown",
   "metadata": {},
   "source": [
    "DMatrix is a internal data structure that used by XGBoost which is optimized for both memory efficiency and training speed. You can construct DMatrix from numpy.arrays"
   ]
  },
  {
   "cell_type": "code",
   "execution_count": 36,
   "metadata": {
    "ExecuteTime": {
     "end_time": "2020-04-02T01:03:03.688768Z",
     "start_time": "2020-04-02T01:03:03.678376Z"
    }
   },
   "outputs": [
    {
     "name": "stderr",
     "output_type": "stream",
     "text": [
      "/Users/fionastrobridge/opt/anaconda3/envs/insight/lib/python3.6/site-packages/xgboost/core.py:587: FutureWarning: Series.base is deprecated and will be removed in a future version\n",
      "  if getattr(data, 'base', None) is not None and \\\n",
      "/Users/fionastrobridge/opt/anaconda3/envs/insight/lib/python3.6/site-packages/xgboost/core.py:588: FutureWarning: Series.base is deprecated and will be removed in a future version\n",
      "  data.base is not None and isinstance(data, np.ndarray) \\\n"
     ]
    }
   ],
   "source": [
    "dtrain = xgb.DMatrix(X_train, label=y_train)\n",
    "dvalid = xgb.DMatrix(X_valid, label=y_valid)\n",
    "dtest = xgb.DMatrix(X_test, label=y_test)"
   ]
  },
  {
   "cell_type": "code",
   "execution_count": 37,
   "metadata": {
    "ExecuteTime": {
     "end_time": "2020-04-02T01:03:03.699195Z",
     "start_time": "2020-04-02T01:03:03.692259Z"
    },
    "scrolled": true
   },
   "outputs": [
    {
     "data": {
      "text/plain": [
       "245    2.0\n",
       "246    0.0\n",
       "247    2.0\n",
       "248    1.0\n",
       "249    2.0\n",
       "Name: outcome_by_HOME, dtype: float64"
      ]
     },
     "execution_count": 37,
     "metadata": {},
     "output_type": "execute_result"
    }
   ],
   "source": [
    "y_test.tail()"
   ]
  },
  {
   "cell_type": "code",
   "execution_count": 38,
   "metadata": {
    "ExecuteTime": {
     "end_time": "2020-04-02T01:03:03.718163Z",
     "start_time": "2020-04-02T01:03:03.700944Z"
    }
   },
   "outputs": [
    {
     "data": {
      "text/html": [
       "<div>\n",
       "<style scoped>\n",
       "    .dataframe tbody tr th:only-of-type {\n",
       "        vertical-align: middle;\n",
       "    }\n",
       "\n",
       "    .dataframe tbody tr th {\n",
       "        vertical-align: top;\n",
       "    }\n",
       "\n",
       "    .dataframe thead th {\n",
       "        text-align: right;\n",
       "    }\n",
       "</style>\n",
       "<table border=\"1\" class=\"dataframe\">\n",
       "  <thead>\n",
       "    <tr style=\"text-align: right;\">\n",
       "      <th></th>\n",
       "      <th>ASeas_Pos</th>\n",
       "      <th>ASeas_Draw</th>\n",
       "      <th>ASeas_Goals_For</th>\n",
       "      <th>ASeas_Goal_Difference</th>\n",
       "      <th>ASeas_Pts</th>\n",
       "      <th>HSeas_Pos</th>\n",
       "      <th>HSeas_Draw</th>\n",
       "      <th>HSeas_Goals_For</th>\n",
       "      <th>HSeas_Goal_Difference</th>\n",
       "      <th>HSeas_Pts</th>\n",
       "      <th>A_Team_number</th>\n",
       "      <th>A_Av_Salary_Club</th>\n",
       "      <th>A_Draw</th>\n",
       "      <th>A_Goals_For</th>\n",
       "      <th>A_Goal_Difference</th>\n",
       "      <th>H_Team_number</th>\n",
       "      <th>H_Av_Salary_Club</th>\n",
       "      <th>H_Draw</th>\n",
       "      <th>H_Goals_For</th>\n",
       "      <th>H_Goal_Difference</th>\n",
       "      <th>AVERAGE_ODD_WIN</th>\n",
       "      <th>AVERAGE_ODD_DRAW</th>\n",
       "      <th>AVERAGE_ODD_OPPONENT_WIN</th>\n",
       "      <th>year</th>\n",
       "      <th>month</th>\n",
       "      <th>RandomNumber</th>\n",
       "    </tr>\n",
       "  </thead>\n",
       "  <tbody>\n",
       "    <tr>\n",
       "      <th>245</th>\n",
       "      <td>0</td>\n",
       "      <td>0</td>\n",
       "      <td>0</td>\n",
       "      <td>0</td>\n",
       "      <td>0</td>\n",
       "      <td>14</td>\n",
       "      <td>6</td>\n",
       "      <td>56</td>\n",
       "      <td>-14</td>\n",
       "      <td>45</td>\n",
       "      <td>2</td>\n",
       "      <td>1.30</td>\n",
       "      <td>275</td>\n",
       "      <td>1117</td>\n",
       "      <td>-69</td>\n",
       "      <td>3</td>\n",
       "      <td>1.99</td>\n",
       "      <td>36</td>\n",
       "      <td>201</td>\n",
       "      <td>-64</td>\n",
       "      <td>2.15</td>\n",
       "      <td>3.50</td>\n",
       "      <td>3.40</td>\n",
       "      <td>2020</td>\n",
       "      <td>2</td>\n",
       "      <td>1601</td>\n",
       "    </tr>\n",
       "    <tr>\n",
       "      <th>246</th>\n",
       "      <td>0</td>\n",
       "      <td>0</td>\n",
       "      <td>0</td>\n",
       "      <td>0</td>\n",
       "      <td>0</td>\n",
       "      <td>12</td>\n",
       "      <td>7</td>\n",
       "      <td>51</td>\n",
       "      <td>-2</td>\n",
       "      <td>49</td>\n",
       "      <td>20</td>\n",
       "      <td>0.62</td>\n",
       "      <td>36</td>\n",
       "      <td>128</td>\n",
       "      <td>-40</td>\n",
       "      <td>8</td>\n",
       "      <td>2.76</td>\n",
       "      <td>96</td>\n",
       "      <td>425</td>\n",
       "      <td>-139</td>\n",
       "      <td>3.10</td>\n",
       "      <td>3.10</td>\n",
       "      <td>2.50</td>\n",
       "      <td>2020</td>\n",
       "      <td>2</td>\n",
       "      <td>701</td>\n",
       "    </tr>\n",
       "    <tr>\n",
       "      <th>247</th>\n",
       "      <td>16</td>\n",
       "      <td>12</td>\n",
       "      <td>45</td>\n",
       "      <td>-20</td>\n",
       "      <td>39</td>\n",
       "      <td>2</td>\n",
       "      <td>7</td>\n",
       "      <td>89</td>\n",
       "      <td>67</td>\n",
       "      <td>97</td>\n",
       "      <td>21</td>\n",
       "      <td>2.67</td>\n",
       "      <td>214</td>\n",
       "      <td>937</td>\n",
       "      <td>-150</td>\n",
       "      <td>14</td>\n",
       "      <td>4.86</td>\n",
       "      <td>262</td>\n",
       "      <td>1774</td>\n",
       "      <td>728</td>\n",
       "      <td>1.27</td>\n",
       "      <td>5.80</td>\n",
       "      <td>11.00</td>\n",
       "      <td>2020</td>\n",
       "      <td>2</td>\n",
       "      <td>904</td>\n",
       "    </tr>\n",
       "    <tr>\n",
       "      <th>248</th>\n",
       "      <td>5</td>\n",
       "      <td>7</td>\n",
       "      <td>73</td>\n",
       "      <td>22</td>\n",
       "      <td>70</td>\n",
       "      <td>15</td>\n",
       "      <td>7</td>\n",
       "      <td>45</td>\n",
       "      <td>-23</td>\n",
       "      <td>40</td>\n",
       "      <td>1</td>\n",
       "      <td>4.85</td>\n",
       "      <td>260</td>\n",
       "      <td>1845</td>\n",
       "      <td>832</td>\n",
       "      <td>5</td>\n",
       "      <td>1.60</td>\n",
       "      <td>44</td>\n",
       "      <td>190</td>\n",
       "      <td>-107</td>\n",
       "      <td>3.75</td>\n",
       "      <td>3.50</td>\n",
       "      <td>2.00</td>\n",
       "      <td>2020</td>\n",
       "      <td>2</td>\n",
       "      <td>1</td>\n",
       "    </tr>\n",
       "    <tr>\n",
       "      <th>249</th>\n",
       "      <td>1</td>\n",
       "      <td>2</td>\n",
       "      <td>95</td>\n",
       "      <td>72</td>\n",
       "      <td>98</td>\n",
       "      <td>4</td>\n",
       "      <td>2</td>\n",
       "      <td>67</td>\n",
       "      <td>28</td>\n",
       "      <td>71</td>\n",
       "      <td>15</td>\n",
       "      <td>5.99</td>\n",
       "      <td>196</td>\n",
       "      <td>1374</td>\n",
       "      <td>399</td>\n",
       "      <td>25</td>\n",
       "      <td>3.52</td>\n",
       "      <td>257</td>\n",
       "      <td>1547</td>\n",
       "      <td>241</td>\n",
       "      <td>5.80</td>\n",
       "      <td>4.33</td>\n",
       "      <td>1.55</td>\n",
       "      <td>2020</td>\n",
       "      <td>2</td>\n",
       "      <td>1326</td>\n",
       "    </tr>\n",
       "  </tbody>\n",
       "</table>\n",
       "</div>"
      ],
      "text/plain": [
       "     ASeas_Pos  ASeas_Draw  ASeas_Goals_For  ASeas_Goal_Difference  ASeas_Pts  \\\n",
       "245          0           0                0                      0          0   \n",
       "246          0           0                0                      0          0   \n",
       "247         16          12               45                    -20         39   \n",
       "248          5           7               73                     22         70   \n",
       "249          1           2               95                     72         98   \n",
       "\n",
       "     HSeas_Pos  HSeas_Draw  HSeas_Goals_For  HSeas_Goal_Difference  HSeas_Pts  \\\n",
       "245         14           6               56                    -14         45   \n",
       "246         12           7               51                     -2         49   \n",
       "247          2           7               89                     67         97   \n",
       "248         15           7               45                    -23         40   \n",
       "249          4           2               67                     28         71   \n",
       "\n",
       "     A_Team_number  A_Av_Salary_Club  A_Draw  A_Goals_For  A_Goal_Difference  \\\n",
       "245              2              1.30     275         1117                -69   \n",
       "246             20              0.62      36          128                -40   \n",
       "247             21              2.67     214          937               -150   \n",
       "248              1              4.85     260         1845                832   \n",
       "249             15              5.99     196         1374                399   \n",
       "\n",
       "     H_Team_number  H_Av_Salary_Club  H_Draw  H_Goals_For  H_Goal_Difference  \\\n",
       "245              3              1.99      36          201                -64   \n",
       "246              8              2.76      96          425               -139   \n",
       "247             14              4.86     262         1774                728   \n",
       "248              5              1.60      44          190               -107   \n",
       "249             25              3.52     257         1547                241   \n",
       "\n",
       "     AVERAGE_ODD_WIN  AVERAGE_ODD_DRAW  AVERAGE_ODD_OPPONENT_WIN  year  month  \\\n",
       "245             2.15              3.50                      3.40  2020      2   \n",
       "246             3.10              3.10                      2.50  2020      2   \n",
       "247             1.27              5.80                     11.00  2020      2   \n",
       "248             3.75              3.50                      2.00  2020      2   \n",
       "249             5.80              4.33                      1.55  2020      2   \n",
       "\n",
       "     RandomNumber  \n",
       "245          1601  \n",
       "246           701  \n",
       "247           904  \n",
       "248             1  \n",
       "249          1326  "
      ]
     },
     "execution_count": 38,
     "metadata": {},
     "output_type": "execute_result"
    }
   ],
   "source": [
    "X_test.tail()"
   ]
  },
  {
   "cell_type": "markdown",
   "metadata": {},
   "source": [
    "## Modelling with RF and Log Reg and Parameter Tuning"
   ]
  },
  {
   "cell_type": "markdown",
   "metadata": {},
   "source": [
    "### Hyperparameter Optimization Random Forest: Grid Search"
   ]
  },
  {
   "cell_type": "code",
   "execution_count": 39,
   "metadata": {
    "ExecuteTime": {
     "end_time": "2020-04-02T01:03:03.725632Z",
     "start_time": "2020-04-02T01:03:03.720467Z"
    }
   },
   "outputs": [],
   "source": [
    "def rmse(x,y): return np.sqrt(((x-y)**2).mean())\n",
    "def print_score(clf, X_train, y_train, X_valid, y_valid):\n",
    "    res = [rmse(clf.predict(X_train), y_train),\n",
    "           rmse(clf.predict(X_valid), y_valid),\n",
    "           clf.score(X_train, y_train), clf.score(X_valid, y_valid)]\n",
    "    if hasattr(clf, 'oob_score_'): res.append(clf.oob_score_)\n",
    "    print(res)"
   ]
  },
  {
   "cell_type": "code",
   "execution_count": 40,
   "metadata": {
    "ExecuteTime": {
     "end_time": "2020-04-02T01:03:03.744789Z",
     "start_time": "2020-04-02T01:03:03.727877Z"
    }
   },
   "outputs": [
    {
     "data": {
      "text/html": [
       "<div>\n",
       "<style scoped>\n",
       "    .dataframe tbody tr th:only-of-type {\n",
       "        vertical-align: middle;\n",
       "    }\n",
       "\n",
       "    .dataframe tbody tr th {\n",
       "        vertical-align: top;\n",
       "    }\n",
       "\n",
       "    .dataframe thead th {\n",
       "        text-align: right;\n",
       "    }\n",
       "</style>\n",
       "<table border=\"1\" class=\"dataframe\">\n",
       "  <thead>\n",
       "    <tr style=\"text-align: right;\">\n",
       "      <th></th>\n",
       "      <th>ASeas_Pos</th>\n",
       "      <th>ASeas_Draw</th>\n",
       "      <th>ASeas_Goals_For</th>\n",
       "      <th>ASeas_Goal_Difference</th>\n",
       "      <th>ASeas_Pts</th>\n",
       "      <th>HSeas_Pos</th>\n",
       "      <th>HSeas_Draw</th>\n",
       "      <th>HSeas_Goals_For</th>\n",
       "      <th>HSeas_Goal_Difference</th>\n",
       "      <th>HSeas_Pts</th>\n",
       "      <th>A_Team_number</th>\n",
       "      <th>A_Av_Salary_Club</th>\n",
       "      <th>A_Draw</th>\n",
       "      <th>A_Goals_For</th>\n",
       "      <th>A_Goal_Difference</th>\n",
       "      <th>H_Team_number</th>\n",
       "      <th>H_Av_Salary_Club</th>\n",
       "      <th>H_Draw</th>\n",
       "      <th>H_Goals_For</th>\n",
       "      <th>H_Goal_Difference</th>\n",
       "      <th>AVERAGE_ODD_WIN</th>\n",
       "      <th>AVERAGE_ODD_DRAW</th>\n",
       "      <th>AVERAGE_ODD_OPPONENT_WIN</th>\n",
       "      <th>year</th>\n",
       "      <th>month</th>\n",
       "      <th>RandomNumber</th>\n",
       "    </tr>\n",
       "  </thead>\n",
       "  <tbody>\n",
       "    <tr>\n",
       "      <th>0</th>\n",
       "      <td>9</td>\n",
       "      <td>11</td>\n",
       "      <td>56</td>\n",
       "      <td>-4</td>\n",
       "      <td>47</td>\n",
       "      <td>2</td>\n",
       "      <td>6</td>\n",
       "      <td>68</td>\n",
       "      <td>40</td>\n",
       "      <td>81</td>\n",
       "      <td>13</td>\n",
       "      <td>2.71</td>\n",
       "      <td>136</td>\n",
       "      <td>623</td>\n",
       "      <td>-95</td>\n",
       "      <td>16</td>\n",
       "      <td>6.53</td>\n",
       "      <td>224</td>\n",
       "      <td>1989</td>\n",
       "      <td>1060</td>\n",
       "      <td>1.57</td>\n",
       "      <td>3.8</td>\n",
       "      <td>6.00</td>\n",
       "      <td>2018</td>\n",
       "      <td>8</td>\n",
       "      <td>1115</td>\n",
       "    </tr>\n",
       "    <tr>\n",
       "      <th>1</th>\n",
       "      <td>0</td>\n",
       "      <td>0</td>\n",
       "      <td>0</td>\n",
       "      <td>0</td>\n",
       "      <td>0</td>\n",
       "      <td>12</td>\n",
       "      <td>11</td>\n",
       "      <td>45</td>\n",
       "      <td>-16</td>\n",
       "      <td>44</td>\n",
       "      <td>6</td>\n",
       "      <td>0.96</td>\n",
       "      <td>13</td>\n",
       "      <td>66</td>\n",
       "      <td>-77</td>\n",
       "      <td>3</td>\n",
       "      <td>1.99</td>\n",
       "      <td>36</td>\n",
       "      <td>201</td>\n",
       "      <td>-64</td>\n",
       "      <td>1.91</td>\n",
       "      <td>3.5</td>\n",
       "      <td>4.00</td>\n",
       "      <td>2018</td>\n",
       "      <td>8</td>\n",
       "      <td>719</td>\n",
       "    </tr>\n",
       "    <tr>\n",
       "      <th>2</th>\n",
       "      <td>3</td>\n",
       "      <td>8</td>\n",
       "      <td>74</td>\n",
       "      <td>38</td>\n",
       "      <td>77</td>\n",
       "      <td>10</td>\n",
       "      <td>8</td>\n",
       "      <td>39</td>\n",
       "      <td>-8</td>\n",
       "      <td>44</td>\n",
       "      <td>25</td>\n",
       "      <td>3.52</td>\n",
       "      <td>257</td>\n",
       "      <td>1547</td>\n",
       "      <td>241</td>\n",
       "      <td>18</td>\n",
       "      <td>1.65</td>\n",
       "      <td>234</td>\n",
       "      <td>1249</td>\n",
       "      <td>14</td>\n",
       "      <td>3.80</td>\n",
       "      <td>3.2</td>\n",
       "      <td>2.05</td>\n",
       "      <td>2018</td>\n",
       "      <td>8</td>\n",
       "      <td>479</td>\n",
       "    </tr>\n",
       "    <tr>\n",
       "      <th>3</th>\n",
       "      <td>8</td>\n",
       "      <td>10</td>\n",
       "      <td>44</td>\n",
       "      <td>-14</td>\n",
       "      <td>49</td>\n",
       "      <td>0</td>\n",
       "      <td>0</td>\n",
       "      <td>0</td>\n",
       "      <td>0</td>\n",
       "      <td>0</td>\n",
       "      <td>9</td>\n",
       "      <td>3.25</td>\n",
       "      <td>296</td>\n",
       "      <td>1357</td>\n",
       "      <td>46</td>\n",
       "      <td>29</td>\n",
       "      <td>1.76</td>\n",
       "      <td>49</td>\n",
       "      <td>203</td>\n",
       "      <td>-124</td>\n",
       "      <td>2.30</td>\n",
       "      <td>3.2</td>\n",
       "      <td>3.20</td>\n",
       "      <td>2018</td>\n",
       "      <td>8</td>\n",
       "      <td>766</td>\n",
       "    </tr>\n",
       "    <tr>\n",
       "      <th>4</th>\n",
       "      <td>11</td>\n",
       "      <td>11</td>\n",
       "      <td>45</td>\n",
       "      <td>-10</td>\n",
       "      <td>44</td>\n",
       "      <td>0</td>\n",
       "      <td>0</td>\n",
       "      <td>0</td>\n",
       "      <td>0</td>\n",
       "      <td>0</td>\n",
       "      <td>8</td>\n",
       "      <td>2.76</td>\n",
       "      <td>96</td>\n",
       "      <td>425</td>\n",
       "      <td>-139</td>\n",
       "      <td>10</td>\n",
       "      <td>1.73</td>\n",
       "      <td>141</td>\n",
       "      <td>604</td>\n",
       "      <td>-174</td>\n",
       "      <td>2.45</td>\n",
       "      <td>3.3</td>\n",
       "      <td>2.80</td>\n",
       "      <td>2018</td>\n",
       "      <td>8</td>\n",
       "      <td>1715</td>\n",
       "    </tr>\n",
       "  </tbody>\n",
       "</table>\n",
       "</div>"
      ],
      "text/plain": [
       "   ASeas_Pos  ASeas_Draw  ASeas_Goals_For  ASeas_Goal_Difference  ASeas_Pts  \\\n",
       "0          9          11               56                     -4         47   \n",
       "1          0           0                0                      0          0   \n",
       "2          3           8               74                     38         77   \n",
       "3          8          10               44                    -14         49   \n",
       "4         11          11               45                    -10         44   \n",
       "\n",
       "   HSeas_Pos  HSeas_Draw  HSeas_Goals_For  HSeas_Goal_Difference  HSeas_Pts  \\\n",
       "0          2           6               68                     40         81   \n",
       "1         12          11               45                    -16         44   \n",
       "2         10           8               39                     -8         44   \n",
       "3          0           0                0                      0          0   \n",
       "4          0           0                0                      0          0   \n",
       "\n",
       "   A_Team_number  A_Av_Salary_Club  A_Draw  A_Goals_For  A_Goal_Difference  \\\n",
       "0             13              2.71     136          623                -95   \n",
       "1              6              0.96      13           66                -77   \n",
       "2             25              3.52     257         1547                241   \n",
       "3              9              3.25     296         1357                 46   \n",
       "4              8              2.76      96          425               -139   \n",
       "\n",
       "   H_Team_number  H_Av_Salary_Club  H_Draw  H_Goals_For  H_Goal_Difference  \\\n",
       "0             16              6.53     224         1989               1060   \n",
       "1              3              1.99      36          201                -64   \n",
       "2             18              1.65     234         1249                 14   \n",
       "3             29              1.76      49          203               -124   \n",
       "4             10              1.73     141          604               -174   \n",
       "\n",
       "   AVERAGE_ODD_WIN  AVERAGE_ODD_DRAW  AVERAGE_ODD_OPPONENT_WIN  year  month  \\\n",
       "0             1.57               3.8                      6.00  2018      8   \n",
       "1             1.91               3.5                      4.00  2018      8   \n",
       "2             3.80               3.2                      2.05  2018      8   \n",
       "3             2.30               3.2                      3.20  2018      8   \n",
       "4             2.45               3.3                      2.80  2018      8   \n",
       "\n",
       "   RandomNumber  \n",
       "0          1115  \n",
       "1           719  \n",
       "2           479  \n",
       "3           766  \n",
       "4          1715  "
      ]
     },
     "execution_count": 40,
     "metadata": {},
     "output_type": "execute_result"
    }
   ],
   "source": [
    "X_valid.head()"
   ]
  },
  {
   "cell_type": "code",
   "execution_count": 41,
   "metadata": {
    "ExecuteTime": {
     "end_time": "2020-04-02T01:03:04.173121Z",
     "start_time": "2020-04-02T01:03:03.747730Z"
    }
   },
   "outputs": [
    {
     "name": "stdout",
     "output_type": "stream",
     "text": [
      "[0.0, 0.9933992677987828, 1.0, 0.5578947368421052]\n"
     ]
    }
   ],
   "source": [
    "clf_default = RandomForestClassifier(random_state=1)\n",
    "clf_default.fit(X_train, y_train)\n",
    "print_score(clf_default, X_train, y_train, X_valid, y_valid)"
   ]
  },
  {
   "cell_type": "code",
   "execution_count": 42,
   "metadata": {
    "ExecuteTime": {
     "end_time": "2020-04-02T01:06:55.195865Z",
     "start_time": "2020-04-02T01:03:04.177488Z"
    },
    "scrolled": false
   },
   "outputs": [
    {
     "name": "stdout",
     "output_type": "stream",
     "text": [
      "Fitting 4 folds for each of 900 candidates, totalling 3600 fits\n"
     ]
    },
    {
     "name": "stderr",
     "output_type": "stream",
     "text": [
      "[Parallel(n_jobs=-1)]: Using backend LokyBackend with 4 concurrent workers.\n",
      "[Parallel(n_jobs=-1)]: Done  42 tasks      | elapsed:    5.4s\n",
      "[Parallel(n_jobs=-1)]: Done 192 tasks      | elapsed:   12.7s\n",
      "[Parallel(n_jobs=-1)]: Done 442 tasks      | elapsed:   27.1s\n",
      "[Parallel(n_jobs=-1)]: Done 792 tasks      | elapsed:   49.7s\n",
      "[Parallel(n_jobs=-1)]: Done 1242 tasks      | elapsed:  1.4min\n",
      "[Parallel(n_jobs=-1)]: Done 1792 tasks      | elapsed:  2.0min\n",
      "[Parallel(n_jobs=-1)]: Done 2442 tasks      | elapsed:  2.6min\n",
      "[Parallel(n_jobs=-1)]: Done 3192 tasks      | elapsed:  3.4min\n",
      "[Parallel(n_jobs=-1)]: Done 3600 out of 3600 | elapsed:  3.8min finished\n"
     ]
    }
   ],
   "source": [
    "forest = RandomForestClassifier(random_state=1)\n",
    "\n",
    "n_estimators = [50, 100, 150]\n",
    "max_depth = [1, 5, 10, 15, 20, 25]\n",
    "min_samples_split = [1, 2, 3, 4, 5]\n",
    "min_samples_leaf = [1, 6, 12, 18, 24] \n",
    "bootstrap = ['False', 'True'] \n",
    "\n",
    "hyperF = dict(n_estimators = n_estimators, max_depth = max_depth,  \n",
    "              min_samples_split = min_samples_split, \n",
    "              min_samples_leaf = min_samples_leaf,\n",
    "              bootstrap = bootstrap)\n",
    "\n",
    "gridF = GridSearchCV(forest, hyperF, verbose = 1, cv=4, n_jobs = -1, scoring='accuracy')\n",
    "bestF = gridF.fit(X_train, y_train)"
   ]
  },
  {
   "cell_type": "code",
   "execution_count": 43,
   "metadata": {
    "ExecuteTime": {
     "end_time": "2020-04-02T01:06:55.205122Z",
     "start_time": "2020-04-02T01:06:55.198359Z"
    }
   },
   "outputs": [
    {
     "name": "stdout",
     "output_type": "stream",
     "text": [
      "Best: 0.5385964912280702 using {'bootstrap': 'False', 'max_depth': 5, 'min_samples_leaf': 1, 'min_samples_split': 2, 'n_estimators': 100} \n",
      "\n"
     ]
    }
   ],
   "source": [
    "print(f'Best: {bestF.best_score_} using {bestF.best_params_}','\\n')\n",
    "\n"
   ]
  },
  {
   "cell_type": "code",
   "execution_count": 44,
   "metadata": {
    "ExecuteTime": {
     "end_time": "2020-04-02T01:06:55.894948Z",
     "start_time": "2020-04-02T01:06:55.209231Z"
    }
   },
   "outputs": [
    {
     "name": "stdout",
     "output_type": "stream",
     "text": [
      "[0.9403246919632545, 1.0234101919819987, 0.6026315789473684, 0.5842105263157895]\n"
     ]
    }
   ],
   "source": [
    "clf = RandomForestClassifier(random_state=1, n_jobs=-1, max_depth=5, min_samples_leaf=12, min_samples_split=3, n_estimators=100, bootstrap='False')\n",
    "clf.fit(X_train, y_train)\n",
    "print_score(clf, X_train, y_train, X_valid, y_valid)\n",
    "\n"
   ]
  },
  {
   "cell_type": "markdown",
   "metadata": {},
   "source": [
    "### Logistic Regression Parameter Tuning"
   ]
  },
  {
   "cell_type": "code",
   "execution_count": 45,
   "metadata": {
    "ExecuteTime": {
     "end_time": "2020-04-02T01:06:55.958605Z",
     "start_time": "2020-04-02T01:06:55.899179Z"
    }
   },
   "outputs": [
    {
     "name": "stdout",
     "output_type": "stream",
     "text": [
      "0.5350877192982456\n",
      "0.5842105263157895\n"
     ]
    },
    {
     "name": "stderr",
     "output_type": "stream",
     "text": [
      "/Users/fionastrobridge/opt/anaconda3/envs/insight/lib/python3.6/site-packages/sklearn/linear_model/_logistic.py:940: ConvergenceWarning: lbfgs failed to converge (status=1):\n",
      "STOP: TOTAL NO. of ITERATIONS REACHED LIMIT.\n",
      "\n",
      "Increase the number of iterations (max_iter) or scale the data as shown in:\n",
      "    https://scikit-learn.org/stable/modules/preprocessing.html\n",
      "Please also refer to the documentation for alternative solver options:\n",
      "    https://scikit-learn.org/stable/modules/linear_model.html#logistic-regression\n",
      "  extra_warning_msg=_LOGISTIC_SOLVER_CONVERGENCE_MSG)\n"
     ]
    }
   ],
   "source": [
    "clf_LR_default = LogisticRegression(random_state=1).fit(X_train, y_train)\n",
    "print(clf_LR_default.score(X_train, y_train))\n",
    "\n",
    "predictions = clf_LR_default.predict(X_valid)\n",
    "print(accuracy_score(y_valid, predictions))\n"
   ]
  },
  {
   "cell_type": "code",
   "execution_count": 46,
   "metadata": {
    "ExecuteTime": {
     "end_time": "2020-04-02T01:07:54.022893Z",
     "start_time": "2020-04-02T01:06:55.960529Z"
    }
   },
   "outputs": [
    {
     "name": "stderr",
     "output_type": "stream",
     "text": [
      "/Users/fionastrobridge/opt/anaconda3/envs/insight/lib/python3.6/site-packages/sklearn/utils/optimize.py:212: ConvergenceWarning: newton-cg failed to converge. Increase the number of iterations.\n",
      "  \"number of iterations.\", ConvergenceWarning)\n",
      "/Users/fionastrobridge/opt/anaconda3/envs/insight/lib/python3.6/site-packages/scipy/optimize/linesearch.py:466: LineSearchWarning: The line search algorithm did not converge\n",
      "  warn('The line search algorithm did not converge', LineSearchWarning)\n",
      "/Users/fionastrobridge/opt/anaconda3/envs/insight/lib/python3.6/site-packages/scipy/optimize/linesearch.py:314: LineSearchWarning: The line search algorithm did not converge\n",
      "  warn('The line search algorithm did not converge', LineSearchWarning)\n",
      "/Users/fionastrobridge/opt/anaconda3/envs/insight/lib/python3.6/site-packages/scipy/optimize/linesearch.py:466: LineSearchWarning: The line search algorithm did not converge\n",
      "  warn('The line search algorithm did not converge', LineSearchWarning)\n",
      "/Users/fionastrobridge/opt/anaconda3/envs/insight/lib/python3.6/site-packages/scipy/optimize/linesearch.py:314: LineSearchWarning: The line search algorithm did not converge\n",
      "  warn('The line search algorithm did not converge', LineSearchWarning)\n",
      "/Users/fionastrobridge/opt/anaconda3/envs/insight/lib/python3.6/site-packages/scipy/optimize/linesearch.py:466: LineSearchWarning: The line search algorithm did not converge\n",
      "  warn('The line search algorithm did not converge', LineSearchWarning)\n",
      "/Users/fionastrobridge/opt/anaconda3/envs/insight/lib/python3.6/site-packages/scipy/optimize/linesearch.py:314: LineSearchWarning: The line search algorithm did not converge\n",
      "  warn('The line search algorithm did not converge', LineSearchWarning)\n",
      "/Users/fionastrobridge/opt/anaconda3/envs/insight/lib/python3.6/site-packages/scipy/optimize/linesearch.py:466: LineSearchWarning: The line search algorithm did not converge\n",
      "  warn('The line search algorithm did not converge', LineSearchWarning)\n",
      "/Users/fionastrobridge/opt/anaconda3/envs/insight/lib/python3.6/site-packages/scipy/optimize/linesearch.py:314: LineSearchWarning: The line search algorithm did not converge\n",
      "  warn('The line search algorithm did not converge', LineSearchWarning)\n",
      "/Users/fionastrobridge/opt/anaconda3/envs/insight/lib/python3.6/site-packages/scipy/optimize/linesearch.py:466: LineSearchWarning: The line search algorithm did not converge\n",
      "  warn('The line search algorithm did not converge', LineSearchWarning)\n",
      "/Users/fionastrobridge/opt/anaconda3/envs/insight/lib/python3.6/site-packages/scipy/optimize/linesearch.py:314: LineSearchWarning: The line search algorithm did not converge\n",
      "  warn('The line search algorithm did not converge', LineSearchWarning)\n",
      "/Users/fionastrobridge/opt/anaconda3/envs/insight/lib/python3.6/site-packages/scipy/optimize/linesearch.py:466: LineSearchWarning: The line search algorithm did not converge\n",
      "  warn('The line search algorithm did not converge', LineSearchWarning)\n",
      "/Users/fionastrobridge/opt/anaconda3/envs/insight/lib/python3.6/site-packages/scipy/optimize/linesearch.py:314: LineSearchWarning: The line search algorithm did not converge\n",
      "  warn('The line search algorithm did not converge', LineSearchWarning)\n",
      "/Users/fionastrobridge/opt/anaconda3/envs/insight/lib/python3.6/site-packages/scipy/optimize/linesearch.py:466: LineSearchWarning: The line search algorithm did not converge\n",
      "  warn('The line search algorithm did not converge', LineSearchWarning)\n",
      "/Users/fionastrobridge/opt/anaconda3/envs/insight/lib/python3.6/site-packages/scipy/optimize/linesearch.py:314: LineSearchWarning: The line search algorithm did not converge\n",
      "  warn('The line search algorithm did not converge', LineSearchWarning)\n",
      "/Users/fionastrobridge/opt/anaconda3/envs/insight/lib/python3.6/site-packages/scipy/optimize/linesearch.py:466: LineSearchWarning: The line search algorithm did not converge\n",
      "  warn('The line search algorithm did not converge', LineSearchWarning)\n",
      "/Users/fionastrobridge/opt/anaconda3/envs/insight/lib/python3.6/site-packages/scipy/optimize/linesearch.py:314: LineSearchWarning: The line search algorithm did not converge\n",
      "  warn('The line search algorithm did not converge', LineSearchWarning)\n",
      "/Users/fionastrobridge/opt/anaconda3/envs/insight/lib/python3.6/site-packages/sklearn/utils/optimize.py:212: ConvergenceWarning: newton-cg failed to converge. Increase the number of iterations.\n",
      "  \"number of iterations.\", ConvergenceWarning)\n",
      "/Users/fionastrobridge/opt/anaconda3/envs/insight/lib/python3.6/site-packages/scipy/optimize/linesearch.py:466: LineSearchWarning: The line search algorithm did not converge\n",
      "  warn('The line search algorithm did not converge', LineSearchWarning)\n",
      "/Users/fionastrobridge/opt/anaconda3/envs/insight/lib/python3.6/site-packages/scipy/optimize/linesearch.py:314: LineSearchWarning: The line search algorithm did not converge\n",
      "  warn('The line search algorithm did not converge', LineSearchWarning)\n"
     ]
    },
    {
     "name": "stdout",
     "output_type": "stream",
     "text": [
      "Best: 0.528655 using {'C': 0.1, 'multi_class': 'ovr', 'solver': 'newton-cg'}\n",
      "0.519883 (0.020947) with: {'C': 100, 'multi_class': 'multinomial', 'solver': 'newton-cg'}\n",
      "0.519298 (0.018400) with: {'C': 100, 'multi_class': 'multinomial', 'solver': 'lbfgs'}\n",
      "0.522515 (0.018481) with: {'C': 100, 'multi_class': 'multinomial', 'solver': 'sag'}\n",
      "0.526023 (0.023989) with: {'C': 100, 'multi_class': 'ovr', 'solver': 'newton-cg'}\n",
      "0.511696 (0.018668) with: {'C': 100, 'multi_class': 'ovr', 'solver': 'lbfgs'}\n",
      "0.525731 (0.017239) with: {'C': 100, 'multi_class': 'ovr', 'solver': 'sag'}\n",
      "0.519883 (0.020947) with: {'C': 10, 'multi_class': 'multinomial', 'solver': 'newton-cg'}\n",
      "0.518713 (0.017824) with: {'C': 10, 'multi_class': 'multinomial', 'solver': 'lbfgs'}\n",
      "0.521930 (0.018239) with: {'C': 10, 'multi_class': 'multinomial', 'solver': 'sag'}\n",
      "0.526316 (0.024603) with: {'C': 10, 'multi_class': 'ovr', 'solver': 'newton-cg'}\n",
      "0.516082 (0.017157) with: {'C': 10, 'multi_class': 'ovr', 'solver': 'lbfgs'}\n",
      "0.525439 (0.017017) with: {'C': 10, 'multi_class': 'ovr', 'solver': 'sag'}\n",
      "0.519883 (0.021093) with: {'C': 1.0, 'multi_class': 'multinomial', 'solver': 'newton-cg'}\n",
      "0.516959 (0.016909) with: {'C': 1.0, 'multi_class': 'multinomial', 'solver': 'lbfgs'}\n",
      "0.522515 (0.018811) with: {'C': 1.0, 'multi_class': 'multinomial', 'solver': 'sag'}\n",
      "0.526608 (0.023688) with: {'C': 1.0, 'multi_class': 'ovr', 'solver': 'newton-cg'}\n",
      "0.515205 (0.018053) with: {'C': 1.0, 'multi_class': 'ovr', 'solver': 'lbfgs'}\n",
      "0.526023 (0.016916) with: {'C': 1.0, 'multi_class': 'ovr', 'solver': 'sag'}\n",
      "0.523684 (0.020264) with: {'C': 0.1, 'multi_class': 'multinomial', 'solver': 'newton-cg'}\n",
      "0.517544 (0.015593) with: {'C': 0.1, 'multi_class': 'multinomial', 'solver': 'lbfgs'}\n",
      "0.522222 (0.018832) with: {'C': 0.1, 'multi_class': 'multinomial', 'solver': 'sag'}\n",
      "0.528655 (0.026850) with: {'C': 0.1, 'multi_class': 'ovr', 'solver': 'newton-cg'}\n",
      "0.513450 (0.018968) with: {'C': 0.1, 'multi_class': 'ovr', 'solver': 'lbfgs'}\n",
      "0.525439 (0.017256) with: {'C': 0.1, 'multi_class': 'ovr', 'solver': 'sag'}\n",
      "0.521637 (0.022345) with: {'C': 0.01, 'multi_class': 'multinomial', 'solver': 'newton-cg'}\n",
      "0.517544 (0.017689) with: {'C': 0.01, 'multi_class': 'multinomial', 'solver': 'lbfgs'}\n",
      "0.522222 (0.018502) with: {'C': 0.01, 'multi_class': 'multinomial', 'solver': 'sag'}\n",
      "0.526316 (0.029876) with: {'C': 0.01, 'multi_class': 'ovr', 'solver': 'newton-cg'}\n",
      "0.515497 (0.020281) with: {'C': 0.01, 'multi_class': 'ovr', 'solver': 'lbfgs'}\n",
      "0.525731 (0.017358) with: {'C': 0.01, 'multi_class': 'ovr', 'solver': 'sag'}\n"
     ]
    },
    {
     "name": "stderr",
     "output_type": "stream",
     "text": [
      "/Users/fionastrobridge/opt/anaconda3/envs/insight/lib/python3.6/site-packages/scipy/optimize/linesearch.py:466: LineSearchWarning: The line search algorithm did not converge\n",
      "  warn('The line search algorithm did not converge', LineSearchWarning)\n",
      "/Users/fionastrobridge/opt/anaconda3/envs/insight/lib/python3.6/site-packages/scipy/optimize/linesearch.py:314: LineSearchWarning: The line search algorithm did not converge\n",
      "  warn('The line search algorithm did not converge', LineSearchWarning)\n",
      "/Users/fionastrobridge/opt/anaconda3/envs/insight/lib/python3.6/site-packages/scipy/optimize/linesearch.py:466: LineSearchWarning: The line search algorithm did not converge\n",
      "  warn('The line search algorithm did not converge', LineSearchWarning)\n",
      "/Users/fionastrobridge/opt/anaconda3/envs/insight/lib/python3.6/site-packages/scipy/optimize/linesearch.py:314: LineSearchWarning: The line search algorithm did not converge\n",
      "  warn('The line search algorithm did not converge', LineSearchWarning)\n",
      "/Users/fionastrobridge/opt/anaconda3/envs/insight/lib/python3.6/site-packages/scipy/optimize/linesearch.py:466: LineSearchWarning: The line search algorithm did not converge\n",
      "  warn('The line search algorithm did not converge', LineSearchWarning)\n",
      "/Users/fionastrobridge/opt/anaconda3/envs/insight/lib/python3.6/site-packages/scipy/optimize/linesearch.py:314: LineSearchWarning: The line search algorithm did not converge\n",
      "  warn('The line search algorithm did not converge', LineSearchWarning)\n",
      "/Users/fionastrobridge/opt/anaconda3/envs/insight/lib/python3.6/site-packages/scipy/optimize/linesearch.py:466: LineSearchWarning: The line search algorithm did not converge\n",
      "  warn('The line search algorithm did not converge', LineSearchWarning)\n",
      "/Users/fionastrobridge/opt/anaconda3/envs/insight/lib/python3.6/site-packages/scipy/optimize/linesearch.py:314: LineSearchWarning: The line search algorithm did not converge\n",
      "  warn('The line search algorithm did not converge', LineSearchWarning)\n",
      "/Users/fionastrobridge/opt/anaconda3/envs/insight/lib/python3.6/site-packages/scipy/optimize/linesearch.py:466: LineSearchWarning: The line search algorithm did not converge\n",
      "  warn('The line search algorithm did not converge', LineSearchWarning)\n",
      "/Users/fionastrobridge/opt/anaconda3/envs/insight/lib/python3.6/site-packages/scipy/optimize/linesearch.py:314: LineSearchWarning: The line search algorithm did not converge\n",
      "  warn('The line search algorithm did not converge', LineSearchWarning)\n",
      "/Users/fionastrobridge/opt/anaconda3/envs/insight/lib/python3.6/site-packages/sklearn/utils/optimize.py:212: ConvergenceWarning: newton-cg failed to converge. Increase the number of iterations.\n",
      "  \"number of iterations.\", ConvergenceWarning)\n"
     ]
    }
   ],
   "source": [
    "model = LogisticRegression()\n",
    "solvers = ['newton-cg', 'lbfgs', 'sag']\n",
    "c_values = [100, 10, 1.0, 0.1, 0.01]\n",
    "multi_class= ['multinomial', 'ovr']\n",
    "\n",
    "# define grid search\n",
    "grid = dict(solver=solvers,C=c_values, multi_class=multi_class)\n",
    "cv = RepeatedStratifiedKFold(n_splits=4, n_repeats=3, random_state=1)\n",
    "grid_search = GridSearchCV(estimator=model, param_grid=grid, n_jobs=-1, cv=cv, scoring='accuracy',error_score=0)\n",
    "grid_result = grid_search.fit(X_train, y_train)\n",
    "\n",
    "# summarize results\n",
    "print(\"Best: %f using %s\" % (grid_result.best_score_, grid_result.best_params_))\n",
    "means = grid_result.cv_results_['mean_test_score']\n",
    "stds = grid_result.cv_results_['std_test_score']\n",
    "params = grid_result.cv_results_['params']\n",
    "for mean, stdev, param in zip(means, stds, params):\n",
    "    print(\"%f (%f) with: %r\" % (mean, stdev, param))"
   ]
  },
  {
   "cell_type": "code",
   "execution_count": 47,
   "metadata": {
    "ExecuteTime": {
     "end_time": "2020-04-02T01:07:54.802564Z",
     "start_time": "2020-04-02T01:07:54.025558Z"
    }
   },
   "outputs": [
    {
     "name": "stderr",
     "output_type": "stream",
     "text": [
      "/Users/fionastrobridge/opt/anaconda3/envs/insight/lib/python3.6/site-packages/sklearn/utils/optimize.py:212: ConvergenceWarning: newton-cg failed to converge. Increase the number of iterations.\n",
      "  \"number of iterations.\", ConvergenceWarning)\n",
      "/Users/fionastrobridge/opt/anaconda3/envs/insight/lib/python3.6/site-packages/scipy/optimize/linesearch.py:466: LineSearchWarning: The line search algorithm did not converge\n",
      "  warn('The line search algorithm did not converge', LineSearchWarning)\n",
      "/Users/fionastrobridge/opt/anaconda3/envs/insight/lib/python3.6/site-packages/scipy/optimize/linesearch.py:314: LineSearchWarning: The line search algorithm did not converge\n",
      "  warn('The line search algorithm did not converge', LineSearchWarning)\n",
      "/Users/fionastrobridge/opt/anaconda3/envs/insight/lib/python3.6/site-packages/scipy/optimize/linesearch.py:466: LineSearchWarning: The line search algorithm did not converge\n",
      "  warn('The line search algorithm did not converge', LineSearchWarning)\n",
      "/Users/fionastrobridge/opt/anaconda3/envs/insight/lib/python3.6/site-packages/scipy/optimize/linesearch.py:314: LineSearchWarning: The line search algorithm did not converge\n",
      "  warn('The line search algorithm did not converge', LineSearchWarning)\n",
      "/Users/fionastrobridge/opt/anaconda3/envs/insight/lib/python3.6/site-packages/scipy/optimize/linesearch.py:466: LineSearchWarning: The line search algorithm did not converge\n",
      "  warn('The line search algorithm did not converge', LineSearchWarning)\n",
      "/Users/fionastrobridge/opt/anaconda3/envs/insight/lib/python3.6/site-packages/scipy/optimize/linesearch.py:314: LineSearchWarning: The line search algorithm did not converge\n",
      "  warn('The line search algorithm did not converge', LineSearchWarning)\n",
      "/Users/fionastrobridge/opt/anaconda3/envs/insight/lib/python3.6/site-packages/scipy/optimize/linesearch.py:466: LineSearchWarning: The line search algorithm did not converge\n",
      "  warn('The line search algorithm did not converge', LineSearchWarning)\n",
      "/Users/fionastrobridge/opt/anaconda3/envs/insight/lib/python3.6/site-packages/scipy/optimize/linesearch.py:314: LineSearchWarning: The line search algorithm did not converge\n",
      "  warn('The line search algorithm did not converge', LineSearchWarning)\n",
      "/Users/fionastrobridge/opt/anaconda3/envs/insight/lib/python3.6/site-packages/scipy/optimize/linesearch.py:466: LineSearchWarning: The line search algorithm did not converge\n",
      "  warn('The line search algorithm did not converge', LineSearchWarning)\n",
      "/Users/fionastrobridge/opt/anaconda3/envs/insight/lib/python3.6/site-packages/scipy/optimize/linesearch.py:314: LineSearchWarning: The line search algorithm did not converge\n",
      "  warn('The line search algorithm did not converge', LineSearchWarning)\n",
      "/Users/fionastrobridge/opt/anaconda3/envs/insight/lib/python3.6/site-packages/sklearn/utils/optimize.py:212: ConvergenceWarning: newton-cg failed to converge. Increase the number of iterations.\n",
      "  \"number of iterations.\", ConvergenceWarning)\n"
     ]
    },
    {
     "name": "stdout",
     "output_type": "stream",
     "text": [
      "0.5622807017543859\n",
      "0.5605263157894737\n"
     ]
    },
    {
     "name": "stderr",
     "output_type": "stream",
     "text": [
      "/Users/fionastrobridge/opt/anaconda3/envs/insight/lib/python3.6/site-packages/scipy/optimize/linesearch.py:466: LineSearchWarning: The line search algorithm did not converge\n",
      "  warn('The line search algorithm did not converge', LineSearchWarning)\n",
      "/Users/fionastrobridge/opt/anaconda3/envs/insight/lib/python3.6/site-packages/scipy/optimize/linesearch.py:314: LineSearchWarning: The line search algorithm did not converge\n",
      "  warn('The line search algorithm did not converge', LineSearchWarning)\n",
      "/Users/fionastrobridge/opt/anaconda3/envs/insight/lib/python3.6/site-packages/scipy/optimize/linesearch.py:466: LineSearchWarning: The line search algorithm did not converge\n",
      "  warn('The line search algorithm did not converge', LineSearchWarning)\n",
      "/Users/fionastrobridge/opt/anaconda3/envs/insight/lib/python3.6/site-packages/scipy/optimize/linesearch.py:314: LineSearchWarning: The line search algorithm did not converge\n",
      "  warn('The line search algorithm did not converge', LineSearchWarning)\n",
      "/Users/fionastrobridge/opt/anaconda3/envs/insight/lib/python3.6/site-packages/scipy/optimize/linesearch.py:466: LineSearchWarning: The line search algorithm did not converge\n",
      "  warn('The line search algorithm did not converge', LineSearchWarning)\n",
      "/Users/fionastrobridge/opt/anaconda3/envs/insight/lib/python3.6/site-packages/scipy/optimize/linesearch.py:314: LineSearchWarning: The line search algorithm did not converge\n",
      "  warn('The line search algorithm did not converge', LineSearchWarning)\n",
      "/Users/fionastrobridge/opt/anaconda3/envs/insight/lib/python3.6/site-packages/scipy/optimize/linesearch.py:466: LineSearchWarning: The line search algorithm did not converge\n",
      "  warn('The line search algorithm did not converge', LineSearchWarning)\n",
      "/Users/fionastrobridge/opt/anaconda3/envs/insight/lib/python3.6/site-packages/scipy/optimize/linesearch.py:314: LineSearchWarning: The line search algorithm did not converge\n",
      "  warn('The line search algorithm did not converge', LineSearchWarning)\n",
      "/Users/fionastrobridge/opt/anaconda3/envs/insight/lib/python3.6/site-packages/scipy/optimize/linesearch.py:466: LineSearchWarning: The line search algorithm did not converge\n",
      "  warn('The line search algorithm did not converge', LineSearchWarning)\n",
      "/Users/fionastrobridge/opt/anaconda3/envs/insight/lib/python3.6/site-packages/scipy/optimize/linesearch.py:314: LineSearchWarning: The line search algorithm did not converge\n",
      "  warn('The line search algorithm did not converge', LineSearchWarning)\n",
      "/Users/fionastrobridge/opt/anaconda3/envs/insight/lib/python3.6/site-packages/sklearn/utils/optimize.py:212: ConvergenceWarning: newton-cg failed to converge. Increase the number of iterations.\n",
      "  \"number of iterations.\", ConvergenceWarning)\n"
     ]
    }
   ],
   "source": [
    "clf_LG = LogisticRegression(random_state=1, multi_class='ovr', solver='newton-cg', C=1.0).fit(X_train, y_train)\n",
    "print(clf_LG.score(X_train, y_train))\n",
    "\n",
    "predictions = clf_LG.predict(X_valid)\n",
    "print(accuracy_score(y_valid, predictions))\n"
   ]
  },
  {
   "cell_type": "markdown",
   "metadata": {},
   "source": [
    "### Model Selection"
   ]
  },
  {
   "cell_type": "code",
   "execution_count": 48,
   "metadata": {
    "ExecuteTime": {
     "end_time": "2020-04-02T01:07:58.749376Z",
     "start_time": "2020-04-02T01:07:54.805043Z"
    }
   },
   "outputs": [
    {
     "name": "stderr",
     "output_type": "stream",
     "text": [
      "/Users/fionastrobridge/opt/anaconda3/envs/insight/lib/python3.6/site-packages/sklearn/utils/optimize.py:212: ConvergenceWarning: newton-cg failed to converge. Increase the number of iterations.\n",
      "  \"number of iterations.\", ConvergenceWarning)\n",
      "/Users/fionastrobridge/opt/anaconda3/envs/insight/lib/python3.6/site-packages/scipy/optimize/linesearch.py:466: LineSearchWarning: The line search algorithm did not converge\n",
      "  warn('The line search algorithm did not converge', LineSearchWarning)\n",
      "/Users/fionastrobridge/opt/anaconda3/envs/insight/lib/python3.6/site-packages/scipy/optimize/linesearch.py:314: LineSearchWarning: The line search algorithm did not converge\n",
      "  warn('The line search algorithm did not converge', LineSearchWarning)\n",
      "/Users/fionastrobridge/opt/anaconda3/envs/insight/lib/python3.6/site-packages/scipy/optimize/linesearch.py:466: LineSearchWarning: The line search algorithm did not converge\n",
      "  warn('The line search algorithm did not converge', LineSearchWarning)\n",
      "/Users/fionastrobridge/opt/anaconda3/envs/insight/lib/python3.6/site-packages/scipy/optimize/linesearch.py:314: LineSearchWarning: The line search algorithm did not converge\n",
      "  warn('The line search algorithm did not converge', LineSearchWarning)\n",
      "/Users/fionastrobridge/opt/anaconda3/envs/insight/lib/python3.6/site-packages/scipy/optimize/linesearch.py:466: LineSearchWarning: The line search algorithm did not converge\n",
      "  warn('The line search algorithm did not converge', LineSearchWarning)\n",
      "/Users/fionastrobridge/opt/anaconda3/envs/insight/lib/python3.6/site-packages/scipy/optimize/linesearch.py:314: LineSearchWarning: The line search algorithm did not converge\n",
      "  warn('The line search algorithm did not converge', LineSearchWarning)\n",
      "/Users/fionastrobridge/opt/anaconda3/envs/insight/lib/python3.6/site-packages/scipy/optimize/linesearch.py:466: LineSearchWarning: The line search algorithm did not converge\n",
      "  warn('The line search algorithm did not converge', LineSearchWarning)\n",
      "/Users/fionastrobridge/opt/anaconda3/envs/insight/lib/python3.6/site-packages/scipy/optimize/linesearch.py:314: LineSearchWarning: The line search algorithm did not converge\n",
      "  warn('The line search algorithm did not converge', LineSearchWarning)\n",
      "/Users/fionastrobridge/opt/anaconda3/envs/insight/lib/python3.6/site-packages/scipy/optimize/linesearch.py:466: LineSearchWarning: The line search algorithm did not converge\n",
      "  warn('The line search algorithm did not converge', LineSearchWarning)\n",
      "/Users/fionastrobridge/opt/anaconda3/envs/insight/lib/python3.6/site-packages/scipy/optimize/linesearch.py:314: LineSearchWarning: The line search algorithm did not converge\n",
      "  warn('The line search algorithm did not converge', LineSearchWarning)\n",
      "/Users/fionastrobridge/opt/anaconda3/envs/insight/lib/python3.6/site-packages/scipy/optimize/linesearch.py:466: LineSearchWarning: The line search algorithm did not converge\n",
      "  warn('The line search algorithm did not converge', LineSearchWarning)\n",
      "/Users/fionastrobridge/opt/anaconda3/envs/insight/lib/python3.6/site-packages/scipy/optimize/linesearch.py:314: LineSearchWarning: The line search algorithm did not converge\n",
      "  warn('The line search algorithm did not converge', LineSearchWarning)\n",
      "/Users/fionastrobridge/opt/anaconda3/envs/insight/lib/python3.6/site-packages/scipy/optimize/linesearch.py:466: LineSearchWarning: The line search algorithm did not converge\n",
      "  warn('The line search algorithm did not converge', LineSearchWarning)\n",
      "/Users/fionastrobridge/opt/anaconda3/envs/insight/lib/python3.6/site-packages/scipy/optimize/linesearch.py:314: LineSearchWarning: The line search algorithm did not converge\n",
      "  warn('The line search algorithm did not converge', LineSearchWarning)\n",
      "/Users/fionastrobridge/opt/anaconda3/envs/insight/lib/python3.6/site-packages/sklearn/utils/optimize.py:212: ConvergenceWarning: newton-cg failed to converge. Increase the number of iterations.\n",
      "  \"number of iterations.\", ConvergenceWarning)\n",
      "/Users/fionastrobridge/opt/anaconda3/envs/insight/lib/python3.6/site-packages/scipy/optimize/linesearch.py:466: LineSearchWarning: The line search algorithm did not converge\n",
      "  warn('The line search algorithm did not converge', LineSearchWarning)\n",
      "/Users/fionastrobridge/opt/anaconda3/envs/insight/lib/python3.6/site-packages/scipy/optimize/linesearch.py:314: LineSearchWarning: The line search algorithm did not converge\n",
      "  warn('The line search algorithm did not converge', LineSearchWarning)\n",
      "/Users/fionastrobridge/opt/anaconda3/envs/insight/lib/python3.6/site-packages/scipy/optimize/linesearch.py:466: LineSearchWarning: The line search algorithm did not converge\n",
      "  warn('The line search algorithm did not converge', LineSearchWarning)\n",
      "/Users/fionastrobridge/opt/anaconda3/envs/insight/lib/python3.6/site-packages/scipy/optimize/linesearch.py:314: LineSearchWarning: The line search algorithm did not converge\n",
      "  warn('The line search algorithm did not converge', LineSearchWarning)\n",
      "/Users/fionastrobridge/opt/anaconda3/envs/insight/lib/python3.6/site-packages/sklearn/utils/optimize.py:212: ConvergenceWarning: newton-cg failed to converge. Increase the number of iterations.\n",
      "  \"number of iterations.\", ConvergenceWarning)\n",
      "/Users/fionastrobridge/opt/anaconda3/envs/insight/lib/python3.6/site-packages/scipy/optimize/linesearch.py:466: LineSearchWarning: The line search algorithm did not converge\n",
      "  warn('The line search algorithm did not converge', LineSearchWarning)\n",
      "/Users/fionastrobridge/opt/anaconda3/envs/insight/lib/python3.6/site-packages/scipy/optimize/linesearch.py:314: LineSearchWarning: The line search algorithm did not converge\n",
      "  warn('The line search algorithm did not converge', LineSearchWarning)\n",
      "/Users/fionastrobridge/opt/anaconda3/envs/insight/lib/python3.6/site-packages/sklearn/utils/optimize.py:212: ConvergenceWarning: newton-cg failed to converge. Increase the number of iterations.\n",
      "  \"number of iterations.\", ConvergenceWarning)\n",
      "/Users/fionastrobridge/opt/anaconda3/envs/insight/lib/python3.6/site-packages/scipy/optimize/linesearch.py:466: LineSearchWarning: The line search algorithm did not converge\n",
      "  warn('The line search algorithm did not converge', LineSearchWarning)\n",
      "/Users/fionastrobridge/opt/anaconda3/envs/insight/lib/python3.6/site-packages/scipy/optimize/linesearch.py:314: LineSearchWarning: The line search algorithm did not converge\n",
      "  warn('The line search algorithm did not converge', LineSearchWarning)\n",
      "/Users/fionastrobridge/opt/anaconda3/envs/insight/lib/python3.6/site-packages/scipy/optimize/linesearch.py:466: LineSearchWarning: The line search algorithm did not converge\n",
      "  warn('The line search algorithm did not converge', LineSearchWarning)\n",
      "/Users/fionastrobridge/opt/anaconda3/envs/insight/lib/python3.6/site-packages/scipy/optimize/linesearch.py:314: LineSearchWarning: The line search algorithm did not converge\n",
      "  warn('The line search algorithm did not converge', LineSearchWarning)\n",
      "/Users/fionastrobridge/opt/anaconda3/envs/insight/lib/python3.6/site-packages/scipy/optimize/linesearch.py:466: LineSearchWarning: The line search algorithm did not converge\n",
      "  warn('The line search algorithm did not converge', LineSearchWarning)\n",
      "/Users/fionastrobridge/opt/anaconda3/envs/insight/lib/python3.6/site-packages/scipy/optimize/linesearch.py:314: LineSearchWarning: The line search algorithm did not converge\n",
      "  warn('The line search algorithm did not converge', LineSearchWarning)\n",
      "/Users/fionastrobridge/opt/anaconda3/envs/insight/lib/python3.6/site-packages/scipy/optimize/linesearch.py:466: LineSearchWarning: The line search algorithm did not converge\n",
      "  warn('The line search algorithm did not converge', LineSearchWarning)\n",
      "/Users/fionastrobridge/opt/anaconda3/envs/insight/lib/python3.6/site-packages/scipy/optimize/linesearch.py:314: LineSearchWarning: The line search algorithm did not converge\n",
      "  warn('The line search algorithm did not converge', LineSearchWarning)\n",
      "/Users/fionastrobridge/opt/anaconda3/envs/insight/lib/python3.6/site-packages/scipy/optimize/linesearch.py:466: LineSearchWarning: The line search algorithm did not converge\n",
      "  warn('The line search algorithm did not converge', LineSearchWarning)\n",
      "/Users/fionastrobridge/opt/anaconda3/envs/insight/lib/python3.6/site-packages/scipy/optimize/linesearch.py:314: LineSearchWarning: The line search algorithm did not converge\n",
      "  warn('The line search algorithm did not converge', LineSearchWarning)\n",
      "/Users/fionastrobridge/opt/anaconda3/envs/insight/lib/python3.6/site-packages/sklearn/utils/optimize.py:212: ConvergenceWarning: newton-cg failed to converge. Increase the number of iterations.\n",
      "  \"number of iterations.\", ConvergenceWarning)\n",
      "/Users/fionastrobridge/opt/anaconda3/envs/insight/lib/python3.6/site-packages/scipy/optimize/linesearch.py:466: LineSearchWarning: The line search algorithm did not converge\n",
      "  warn('The line search algorithm did not converge', LineSearchWarning)\n",
      "/Users/fionastrobridge/opt/anaconda3/envs/insight/lib/python3.6/site-packages/scipy/optimize/linesearch.py:314: LineSearchWarning: The line search algorithm did not converge\n",
      "  warn('The line search algorithm did not converge', LineSearchWarning)\n"
     ]
    },
    {
     "name": "stderr",
     "output_type": "stream",
     "text": [
      "/Users/fionastrobridge/opt/anaconda3/envs/insight/lib/python3.6/site-packages/scipy/optimize/linesearch.py:466: LineSearchWarning: The line search algorithm did not converge\n",
      "  warn('The line search algorithm did not converge', LineSearchWarning)\n",
      "/Users/fionastrobridge/opt/anaconda3/envs/insight/lib/python3.6/site-packages/scipy/optimize/linesearch.py:314: LineSearchWarning: The line search algorithm did not converge\n",
      "  warn('The line search algorithm did not converge', LineSearchWarning)\n",
      "/Users/fionastrobridge/opt/anaconda3/envs/insight/lib/python3.6/site-packages/scipy/optimize/linesearch.py:466: LineSearchWarning: The line search algorithm did not converge\n",
      "  warn('The line search algorithm did not converge', LineSearchWarning)\n",
      "/Users/fionastrobridge/opt/anaconda3/envs/insight/lib/python3.6/site-packages/scipy/optimize/linesearch.py:314: LineSearchWarning: The line search algorithm did not converge\n",
      "  warn('The line search algorithm did not converge', LineSearchWarning)\n",
      "/Users/fionastrobridge/opt/anaconda3/envs/insight/lib/python3.6/site-packages/sklearn/utils/optimize.py:212: ConvergenceWarning: newton-cg failed to converge. Increase the number of iterations.\n",
      "  \"number of iterations.\", ConvergenceWarning)\n",
      "/Users/fionastrobridge/opt/anaconda3/envs/insight/lib/python3.6/site-packages/scipy/optimize/linesearch.py:466: LineSearchWarning: The line search algorithm did not converge\n",
      "  warn('The line search algorithm did not converge', LineSearchWarning)\n",
      "/Users/fionastrobridge/opt/anaconda3/envs/insight/lib/python3.6/site-packages/scipy/optimize/linesearch.py:314: LineSearchWarning: The line search algorithm did not converge\n",
      "  warn('The line search algorithm did not converge', LineSearchWarning)\n",
      "/Users/fionastrobridge/opt/anaconda3/envs/insight/lib/python3.6/site-packages/scipy/optimize/linesearch.py:466: LineSearchWarning: The line search algorithm did not converge\n",
      "  warn('The line search algorithm did not converge', LineSearchWarning)\n",
      "/Users/fionastrobridge/opt/anaconda3/envs/insight/lib/python3.6/site-packages/scipy/optimize/linesearch.py:314: LineSearchWarning: The line search algorithm did not converge\n",
      "  warn('The line search algorithm did not converge', LineSearchWarning)\n",
      "/Users/fionastrobridge/opt/anaconda3/envs/insight/lib/python3.6/site-packages/scipy/optimize/linesearch.py:466: LineSearchWarning: The line search algorithm did not converge\n",
      "  warn('The line search algorithm did not converge', LineSearchWarning)\n",
      "/Users/fionastrobridge/opt/anaconda3/envs/insight/lib/python3.6/site-packages/scipy/optimize/linesearch.py:314: LineSearchWarning: The line search algorithm did not converge\n",
      "  warn('The line search algorithm did not converge', LineSearchWarning)\n",
      "/Users/fionastrobridge/opt/anaconda3/envs/insight/lib/python3.6/site-packages/sklearn/utils/optimize.py:212: ConvergenceWarning: newton-cg failed to converge. Increase the number of iterations.\n",
      "  \"number of iterations.\", ConvergenceWarning)\n",
      "/Users/fionastrobridge/opt/anaconda3/envs/insight/lib/python3.6/site-packages/scipy/optimize/linesearch.py:466: LineSearchWarning: The line search algorithm did not converge\n",
      "  warn('The line search algorithm did not converge', LineSearchWarning)\n",
      "/Users/fionastrobridge/opt/anaconda3/envs/insight/lib/python3.6/site-packages/scipy/optimize/linesearch.py:314: LineSearchWarning: The line search algorithm did not converge\n",
      "  warn('The line search algorithm did not converge', LineSearchWarning)\n",
      "/Users/fionastrobridge/opt/anaconda3/envs/insight/lib/python3.6/site-packages/scipy/optimize/linesearch.py:466: LineSearchWarning: The line search algorithm did not converge\n",
      "  warn('The line search algorithm did not converge', LineSearchWarning)\n",
      "/Users/fionastrobridge/opt/anaconda3/envs/insight/lib/python3.6/site-packages/scipy/optimize/linesearch.py:314: LineSearchWarning: The line search algorithm did not converge\n",
      "  warn('The line search algorithm did not converge', LineSearchWarning)\n",
      "/Users/fionastrobridge/opt/anaconda3/envs/insight/lib/python3.6/site-packages/scipy/optimize/linesearch.py:466: LineSearchWarning: The line search algorithm did not converge\n",
      "  warn('The line search algorithm did not converge', LineSearchWarning)\n",
      "/Users/fionastrobridge/opt/anaconda3/envs/insight/lib/python3.6/site-packages/scipy/optimize/linesearch.py:314: LineSearchWarning: The line search algorithm did not converge\n",
      "  warn('The line search algorithm did not converge', LineSearchWarning)\n",
      "/Users/fionastrobridge/opt/anaconda3/envs/insight/lib/python3.6/site-packages/scipy/optimize/linesearch.py:466: LineSearchWarning: The line search algorithm did not converge\n",
      "  warn('The line search algorithm did not converge', LineSearchWarning)\n",
      "/Users/fionastrobridge/opt/anaconda3/envs/insight/lib/python3.6/site-packages/scipy/optimize/linesearch.py:314: LineSearchWarning: The line search algorithm did not converge\n",
      "  warn('The line search algorithm did not converge', LineSearchWarning)\n",
      "/Users/fionastrobridge/opt/anaconda3/envs/insight/lib/python3.6/site-packages/sklearn/utils/optimize.py:212: ConvergenceWarning: newton-cg failed to converge. Increase the number of iterations.\n",
      "  \"number of iterations.\", ConvergenceWarning)\n",
      "/Users/fionastrobridge/opt/anaconda3/envs/insight/lib/python3.6/site-packages/sklearn/utils/optimize.py:212: ConvergenceWarning: newton-cg failed to converge. Increase the number of iterations.\n",
      "  \"number of iterations.\", ConvergenceWarning)\n",
      "/Users/fionastrobridge/opt/anaconda3/envs/insight/lib/python3.6/site-packages/scipy/optimize/linesearch.py:466: LineSearchWarning: The line search algorithm did not converge\n",
      "  warn('The line search algorithm did not converge', LineSearchWarning)\n",
      "/Users/fionastrobridge/opt/anaconda3/envs/insight/lib/python3.6/site-packages/scipy/optimize/linesearch.py:314: LineSearchWarning: The line search algorithm did not converge\n",
      "  warn('The line search algorithm did not converge', LineSearchWarning)\n",
      "/Users/fionastrobridge/opt/anaconda3/envs/insight/lib/python3.6/site-packages/scipy/optimize/linesearch.py:466: LineSearchWarning: The line search algorithm did not converge\n",
      "  warn('The line search algorithm did not converge', LineSearchWarning)\n",
      "/Users/fionastrobridge/opt/anaconda3/envs/insight/lib/python3.6/site-packages/scipy/optimize/linesearch.py:314: LineSearchWarning: The line search algorithm did not converge\n",
      "  warn('The line search algorithm did not converge', LineSearchWarning)\n",
      "/Users/fionastrobridge/opt/anaconda3/envs/insight/lib/python3.6/site-packages/scipy/optimize/linesearch.py:466: LineSearchWarning: The line search algorithm did not converge\n",
      "  warn('The line search algorithm did not converge', LineSearchWarning)\n",
      "/Users/fionastrobridge/opt/anaconda3/envs/insight/lib/python3.6/site-packages/scipy/optimize/linesearch.py:314: LineSearchWarning: The line search algorithm did not converge\n",
      "  warn('The line search algorithm did not converge', LineSearchWarning)\n",
      "/Users/fionastrobridge/opt/anaconda3/envs/insight/lib/python3.6/site-packages/scipy/optimize/linesearch.py:466: LineSearchWarning: The line search algorithm did not converge\n",
      "  warn('The line search algorithm did not converge', LineSearchWarning)\n",
      "/Users/fionastrobridge/opt/anaconda3/envs/insight/lib/python3.6/site-packages/scipy/optimize/linesearch.py:314: LineSearchWarning: The line search algorithm did not converge\n",
      "  warn('The line search algorithm did not converge', LineSearchWarning)\n",
      "/Users/fionastrobridge/opt/anaconda3/envs/insight/lib/python3.6/site-packages/scipy/optimize/linesearch.py:466: LineSearchWarning: The line search algorithm did not converge\n",
      "  warn('The line search algorithm did not converge', LineSearchWarning)\n",
      "/Users/fionastrobridge/opt/anaconda3/envs/insight/lib/python3.6/site-packages/scipy/optimize/linesearch.py:314: LineSearchWarning: The line search algorithm did not converge\n",
      "  warn('The line search algorithm did not converge', LineSearchWarning)\n",
      "/Users/fionastrobridge/opt/anaconda3/envs/insight/lib/python3.6/site-packages/scipy/optimize/linesearch.py:466: LineSearchWarning: The line search algorithm did not converge\n",
      "  warn('The line search algorithm did not converge', LineSearchWarning)\n",
      "/Users/fionastrobridge/opt/anaconda3/envs/insight/lib/python3.6/site-packages/scipy/optimize/linesearch.py:314: LineSearchWarning: The line search algorithm did not converge\n",
      "  warn('The line search algorithm did not converge', LineSearchWarning)\n",
      "/Users/fionastrobridge/opt/anaconda3/envs/insight/lib/python3.6/site-packages/sklearn/utils/optimize.py:212: ConvergenceWarning: newton-cg failed to converge. Increase the number of iterations.\n",
      "  \"number of iterations.\", ConvergenceWarning)\n",
      "/Users/fionastrobridge/opt/anaconda3/envs/insight/lib/python3.6/site-packages/scipy/optimize/linesearch.py:466: LineSearchWarning: The line search algorithm did not converge\n",
      "  warn('The line search algorithm did not converge', LineSearchWarning)\n",
      "/Users/fionastrobridge/opt/anaconda3/envs/insight/lib/python3.6/site-packages/scipy/optimize/linesearch.py:314: LineSearchWarning: The line search algorithm did not converge\n",
      "  warn('The line search algorithm did not converge', LineSearchWarning)\n"
     ]
    },
    {
     "name": "stderr",
     "output_type": "stream",
     "text": [
      "/Users/fionastrobridge/opt/anaconda3/envs/insight/lib/python3.6/site-packages/scipy/optimize/linesearch.py:466: LineSearchWarning: The line search algorithm did not converge\n",
      "  warn('The line search algorithm did not converge', LineSearchWarning)\n",
      "/Users/fionastrobridge/opt/anaconda3/envs/insight/lib/python3.6/site-packages/scipy/optimize/linesearch.py:314: LineSearchWarning: The line search algorithm did not converge\n",
      "  warn('The line search algorithm did not converge', LineSearchWarning)\n",
      "/Users/fionastrobridge/opt/anaconda3/envs/insight/lib/python3.6/site-packages/scipy/optimize/linesearch.py:466: LineSearchWarning: The line search algorithm did not converge\n",
      "  warn('The line search algorithm did not converge', LineSearchWarning)\n",
      "/Users/fionastrobridge/opt/anaconda3/envs/insight/lib/python3.6/site-packages/scipy/optimize/linesearch.py:314: LineSearchWarning: The line search algorithm did not converge\n",
      "  warn('The line search algorithm did not converge', LineSearchWarning)\n",
      "/Users/fionastrobridge/opt/anaconda3/envs/insight/lib/python3.6/site-packages/sklearn/utils/optimize.py:212: ConvergenceWarning: newton-cg failed to converge. Increase the number of iterations.\n",
      "  \"number of iterations.\", ConvergenceWarning)\n"
     ]
    },
    {
     "data": {
      "image/png": "[encoded data removed]",
      "text/plain": [
       "<Figure size 432x288 with 1 Axes>"
      ]
     },
     "metadata": {
      "needs_background": "light"
     },
     "output_type": "display_data"
    },
    {
     "name": "stdout",
     "output_type": "stream",
     "text": [
      "model_name\n",
      "LogisticRegression        0.507895\n",
      "RandomForestClassifier    0.535088\n",
      "Name: accuracy, dtype: float64\n"
     ]
    }
   ],
   "source": [
    "#%matplotlib qt\n",
    "models = [\n",
    "    RandomForestClassifier(random_state=1, n_jobs=-1, max_depth=5, min_samples_leaf=12, min_samples_split=3, n_estimators=100, bootstrap='False'),\n",
    "    LogisticRegression(random_state=1, multi_class='ovr', solver='newton-cg', C=1.0)\n",
    "]\n",
    "CV = 4\n",
    "cv_df = pd.DataFrame(index=range(CV * len(models)))\n",
    "entries = []\n",
    "for model in models:\n",
    "  model_name = model.__class__.__name__\n",
    "  accuracies = cross_val_score(model, X_train, y_train, scoring='accuracy', cv=CV)\n",
    "  for fold_idx, accuracy in enumerate(accuracies):\n",
    "    entries.append((model_name, fold_idx, accuracy))\n",
    "cv_df = pd.DataFrame(entries, columns=['model_name', 'fold_idx', 'accuracy'])\n",
    "\n",
    "sns.boxplot(x='model_name', y='accuracy', data=cv_df)\n",
    "sns.stripplot(x='model_name', y='accuracy', data=cv_df, \n",
    "              size=8, jitter=True, edgecolor=\"gray\", linewidth=2)\n",
    "plt.show()\n",
    "\n",
    "print(cv_df.groupby('model_name').accuracy.mean())\n"
   ]
  },
  {
   "cell_type": "markdown",
   "metadata": {},
   "source": [
    "## Feature Importance and Selection with RF and Log Reg"
   ]
  },
  {
   "cell_type": "markdown",
   "metadata": {},
   "source": [
    "### Feature Importance / Selection with Random Forest"
   ]
  },
  {
   "cell_type": "code",
   "execution_count": 49,
   "metadata": {
    "ExecuteTime": {
     "end_time": "2020-04-02T01:07:59.089422Z",
     "start_time": "2020-04-02T01:07:58.777757Z"
    }
   },
   "outputs": [
    {
     "data": {
      "image/png": "[encoded data removed]",
      "text/plain": [
       "<Figure size 1152x720 with 1 Axes>"
      ]
     },
     "metadata": {
      "needs_background": "light"
     },
     "output_type": "display_data"
    }
   ],
   "source": [
    "from scipy.cluster import hierarchy as hc\n",
    "corr = np.round(scipy.stats.spearmanr(X_train).correlation, 4)\n",
    "corr_condensed = hc.distance.squareform(1-corr)\n",
    "z = hc.linkage(corr_condensed, method='average')\n",
    "fig = plt.figure(figsize=(16,10))\n",
    "dendrogram = hc.dendrogram(z, labels=X_train.columns,\n",
    "    orientation='left', leaf_font_size=16)\n",
    "plt.show()"
   ]
  },
  {
   "cell_type": "code",
   "execution_count": 50,
   "metadata": {
    "ExecuteTime": {
     "end_time": "2020-04-02T01:07:59.220267Z",
     "start_time": "2020-04-02T01:07:59.091470Z"
    }
   },
   "outputs": [
    {
     "data": {
      "text/html": [
       "<div>\n",
       "<style scoped>\n",
       "    .dataframe tbody tr th:only-of-type {\n",
       "        vertical-align: middle;\n",
       "    }\n",
       "\n",
       "    .dataframe tbody tr th {\n",
       "        vertical-align: top;\n",
       "    }\n",
       "\n",
       "    .dataframe thead th {\n",
       "        text-align: right;\n",
       "    }\n",
       "</style>\n",
       "<table border=\"1\" class=\"dataframe\">\n",
       "  <thead>\n",
       "    <tr style=\"text-align: right;\">\n",
       "      <th>outcome_by_HOME</th>\n",
       "      <th>0.0</th>\n",
       "      <th>1.0</th>\n",
       "      <th>2.0</th>\n",
       "    </tr>\n",
       "    <tr>\n",
       "      <th>row_0</th>\n",
       "      <th></th>\n",
       "      <th></th>\n",
       "      <th></th>\n",
       "    </tr>\n",
       "  </thead>\n",
       "  <tbody>\n",
       "    <tr>\n",
       "      <th>0.0</th>\n",
       "      <td>182</td>\n",
       "      <td>63</td>\n",
       "      <td>55</td>\n",
       "    </tr>\n",
       "    <tr>\n",
       "      <th>1.0</th>\n",
       "      <td>21</td>\n",
       "      <td>51</td>\n",
       "      <td>8</td>\n",
       "    </tr>\n",
       "    <tr>\n",
       "      <th>2.0</th>\n",
       "      <td>130</td>\n",
       "      <td>176</td>\n",
       "      <td>454</td>\n",
       "    </tr>\n",
       "  </tbody>\n",
       "</table>\n",
       "</div>"
      ],
      "text/plain": [
       "outcome_by_HOME  0.0  1.0  2.0\n",
       "row_0                         \n",
       "0.0              182   63   55\n",
       "1.0               21   51    8\n",
       "2.0              130  176  454"
      ]
     },
     "execution_count": 50,
     "metadata": {},
     "output_type": "execute_result"
    }
   ],
   "source": [
    "cm = pd.crosstab(clf.predict(X_train), y_train)\n",
    "cm\n"
   ]
  },
  {
   "cell_type": "code",
   "execution_count": 51,
   "metadata": {
    "ExecuteTime": {
     "end_time": "2020-04-02T01:07:59.332671Z",
     "start_time": "2020-04-02T01:07:59.222618Z"
    }
   },
   "outputs": [],
   "source": [
    "fi = pd.DataFrame({'Feature': list(X_train.columns),\n",
    "                   'Importance': clf.feature_importances_}).\\\n",
    "                    sort_values('Importance', ascending = True)"
   ]
  },
  {
   "cell_type": "code",
   "execution_count": 52,
   "metadata": {
    "ExecuteTime": {
     "end_time": "2020-04-02T01:07:59.525633Z",
     "start_time": "2020-04-02T01:07:59.335650Z"
    }
   },
   "outputs": [
    {
     "data": {
      "image/png": "[encoded data removed]",
      "text/plain": [
       "<Figure size 720x432 with 1 Axes>"
      ]
     },
     "metadata": {
      "needs_background": "light"
     },
     "output_type": "display_data"
    }
   ],
   "source": [
    "fi.plot('Feature', 'Importance', figsize=(10,6), legend=False);"
   ]
  },
  {
   "cell_type": "code",
   "execution_count": 53,
   "metadata": {
    "ExecuteTime": {
     "end_time": "2020-04-02T01:07:59.759881Z",
     "start_time": "2020-04-02T01:07:59.528544Z"
    }
   },
   "outputs": [
    {
     "data": {
      "image/png": "[encoded data removed]",
      "text/plain": [
       "<Figure size 864x504 with 1 Axes>"
      ]
     },
     "metadata": {
      "needs_background": "light"
     },
     "output_type": "display_data"
    }
   ],
   "source": [
    "fi_plot = fi.plot('Feature','Importance', 'barh', figsize=(12,7), legend=False, color=['C3', 'C3','C3', 'C3', 'C3', 'C3', 'C3','C3', 'C3', 'C3', 'C3', 'C0', 'C0', 'C0', 'C0','C0', 'C0', 'C0', 'C0', 'C0', 'C0','C0', 'C0', 'C0', 'C0', 'C0'])\n",
    "#labels = [item.get_text() for item in fi_plot.get_yticklabels()]\n",
    "#labels[23] = 'Odds Away Win'\n",
    "#labels[22] = 'Odds Home Win'\n",
    "#labels[21] = 'Odds Draw'\n",
    "#labels[20] = 'Away Salary'\n",
    "#labels[19] = 'Home Total Goals For'\n",
    "#labels[18] = 'Home Last Season Goals Difference'\n",
    "#labels[17] = 'Home Salary'\n",
    "#labels[16] = 'Home Last Season Goals For'\n",
    "#labels[15] = 'Home Total Goals Difference'\n",
    "#labels[14] = 'Away Last Season Goals For'\n",
    "#labels[13] = 'Away Total Goals Difference'\n",
    "#labels[12] = 'Random Number'\n",
    "#labels[11] = 'Away Total Goals For'\n",
    "#labels[10] = 'Home Last Season Points'\n",
    "#labels[9] = 'Away Last Season Goals Difference'\n",
    "#labels[8] = 'Away Season Points'\n",
    "#labels[7] = 'Home Team Number'\n",
    "#labels[6] = 'Home Team Total Draws'\n",
    "#labels[5] = 'Away Team Total Draws'\n",
    "#labels[4] = 'Away Team Number'\n",
    "#labels[3] = 'Home Last Season Position'\n",
    "#labels[2] = 'Away Last Season Position'\n",
    "#labels[1] = 'Away Last Season Draw'\n",
    "#labels[0] = 'Away Last Season Draw'\n",
    "#fi_plot.set_yticklabels(labels)\n"
   ]
  },
  {
   "cell_type": "code",
   "execution_count": 54,
   "metadata": {
    "ExecuteTime": {
     "end_time": "2020-04-02T01:07:59.780528Z",
     "start_time": "2020-04-02T01:07:59.770223Z"
    }
   },
   "outputs": [
    {
     "data": {
      "text/html": [
       "<div>\n",
       "<style scoped>\n",
       "    .dataframe tbody tr th:only-of-type {\n",
       "        vertical-align: middle;\n",
       "    }\n",
       "\n",
       "    .dataframe tbody tr th {\n",
       "        vertical-align: top;\n",
       "    }\n",
       "\n",
       "    .dataframe thead th {\n",
       "        text-align: right;\n",
       "    }\n",
       "</style>\n",
       "<table border=\"1\" class=\"dataframe\">\n",
       "  <thead>\n",
       "    <tr style=\"text-align: right;\">\n",
       "      <th></th>\n",
       "      <th>Feature</th>\n",
       "      <th>Importance</th>\n",
       "    </tr>\n",
       "  </thead>\n",
       "  <tbody>\n",
       "    <tr>\n",
       "      <th>24</th>\n",
       "      <td>month</td>\n",
       "      <td>0.011665</td>\n",
       "    </tr>\n",
       "    <tr>\n",
       "      <th>1</th>\n",
       "      <td>ASeas_Draw</td>\n",
       "      <td>0.011817</td>\n",
       "    </tr>\n",
       "    <tr>\n",
       "      <th>10</th>\n",
       "      <td>A_Team_number</td>\n",
       "      <td>0.012074</td>\n",
       "    </tr>\n",
       "    <tr>\n",
       "      <th>12</th>\n",
       "      <td>A_Draw</td>\n",
       "      <td>0.013021</td>\n",
       "    </tr>\n",
       "    <tr>\n",
       "      <th>23</th>\n",
       "      <td>year</td>\n",
       "      <td>0.013483</td>\n",
       "    </tr>\n",
       "    <tr>\n",
       "      <th>0</th>\n",
       "      <td>ASeas_Pos</td>\n",
       "      <td>0.015522</td>\n",
       "    </tr>\n",
       "    <tr>\n",
       "      <th>6</th>\n",
       "      <td>HSeas_Draw</td>\n",
       "      <td>0.015962</td>\n",
       "    </tr>\n",
       "    <tr>\n",
       "      <th>17</th>\n",
       "      <td>H_Draw</td>\n",
       "      <td>0.016891</td>\n",
       "    </tr>\n",
       "    <tr>\n",
       "      <th>5</th>\n",
       "      <td>HSeas_Pos</td>\n",
       "      <td>0.018837</td>\n",
       "    </tr>\n",
       "    <tr>\n",
       "      <th>15</th>\n",
       "      <td>H_Team_number</td>\n",
       "      <td>0.019190</td>\n",
       "    </tr>\n",
       "    <tr>\n",
       "      <th>3</th>\n",
       "      <td>ASeas_Goal_Difference</td>\n",
       "      <td>0.022798</td>\n",
       "    </tr>\n",
       "    <tr>\n",
       "      <th>9</th>\n",
       "      <td>HSeas_Pts</td>\n",
       "      <td>0.025171</td>\n",
       "    </tr>\n",
       "    <tr>\n",
       "      <th>25</th>\n",
       "      <td>RandomNumber</td>\n",
       "      <td>0.030137</td>\n",
       "    </tr>\n",
       "    <tr>\n",
       "      <th>4</th>\n",
       "      <td>ASeas_Pts</td>\n",
       "      <td>0.031752</td>\n",
       "    </tr>\n",
       "    <tr>\n",
       "      <th>2</th>\n",
       "      <td>ASeas_Goals_For</td>\n",
       "      <td>0.032295</td>\n",
       "    </tr>\n",
       "    <tr>\n",
       "      <th>21</th>\n",
       "      <td>AVERAGE_ODD_DRAW</td>\n",
       "      <td>0.032860</td>\n",
       "    </tr>\n",
       "    <tr>\n",
       "      <th>8</th>\n",
       "      <td>HSeas_Goal_Difference</td>\n",
       "      <td>0.033349</td>\n",
       "    </tr>\n",
       "    <tr>\n",
       "      <th>13</th>\n",
       "      <td>A_Goals_For</td>\n",
       "      <td>0.038342</td>\n",
       "    </tr>\n",
       "    <tr>\n",
       "      <th>16</th>\n",
       "      <td>H_Av_Salary_Club</td>\n",
       "      <td>0.041544</td>\n",
       "    </tr>\n",
       "    <tr>\n",
       "      <th>7</th>\n",
       "      <td>HSeas_Goals_For</td>\n",
       "      <td>0.045024</td>\n",
       "    </tr>\n",
       "    <tr>\n",
       "      <th>18</th>\n",
       "      <td>H_Goals_For</td>\n",
       "      <td>0.045503</td>\n",
       "    </tr>\n",
       "    <tr>\n",
       "      <th>19</th>\n",
       "      <td>H_Goal_Difference</td>\n",
       "      <td>0.049862</td>\n",
       "    </tr>\n",
       "    <tr>\n",
       "      <th>14</th>\n",
       "      <td>A_Goal_Difference</td>\n",
       "      <td>0.050892</td>\n",
       "    </tr>\n",
       "    <tr>\n",
       "      <th>11</th>\n",
       "      <td>A_Av_Salary_Club</td>\n",
       "      <td>0.054498</td>\n",
       "    </tr>\n",
       "    <tr>\n",
       "      <th>20</th>\n",
       "      <td>AVERAGE_ODD_WIN</td>\n",
       "      <td>0.148966</td>\n",
       "    </tr>\n",
       "    <tr>\n",
       "      <th>22</th>\n",
       "      <td>AVERAGE_ODD_OPPONENT_WIN</td>\n",
       "      <td>0.168545</td>\n",
       "    </tr>\n",
       "  </tbody>\n",
       "</table>\n",
       "</div>"
      ],
      "text/plain": [
       "                     Feature  Importance\n",
       "24                     month    0.011665\n",
       "1                 ASeas_Draw    0.011817\n",
       "10             A_Team_number    0.012074\n",
       "12                    A_Draw    0.013021\n",
       "23                      year    0.013483\n",
       "0                  ASeas_Pos    0.015522\n",
       "6                 HSeas_Draw    0.015962\n",
       "17                    H_Draw    0.016891\n",
       "5                  HSeas_Pos    0.018837\n",
       "15             H_Team_number    0.019190\n",
       "3      ASeas_Goal_Difference    0.022798\n",
       "9                  HSeas_Pts    0.025171\n",
       "25              RandomNumber    0.030137\n",
       "4                  ASeas_Pts    0.031752\n",
       "2            ASeas_Goals_For    0.032295\n",
       "21          AVERAGE_ODD_DRAW    0.032860\n",
       "8      HSeas_Goal_Difference    0.033349\n",
       "13               A_Goals_For    0.038342\n",
       "16          H_Av_Salary_Club    0.041544\n",
       "7            HSeas_Goals_For    0.045024\n",
       "18               H_Goals_For    0.045503\n",
       "19         H_Goal_Difference    0.049862\n",
       "14         A_Goal_Difference    0.050892\n",
       "11          A_Av_Salary_Club    0.054498\n",
       "20           AVERAGE_ODD_WIN    0.148966\n",
       "22  AVERAGE_ODD_OPPONENT_WIN    0.168545"
      ]
     },
     "execution_count": 54,
     "metadata": {},
     "output_type": "execute_result"
    }
   ],
   "source": [
    "fi"
   ]
  },
  {
   "cell_type": "code",
   "execution_count": 55,
   "metadata": {
    "ExecuteTime": {
     "end_time": "2020-04-02T01:07:59.793812Z",
     "start_time": "2020-04-02T01:07:59.786069Z"
    }
   },
   "outputs": [
    {
     "data": {
      "text/plain": [
       "25                RandomNumber\n",
       "4                    ASeas_Pts\n",
       "2              ASeas_Goals_For\n",
       "21            AVERAGE_ODD_DRAW\n",
       "8        HSeas_Goal_Difference\n",
       "13                 A_Goals_For\n",
       "16            H_Av_Salary_Club\n",
       "7              HSeas_Goals_For\n",
       "18                 H_Goals_For\n",
       "19           H_Goal_Difference\n",
       "14           A_Goal_Difference\n",
       "11            A_Av_Salary_Club\n",
       "20             AVERAGE_ODD_WIN\n",
       "22    AVERAGE_ODD_OPPONENT_WIN\n",
       "Name: Feature, dtype: object"
      ]
     },
     "execution_count": 55,
     "metadata": {},
     "output_type": "execute_result"
    }
   ],
   "source": [
    "to_keep = fi[fi.Importance>0.030].Feature\n",
    "to_keep"
   ]
  },
  {
   "cell_type": "code",
   "execution_count": 56,
   "metadata": {
    "ExecuteTime": {
     "end_time": "2020-04-02T01:07:59.808697Z",
     "start_time": "2020-04-02T01:07:59.795950Z"
    }
   },
   "outputs": [],
   "source": [
    "X_train_keep = X_train[to_keep].copy()#.drop(['RandomNumber'], axis=1)\n",
    "X_valid_keep = X_valid[to_keep].copy()#.drop(['RandomNumber'], axis=1)\n",
    "X_test_keep = X_test[to_keep].copy()#.drop(['RandomNumber'], axis=1)\n"
   ]
  },
  {
   "cell_type": "code",
   "execution_count": 57,
   "metadata": {
    "ExecuteTime": {
     "end_time": "2020-04-02T01:07:59.826827Z",
     "start_time": "2020-04-02T01:07:59.811215Z"
    },
    "scrolled": true
   },
   "outputs": [
    {
     "data": {
      "text/html": [
       "<div>\n",
       "<style scoped>\n",
       "    .dataframe tbody tr th:only-of-type {\n",
       "        vertical-align: middle;\n",
       "    }\n",
       "\n",
       "    .dataframe tbody tr th {\n",
       "        vertical-align: top;\n",
       "    }\n",
       "\n",
       "    .dataframe thead th {\n",
       "        text-align: right;\n",
       "    }\n",
       "</style>\n",
       "<table border=\"1\" class=\"dataframe\">\n",
       "  <thead>\n",
       "    <tr style=\"text-align: right;\">\n",
       "      <th></th>\n",
       "      <th>RandomNumber</th>\n",
       "      <th>ASeas_Pts</th>\n",
       "      <th>ASeas_Goals_For</th>\n",
       "      <th>AVERAGE_ODD_DRAW</th>\n",
       "      <th>HSeas_Goal_Difference</th>\n",
       "      <th>A_Goals_For</th>\n",
       "      <th>H_Av_Salary_Club</th>\n",
       "      <th>HSeas_Goals_For</th>\n",
       "      <th>H_Goals_For</th>\n",
       "      <th>H_Goal_Difference</th>\n",
       "      <th>A_Goal_Difference</th>\n",
       "      <th>A_Av_Salary_Club</th>\n",
       "      <th>AVERAGE_ODD_WIN</th>\n",
       "      <th>AVERAGE_ODD_OPPONENT_WIN</th>\n",
       "    </tr>\n",
       "  </thead>\n",
       "  <tbody>\n",
       "    <tr>\n",
       "      <th>0</th>\n",
       "      <td>393</td>\n",
       "      <td>0</td>\n",
       "      <td>0</td>\n",
       "      <td>3.5</td>\n",
       "      <td>-2</td>\n",
       "      <td>240</td>\n",
       "      <td>3.25</td>\n",
       "      <td>48</td>\n",
       "      <td>1357</td>\n",
       "      <td>46</td>\n",
       "      <td>-137</td>\n",
       "      <td>1.78</td>\n",
       "      <td>1.73</td>\n",
       "      <td>5.00</td>\n",
       "    </tr>\n",
       "    <tr>\n",
       "      <th>1</th>\n",
       "      <td>1374</td>\n",
       "      <td>56</td>\n",
       "      <td>46</td>\n",
       "      <td>4.0</td>\n",
       "      <td>41</td>\n",
       "      <td>306</td>\n",
       "      <td>5.02</td>\n",
       "      <td>73</td>\n",
       "      <td>1770</td>\n",
       "      <td>768</td>\n",
       "      <td>-77</td>\n",
       "      <td>1.47</td>\n",
       "      <td>1.40</td>\n",
       "      <td>10.00</td>\n",
       "    </tr>\n",
       "    <tr>\n",
       "      <th>2</th>\n",
       "      <td>1864</td>\n",
       "      <td>38</td>\n",
       "      <td>31</td>\n",
       "      <td>3.1</td>\n",
       "      <td>-9</td>\n",
       "      <td>612</td>\n",
       "      <td>2.71</td>\n",
       "      <td>46</td>\n",
       "      <td>623</td>\n",
       "      <td>-95</td>\n",
       "      <td>-292</td>\n",
       "      <td>1.14</td>\n",
       "      <td>2.00</td>\n",
       "      <td>2.70</td>\n",
       "    </tr>\n",
       "    <tr>\n",
       "      <th>3</th>\n",
       "      <td>1862</td>\n",
       "      <td>38</td>\n",
       "      <td>31</td>\n",
       "      <td>3.5</td>\n",
       "      <td>0</td>\n",
       "      <td>1117</td>\n",
       "      <td>1.99</td>\n",
       "      <td>0</td>\n",
       "      <td>201</td>\n",
       "      <td>-64</td>\n",
       "      <td>-69</td>\n",
       "      <td>1.30</td>\n",
       "      <td>1.91</td>\n",
       "      <td>4.00</td>\n",
       "    </tr>\n",
       "    <tr>\n",
       "      <th>4</th>\n",
       "      <td>1719</td>\n",
       "      <td>48</td>\n",
       "      <td>47</td>\n",
       "      <td>3.1</td>\n",
       "      <td>0</td>\n",
       "      <td>425</td>\n",
       "      <td>0.65</td>\n",
       "      <td>0</td>\n",
       "      <td>365</td>\n",
       "      <td>-145</td>\n",
       "      <td>-139</td>\n",
       "      <td>2.76</td>\n",
       "      <td>2.60</td>\n",
       "      <td>2.88</td>\n",
       "    </tr>\n",
       "  </tbody>\n",
       "</table>\n",
       "</div>"
      ],
      "text/plain": [
       "   RandomNumber  ASeas_Pts  ASeas_Goals_For  AVERAGE_ODD_DRAW  \\\n",
       "0           393          0                0               3.5   \n",
       "1          1374         56               46               4.0   \n",
       "2          1864         38               31               3.1   \n",
       "3          1862         38               31               3.5   \n",
       "4          1719         48               47               3.1   \n",
       "\n",
       "   HSeas_Goal_Difference  A_Goals_For  H_Av_Salary_Club  HSeas_Goals_For  \\\n",
       "0                     -2          240              3.25               48   \n",
       "1                     41          306              5.02               73   \n",
       "2                     -9          612              2.71               46   \n",
       "3                      0         1117              1.99                0   \n",
       "4                      0          425              0.65                0   \n",
       "\n",
       "   H_Goals_For  H_Goal_Difference  A_Goal_Difference  A_Av_Salary_Club  \\\n",
       "0         1357                 46               -137              1.78   \n",
       "1         1770                768                -77              1.47   \n",
       "2          623                -95               -292              1.14   \n",
       "3          201                -64                -69              1.30   \n",
       "4          365               -145               -139              2.76   \n",
       "\n",
       "   AVERAGE_ODD_WIN  AVERAGE_ODD_OPPONENT_WIN  \n",
       "0             1.73                      5.00  \n",
       "1             1.40                     10.00  \n",
       "2             2.00                      2.70  \n",
       "3             1.91                      4.00  \n",
       "4             2.60                      2.88  "
      ]
     },
     "execution_count": 57,
     "metadata": {},
     "output_type": "execute_result"
    }
   ],
   "source": [
    "X_train_keep.head()"
   ]
  },
  {
   "cell_type": "code",
   "execution_count": 58,
   "metadata": {
    "ExecuteTime": {
     "end_time": "2020-04-02T01:07:59.839405Z",
     "start_time": "2020-04-02T01:07:59.828763Z"
    }
   },
   "outputs": [
    {
     "name": "stderr",
     "output_type": "stream",
     "text": [
      "/Users/fionastrobridge/opt/anaconda3/envs/insight/lib/python3.6/site-packages/xgboost/core.py:587: FutureWarning: Series.base is deprecated and will be removed in a future version\n",
      "  if getattr(data, 'base', None) is not None and \\\n",
      "/Users/fionastrobridge/opt/anaconda3/envs/insight/lib/python3.6/site-packages/xgboost/core.py:588: FutureWarning: Series.base is deprecated and will be removed in a future version\n",
      "  data.base is not None and isinstance(data, np.ndarray) \\\n"
     ]
    }
   ],
   "source": [
    "dtrain_keep = xgb.DMatrix(X_train_keep, label=y_train)\n",
    "dvalid_keep = xgb.DMatrix(X_valid_keep, label=y_valid)\n",
    "dtest_keep = xgb.DMatrix(X_test_keep, label=y_test)"
   ]
  },
  {
   "cell_type": "code",
   "execution_count": 59,
   "metadata": {
    "ExecuteTime": {
     "end_time": "2020-04-02T01:07:59.846812Z",
     "start_time": "2020-04-02T01:07:59.843598Z"
    }
   },
   "outputs": [],
   "source": [
    "#df_19B20A_output = df_19B20A_output[to_keep].copy().drop(['RandomNumber'], axis=1)"
   ]
  },
  {
   "cell_type": "code",
   "execution_count": 60,
   "metadata": {
    "ExecuteTime": {
     "end_time": "2020-04-02T01:07:59.869514Z",
     "start_time": "2020-04-02T01:07:59.848958Z"
    }
   },
   "outputs": [
    {
     "data": {
      "text/html": [
       "<div>\n",
       "<style scoped>\n",
       "    .dataframe tbody tr th:only-of-type {\n",
       "        vertical-align: middle;\n",
       "    }\n",
       "\n",
       "    .dataframe tbody tr th {\n",
       "        vertical-align: top;\n",
       "    }\n",
       "\n",
       "    .dataframe thead th {\n",
       "        text-align: right;\n",
       "    }\n",
       "</style>\n",
       "<table border=\"1\" class=\"dataframe\">\n",
       "  <thead>\n",
       "    <tr style=\"text-align: right;\">\n",
       "      <th></th>\n",
       "      <th>ASeas_Pos</th>\n",
       "      <th>ASeas_Draw</th>\n",
       "      <th>ASeas_Goals_For</th>\n",
       "      <th>ASeas_Goal_Difference</th>\n",
       "      <th>ASeas_Pts</th>\n",
       "      <th>HSeas_Pos</th>\n",
       "      <th>HSeas_Draw</th>\n",
       "      <th>HSeas_Goals_For</th>\n",
       "      <th>HSeas_Goal_Difference</th>\n",
       "      <th>HSeas_Pts</th>\n",
       "      <th>A_Team_number</th>\n",
       "      <th>A_Av_Salary_Club</th>\n",
       "      <th>A_Draw</th>\n",
       "      <th>A_Goals_For</th>\n",
       "      <th>A_Goal_Difference</th>\n",
       "      <th>H_Team_number</th>\n",
       "      <th>H_Av_Salary_Club</th>\n",
       "      <th>H_Draw</th>\n",
       "      <th>H_Goals_For</th>\n",
       "      <th>H_Goal_Difference</th>\n",
       "      <th>AVERAGE_ODD_WIN</th>\n",
       "      <th>AVERAGE_ODD_DRAW</th>\n",
       "      <th>AVERAGE_ODD_OPPONENT_WIN</th>\n",
       "      <th>year</th>\n",
       "      <th>month</th>\n",
       "      <th>RandomNumber</th>\n",
       "    </tr>\n",
       "  </thead>\n",
       "  <tbody>\n",
       "    <tr>\n",
       "      <th>0</th>\n",
       "      <td>0</td>\n",
       "      <td>0</td>\n",
       "      <td>0</td>\n",
       "      <td>0</td>\n",
       "      <td>0</td>\n",
       "      <td>2</td>\n",
       "      <td>7</td>\n",
       "      <td>89</td>\n",
       "      <td>67</td>\n",
       "      <td>97</td>\n",
       "      <td>19</td>\n",
       "      <td>0.65</td>\n",
       "      <td>92</td>\n",
       "      <td>365</td>\n",
       "      <td>-145</td>\n",
       "      <td>14</td>\n",
       "      <td>4.86</td>\n",
       "      <td>262</td>\n",
       "      <td>1774</td>\n",
       "      <td>728</td>\n",
       "      <td>1.12</td>\n",
       "      <td>8.5</td>\n",
       "      <td>21.00</td>\n",
       "      <td>2019</td>\n",
       "      <td>8</td>\n",
       "      <td>1746</td>\n",
       "    </tr>\n",
       "    <tr>\n",
       "      <th>1</th>\n",
       "      <td>1</td>\n",
       "      <td>2</td>\n",
       "      <td>95</td>\n",
       "      <td>72</td>\n",
       "      <td>98</td>\n",
       "      <td>10</td>\n",
       "      <td>7</td>\n",
       "      <td>52</td>\n",
       "      <td>-3</td>\n",
       "      <td>52</td>\n",
       "      <td>15</td>\n",
       "      <td>5.99</td>\n",
       "      <td>196</td>\n",
       "      <td>1374</td>\n",
       "      <td>399</td>\n",
       "      <td>28</td>\n",
       "      <td>3.19</td>\n",
       "      <td>228</td>\n",
       "      <td>1064</td>\n",
       "      <td>-205</td>\n",
       "      <td>13.00</td>\n",
       "      <td>6.0</td>\n",
       "      <td>1.24</td>\n",
       "      <td>2019</td>\n",
       "      <td>8</td>\n",
       "      <td>1389</td>\n",
       "    </tr>\n",
       "    <tr>\n",
       "      <th>2</th>\n",
       "      <td>16</td>\n",
       "      <td>12</td>\n",
       "      <td>45</td>\n",
       "      <td>-20</td>\n",
       "      <td>39</td>\n",
       "      <td>15</td>\n",
       "      <td>7</td>\n",
       "      <td>45</td>\n",
       "      <td>-23</td>\n",
       "      <td>40</td>\n",
       "      <td>21</td>\n",
       "      <td>2.67</td>\n",
       "      <td>214</td>\n",
       "      <td>937</td>\n",
       "      <td>-150</td>\n",
       "      <td>5</td>\n",
       "      <td>1.60</td>\n",
       "      <td>44</td>\n",
       "      <td>190</td>\n",
       "      <td>-107</td>\n",
       "      <td>2.70</td>\n",
       "      <td>3.2</td>\n",
       "      <td>2.75</td>\n",
       "      <td>2019</td>\n",
       "      <td>8</td>\n",
       "      <td>728</td>\n",
       "    </tr>\n",
       "    <tr>\n",
       "      <th>3</th>\n",
       "      <td>0</td>\n",
       "      <td>0</td>\n",
       "      <td>0</td>\n",
       "      <td>0</td>\n",
       "      <td>0</td>\n",
       "      <td>4</td>\n",
       "      <td>2</td>\n",
       "      <td>67</td>\n",
       "      <td>28</td>\n",
       "      <td>71</td>\n",
       "      <td>2</td>\n",
       "      <td>1.30</td>\n",
       "      <td>275</td>\n",
       "      <td>1117</td>\n",
       "      <td>-69</td>\n",
       "      <td>25</td>\n",
       "      <td>3.52</td>\n",
       "      <td>257</td>\n",
       "      <td>1547</td>\n",
       "      <td>241</td>\n",
       "      <td>1.29</td>\n",
       "      <td>5.5</td>\n",
       "      <td>10.00</td>\n",
       "      <td>2019</td>\n",
       "      <td>8</td>\n",
       "      <td>1179</td>\n",
       "    </tr>\n",
       "    <tr>\n",
       "      <th>4</th>\n",
       "      <td>17</td>\n",
       "      <td>9</td>\n",
       "      <td>35</td>\n",
       "      <td>-25</td>\n",
       "      <td>36</td>\n",
       "      <td>11</td>\n",
       "      <td>8</td>\n",
       "      <td>52</td>\n",
       "      <td>-7</td>\n",
       "      <td>50</td>\n",
       "      <td>4</td>\n",
       "      <td>1.70</td>\n",
       "      <td>22</td>\n",
       "      <td>69</td>\n",
       "      <td>-45</td>\n",
       "      <td>26</td>\n",
       "      <td>1.78</td>\n",
       "      <td>51</td>\n",
       "      <td>240</td>\n",
       "      <td>-137</td>\n",
       "      <td>1.95</td>\n",
       "      <td>3.4</td>\n",
       "      <td>4.20</td>\n",
       "      <td>2019</td>\n",
       "      <td>8</td>\n",
       "      <td>1025</td>\n",
       "    </tr>\n",
       "  </tbody>\n",
       "</table>\n",
       "</div>"
      ],
      "text/plain": [
       "   ASeas_Pos  ASeas_Draw  ASeas_Goals_For  ASeas_Goal_Difference  ASeas_Pts  \\\n",
       "0          0           0                0                      0          0   \n",
       "1          1           2               95                     72         98   \n",
       "2         16          12               45                    -20         39   \n",
       "3          0           0                0                      0          0   \n",
       "4         17           9               35                    -25         36   \n",
       "\n",
       "   HSeas_Pos  HSeas_Draw  HSeas_Goals_For  HSeas_Goal_Difference  HSeas_Pts  \\\n",
       "0          2           7               89                     67         97   \n",
       "1         10           7               52                     -3         52   \n",
       "2         15           7               45                    -23         40   \n",
       "3          4           2               67                     28         71   \n",
       "4         11           8               52                     -7         50   \n",
       "\n",
       "   A_Team_number  A_Av_Salary_Club  A_Draw  A_Goals_For  A_Goal_Difference  \\\n",
       "0             19              0.65      92          365               -145   \n",
       "1             15              5.99     196         1374                399   \n",
       "2             21              2.67     214          937               -150   \n",
       "3              2              1.30     275         1117                -69   \n",
       "4              4              1.70      22           69                -45   \n",
       "\n",
       "   H_Team_number  H_Av_Salary_Club  H_Draw  H_Goals_For  H_Goal_Difference  \\\n",
       "0             14              4.86     262         1774                728   \n",
       "1             28              3.19     228         1064               -205   \n",
       "2              5              1.60      44          190               -107   \n",
       "3             25              3.52     257         1547                241   \n",
       "4             26              1.78      51          240               -137   \n",
       "\n",
       "   AVERAGE_ODD_WIN  AVERAGE_ODD_DRAW  AVERAGE_ODD_OPPONENT_WIN  year  month  \\\n",
       "0             1.12               8.5                     21.00  2019      8   \n",
       "1            13.00               6.0                      1.24  2019      8   \n",
       "2             2.70               3.2                      2.75  2019      8   \n",
       "3             1.29               5.5                     10.00  2019      8   \n",
       "4             1.95               3.4                      4.20  2019      8   \n",
       "\n",
       "   RandomNumber  \n",
       "0          1746  \n",
       "1          1389  \n",
       "2           728  \n",
       "3          1179  \n",
       "4          1025  "
      ]
     },
     "execution_count": 60,
     "metadata": {},
     "output_type": "execute_result"
    }
   ],
   "source": [
    "df_19B20A_output.head()"
   ]
  },
  {
   "cell_type": "code",
   "execution_count": 61,
   "metadata": {
    "ExecuteTime": {
     "end_time": "2020-04-02T01:07:59.876935Z",
     "start_time": "2020-04-02T01:07:59.871877Z"
    }
   },
   "outputs": [],
   "source": [
    "d19B20A_keep = xgb.DMatrix(df_19B20A_output, label=y_19B20A_output)"
   ]
  },
  {
   "cell_type": "code",
   "execution_count": 62,
   "metadata": {
    "ExecuteTime": {
     "end_time": "2020-04-02T01:07:59.883475Z",
     "start_time": "2020-04-02T01:07:59.878683Z"
    }
   },
   "outputs": [],
   "source": [
    "d19B20A_keep = xgb.DMatrix(df_19B20A_output)"
   ]
  },
  {
   "cell_type": "code",
   "execution_count": 63,
   "metadata": {
    "ExecuteTime": {
     "end_time": "2020-04-02T01:07:59.894923Z",
     "start_time": "2020-04-02T01:07:59.885328Z"
    }
   },
   "outputs": [
    {
     "name": "stdout",
     "output_type": "stream",
     "text": [
      "<class 'pandas.core.frame.DataFrame'>\n",
      "RangeIndex: 380 entries, 0 to 379\n",
      "Data columns (total 26 columns):\n",
      "ASeas_Pos                   380 non-null int64\n",
      "ASeas_Draw                  380 non-null int64\n",
      "ASeas_Goals_For             380 non-null int64\n",
      "ASeas_Goal_Difference       380 non-null int64\n",
      "ASeas_Pts                   380 non-null int64\n",
      "HSeas_Pos                   380 non-null int64\n",
      "HSeas_Draw                  380 non-null int64\n",
      "HSeas_Goals_For             380 non-null int64\n",
      "HSeas_Goal_Difference       380 non-null int64\n",
      "HSeas_Pts                   380 non-null int64\n",
      "A_Team_number               380 non-null int64\n",
      "A_Av_Salary_Club            380 non-null float64\n",
      "A_Draw                      380 non-null int64\n",
      "A_Goals_For                 380 non-null int64\n",
      "A_Goal_Difference           380 non-null int64\n",
      "H_Team_number               380 non-null int64\n",
      "H_Av_Salary_Club            380 non-null float64\n",
      "H_Draw                      380 non-null int64\n",
      "H_Goals_For                 380 non-null int64\n",
      "H_Goal_Difference           380 non-null int64\n",
      "AVERAGE_ODD_WIN             380 non-null float64\n",
      "AVERAGE_ODD_DRAW            380 non-null float64\n",
      "AVERAGE_ODD_OPPONENT_WIN    380 non-null float64\n",
      "year                        380 non-null int64\n",
      "month                       380 non-null int64\n",
      "RandomNumber                380 non-null int64\n",
      "dtypes: float64(5), int64(21)\n",
      "memory usage: 77.3 KB\n"
     ]
    }
   ],
   "source": [
    "df_19B20A_output.info()"
   ]
  },
  {
   "cell_type": "code",
   "execution_count": 64,
   "metadata": {
    "ExecuteTime": {
     "end_time": "2020-04-02T01:10:26.831361Z",
     "start_time": "2020-04-02T01:07:59.896987Z"
    }
   },
   "outputs": [
    {
     "name": "stderr",
     "output_type": "stream",
     "text": [
      "[Parallel(n_jobs=-1)]: Using backend LokyBackend with 4 concurrent workers.\n"
     ]
    },
    {
     "name": "stdout",
     "output_type": "stream",
     "text": [
      "Fitting 4 folds for each of 648 candidates, totalling 2592 fits\n"
     ]
    },
    {
     "name": "stderr",
     "output_type": "stream",
     "text": [
      "[Parallel(n_jobs=-1)]: Done  76 tasks      | elapsed:    5.3s\n",
      "[Parallel(n_jobs=-1)]: Done 376 tasks      | elapsed:   21.6s\n",
      "[Parallel(n_jobs=-1)]: Done 876 tasks      | elapsed:   51.4s\n",
      "[Parallel(n_jobs=-1)]: Done 1576 tasks      | elapsed:  1.6min\n",
      "[Parallel(n_jobs=-1)]: Done 2476 tasks      | elapsed:  2.4min\n",
      "[Parallel(n_jobs=-1)]: Done 2592 out of 2592 | elapsed:  2.4min finished\n"
     ]
    }
   ],
   "source": [
    "forest = RandomForestClassifier(random_state=1)\n",
    "\n",
    "n_estimators = [50, 100, 150]\n",
    "max_depth = [1, 3, 5, 9, 12, 15]\n",
    "min_samples_split = [1, 2, 3]\n",
    "min_samples_leaf = [1, 6, 12, 15, 18, 24] \n",
    "bootstrap = ['False', 'True'] \n",
    "\n",
    "hyperF = dict(n_estimators = n_estimators, max_depth = max_depth,  \n",
    "              min_samples_split = min_samples_split, \n",
    "              min_samples_leaf = min_samples_leaf,\n",
    "              bootstrap = bootstrap)\n",
    "\n",
    "gridF = GridSearchCV(forest, hyperF, verbose = 1, cv=4, n_jobs = -1)\n",
    "bestF = gridF.fit(X_train_keep, y_train)\n",
    "\n"
   ]
  },
  {
   "cell_type": "code",
   "execution_count": 65,
   "metadata": {
    "ExecuteTime": {
     "end_time": "2020-04-02T01:10:26.840469Z",
     "start_time": "2020-04-02T01:10:26.833095Z"
    },
    "scrolled": true
   },
   "outputs": [
    {
     "name": "stdout",
     "output_type": "stream",
     "text": [
      "Best: 0.5421052631578948 using {'bootstrap': 'False', 'max_depth': 9, 'min_samples_leaf': 24, 'min_samples_split': 2, 'n_estimators': 50} \n",
      "\n"
     ]
    }
   ],
   "source": [
    "print(f'Best: {bestF.best_score_} using {bestF.best_params_}','\\n')"
   ]
  },
  {
   "cell_type": "code",
   "execution_count": 66,
   "metadata": {
    "ExecuteTime": {
     "end_time": "2020-04-02T01:10:27.535620Z",
     "start_time": "2020-04-02T01:10:26.842912Z"
    }
   },
   "outputs": [
    {
     "name": "stdout",
     "output_type": "stream",
     "text": [
      "[0.954215025971334, 1.032370802417528, 0.6026315789473684, 0.5736842105263158]\n"
     ]
    }
   ],
   "source": [
    "clf_keep = RandomForestClassifier(random_state=1, n_jobs=-1, max_depth=5, min_samples_leaf=13, min_samples_split=6, n_estimators=150, bootstrap='False')\n",
    "clf_keep.fit(X_train_keep, y_train)\n",
    "print_score(clf_keep, X_train_keep, y_train, X_valid_keep, y_valid)\n",
    "\n"
   ]
  },
  {
   "cell_type": "code",
   "execution_count": 67,
   "metadata": {
    "ExecuteTime": {
     "end_time": "2020-04-02T01:10:27.817879Z",
     "start_time": "2020-04-02T01:10:27.538446Z"
    }
   },
   "outputs": [
    {
     "data": {
      "image/png": "[encoded data removed]",
      "text/plain": [
       "<Figure size 864x504 with 1 Axes>"
      ]
     },
     "metadata": {
      "needs_background": "light"
     },
     "output_type": "display_data"
    }
   ],
   "source": [
    "fi_keepvalid = pd.DataFrame({'Feature': list(X_valid_keep.columns),\n",
    "                   'Importance': clf_keep.feature_importances_}).\\\n",
    "                    sort_values('Importance', ascending = True)\n",
    "fi_plotvalid = fi_keepvalid.plot('Feature','Importance', 'barh', figsize=(12,7), legend=False, color=['C0', 'C0', 'C0', 'C0', 'C0','C0', 'C0', 'C0', 'C0', 'C0', 'C0'])\n",
    "#labels = [item.get_text() for item in fi_plot.get_yticklabels()]\n",
    "#labels[10] = 'Odds Away Win'\n",
    "#labels[9] = 'Odds Home Win'\n",
    "#labels[8] = 'Home Total Goals Difference'\n",
    "#labels[7] = 'Away Salary'\n",
    "#labels[6] = 'Home Total Goals For'\n",
    "#labels[5] = 'Away Total Goals For'\n",
    "#labels[4] = 'Home Last Season Goals Difference'\n",
    "#labels[3] = 'Odds Draw'\n",
    "#labels[2] = 'Away Last Season Goals For'\n",
    "#labels[1] = 'Away Last Season Points'\n",
    "#labels[0] = 'Home Salary'\n",
    "#fi_plotvalid.set_yticklabels(labels)\n"
   ]
  },
  {
   "cell_type": "code",
   "execution_count": 68,
   "metadata": {
    "ExecuteTime": {
     "end_time": "2020-04-02T01:10:27.831662Z",
     "start_time": "2020-04-02T01:10:27.819946Z"
    }
   },
   "outputs": [
    {
     "data": {
      "text/html": [
       "<div>\n",
       "<style scoped>\n",
       "    .dataframe tbody tr th:only-of-type {\n",
       "        vertical-align: middle;\n",
       "    }\n",
       "\n",
       "    .dataframe tbody tr th {\n",
       "        vertical-align: top;\n",
       "    }\n",
       "\n",
       "    .dataframe thead th {\n",
       "        text-align: right;\n",
       "    }\n",
       "</style>\n",
       "<table border=\"1\" class=\"dataframe\">\n",
       "  <thead>\n",
       "    <tr style=\"text-align: right;\">\n",
       "      <th></th>\n",
       "      <th>RandomNumber</th>\n",
       "      <th>ASeas_Pts</th>\n",
       "      <th>ASeas_Goals_For</th>\n",
       "      <th>AVERAGE_ODD_DRAW</th>\n",
       "      <th>HSeas_Goal_Difference</th>\n",
       "      <th>A_Goals_For</th>\n",
       "      <th>H_Av_Salary_Club</th>\n",
       "      <th>HSeas_Goals_For</th>\n",
       "      <th>H_Goals_For</th>\n",
       "      <th>H_Goal_Difference</th>\n",
       "      <th>A_Goal_Difference</th>\n",
       "      <th>A_Av_Salary_Club</th>\n",
       "      <th>AVERAGE_ODD_WIN</th>\n",
       "      <th>AVERAGE_ODD_OPPONENT_WIN</th>\n",
       "    </tr>\n",
       "  </thead>\n",
       "  <tbody>\n",
       "    <tr>\n",
       "      <th>0</th>\n",
       "      <td>1115</td>\n",
       "      <td>47</td>\n",
       "      <td>56</td>\n",
       "      <td>3.8</td>\n",
       "      <td>40</td>\n",
       "      <td>623</td>\n",
       "      <td>6.53</td>\n",
       "      <td>68</td>\n",
       "      <td>1989</td>\n",
       "      <td>1060</td>\n",
       "      <td>-95</td>\n",
       "      <td>2.71</td>\n",
       "      <td>1.57</td>\n",
       "      <td>6.00</td>\n",
       "    </tr>\n",
       "    <tr>\n",
       "      <th>1</th>\n",
       "      <td>719</td>\n",
       "      <td>0</td>\n",
       "      <td>0</td>\n",
       "      <td>3.5</td>\n",
       "      <td>-16</td>\n",
       "      <td>66</td>\n",
       "      <td>1.99</td>\n",
       "      <td>45</td>\n",
       "      <td>201</td>\n",
       "      <td>-64</td>\n",
       "      <td>-77</td>\n",
       "      <td>0.96</td>\n",
       "      <td>1.91</td>\n",
       "      <td>4.00</td>\n",
       "    </tr>\n",
       "    <tr>\n",
       "      <th>2</th>\n",
       "      <td>479</td>\n",
       "      <td>77</td>\n",
       "      <td>74</td>\n",
       "      <td>3.2</td>\n",
       "      <td>-8</td>\n",
       "      <td>1547</td>\n",
       "      <td>1.65</td>\n",
       "      <td>39</td>\n",
       "      <td>1249</td>\n",
       "      <td>14</td>\n",
       "      <td>241</td>\n",
       "      <td>3.52</td>\n",
       "      <td>3.80</td>\n",
       "      <td>2.05</td>\n",
       "    </tr>\n",
       "    <tr>\n",
       "      <th>3</th>\n",
       "      <td>766</td>\n",
       "      <td>49</td>\n",
       "      <td>44</td>\n",
       "      <td>3.2</td>\n",
       "      <td>0</td>\n",
       "      <td>1357</td>\n",
       "      <td>1.76</td>\n",
       "      <td>0</td>\n",
       "      <td>203</td>\n",
       "      <td>-124</td>\n",
       "      <td>46</td>\n",
       "      <td>3.25</td>\n",
       "      <td>2.30</td>\n",
       "      <td>3.20</td>\n",
       "    </tr>\n",
       "    <tr>\n",
       "      <th>4</th>\n",
       "      <td>1715</td>\n",
       "      <td>44</td>\n",
       "      <td>45</td>\n",
       "      <td>3.3</td>\n",
       "      <td>0</td>\n",
       "      <td>425</td>\n",
       "      <td>1.73</td>\n",
       "      <td>0</td>\n",
       "      <td>604</td>\n",
       "      <td>-174</td>\n",
       "      <td>-139</td>\n",
       "      <td>2.76</td>\n",
       "      <td>2.45</td>\n",
       "      <td>2.80</td>\n",
       "    </tr>\n",
       "  </tbody>\n",
       "</table>\n",
       "</div>"
      ],
      "text/plain": [
       "   RandomNumber  ASeas_Pts  ASeas_Goals_For  AVERAGE_ODD_DRAW  \\\n",
       "0          1115         47               56               3.8   \n",
       "1           719          0                0               3.5   \n",
       "2           479         77               74               3.2   \n",
       "3           766         49               44               3.2   \n",
       "4          1715         44               45               3.3   \n",
       "\n",
       "   HSeas_Goal_Difference  A_Goals_For  H_Av_Salary_Club  HSeas_Goals_For  \\\n",
       "0                     40          623              6.53               68   \n",
       "1                    -16           66              1.99               45   \n",
       "2                     -8         1547              1.65               39   \n",
       "3                      0         1357              1.76                0   \n",
       "4                      0          425              1.73                0   \n",
       "\n",
       "   H_Goals_For  H_Goal_Difference  A_Goal_Difference  A_Av_Salary_Club  \\\n",
       "0         1989               1060                -95              2.71   \n",
       "1          201                -64                -77              0.96   \n",
       "2         1249                 14                241              3.52   \n",
       "3          203               -124                 46              3.25   \n",
       "4          604               -174               -139              2.76   \n",
       "\n",
       "   AVERAGE_ODD_WIN  AVERAGE_ODD_OPPONENT_WIN  \n",
       "0             1.57                      6.00  \n",
       "1             1.91                      4.00  \n",
       "2             3.80                      2.05  \n",
       "3             2.30                      3.20  \n",
       "4             2.45                      2.80  "
      ]
     },
     "execution_count": 68,
     "metadata": {},
     "output_type": "execute_result"
    }
   ],
   "source": [
    "X_valid_keep.head()"
   ]
  },
  {
   "cell_type": "code",
   "execution_count": 69,
   "metadata": {
    "ExecuteTime": {
     "end_time": "2020-04-02T01:10:27.949416Z",
     "start_time": "2020-04-02T01:10:27.833914Z"
    }
   },
   "outputs": [
    {
     "data": {
      "image/png": "[encoded data removed]",
      "text/plain": [
       "<Figure size 432x288 with 1 Axes>"
      ]
     },
     "metadata": {
      "needs_background": "light"
     },
     "output_type": "display_data"
    }
   ],
   "source": [
    "#%matplotlib qt\n",
    "bar_width = 0.35\n",
    "index = np.arange(3)\n",
    "fig, ax = plt.subplots()\n",
    "data_x = [0.0, 1.0, 2.0]\n",
    "data_y = [100.0, 59.6, 59.7]\n",
    "data_z = [55.5, 59.2, 59.7]\n",
    "training = ax.bar(index, data_y, bar_width,\n",
    "                label=\"Training\", color='blue')\n",
    "valid = ax.bar(index+bar_width, data_z,\n",
    "                 bar_width, label=\"Validation\", color='green')\n",
    "ax.set_xlabel('Model Optimization')\n",
    "ax.set_ylabel('Accuracy %')\n",
    "ax.set_xticklabels([\"Default RF\", \"Hyperparameter Tuning\", \"Feature Selection\"])\n",
    "ax.set_xticks(index + bar_width / 2)\n",
    "ax.legend()\n",
    "plt.show()\n"
   ]
  },
  {
   "cell_type": "code",
   "execution_count": 70,
   "metadata": {
    "ExecuteTime": {
     "end_time": "2020-04-02T01:10:28.166267Z",
     "start_time": "2020-04-02T01:10:27.951490Z"
    }
   },
   "outputs": [
    {
     "data": {
      "image/png": "[encoded data removed]",
      "text/plain": [
       "<Figure size 1152x720 with 1 Axes>"
      ]
     },
     "metadata": {
      "needs_background": "light"
     },
     "output_type": "display_data"
    }
   ],
   "source": [
    "from scipy.cluster import hierarchy as hc\n",
    "corr = np.round(scipy.stats.spearmanr(X_train_keep).correlation, 4)\n",
    "corr_condensed = hc.distance.squareform(1-corr)\n",
    "z = hc.linkage(corr_condensed, method='average')\n",
    "fig = plt.figure(figsize=(16,10))\n",
    "dendrogram = hc.dendrogram(z, labels=X_train_keep.columns,\n",
    "    orientation='left', leaf_font_size=16)\n",
    "plt.show()"
   ]
  },
  {
   "cell_type": "markdown",
   "metadata": {},
   "source": [
    "### Confusion Matrix on Validation Data with Random Forest"
   ]
  },
  {
   "cell_type": "code",
   "execution_count": 71,
   "metadata": {
    "ExecuteTime": {
     "end_time": "2020-04-02T01:10:29.910237Z",
     "start_time": "2020-04-02T01:10:28.168180Z"
    }
   },
   "outputs": [
    {
     "name": "stdout",
     "output_type": "stream",
     "text": [
      "[0.954215025971334, 1.032370802417528, 0.6026315789473684, 0.5736842105263158]\n",
      "[0.954215025971334, 1.0526157893552615, 0.6026315789473684, 0.516]\n",
      "[0.9403246919632545, 1.0234101919819987, 0.6026315789473684, 0.5842105263157895]\n",
      "[0.9403246919632545, 1.0526157893552615, 0.6026315789473684, 0.528]\n"
     ]
    }
   ],
   "source": [
    "print_score(clf_keep, X_train_keep, y_train, X_valid_keep, y_valid)\n",
    "print_score(clf_keep, X_train_keep, y_train, X_test_keep, y_test)\n",
    "\n",
    "print_score(clf, X_train, y_train, X_valid, y_valid)\n",
    "print_score(clf, X_train, y_train, X_test, y_test)"
   ]
  },
  {
   "cell_type": "code",
   "execution_count": 72,
   "metadata": {
    "ExecuteTime": {
     "end_time": "2020-04-02T01:10:30.047230Z",
     "start_time": "2020-04-02T01:10:29.914425Z"
    }
   },
   "outputs": [
    {
     "data": {
      "text/html": [
       "<div>\n",
       "<style scoped>\n",
       "    .dataframe tbody tr th:only-of-type {\n",
       "        vertical-align: middle;\n",
       "    }\n",
       "\n",
       "    .dataframe tbody tr th {\n",
       "        vertical-align: top;\n",
       "    }\n",
       "\n",
       "    .dataframe thead th {\n",
       "        text-align: right;\n",
       "    }\n",
       "</style>\n",
       "<table border=\"1\" class=\"dataframe\">\n",
       "  <thead>\n",
       "    <tr style=\"text-align: right;\">\n",
       "      <th>outcome_by_HOME</th>\n",
       "      <th>0.0</th>\n",
       "      <th>1.0</th>\n",
       "      <th>2.0</th>\n",
       "    </tr>\n",
       "    <tr>\n",
       "      <th>row_0</th>\n",
       "      <th></th>\n",
       "      <th></th>\n",
       "      <th></th>\n",
       "    </tr>\n",
       "  </thead>\n",
       "  <tbody>\n",
       "    <tr>\n",
       "      <th>0.0</th>\n",
       "      <td>61</td>\n",
       "      <td>9</td>\n",
       "      <td>18</td>\n",
       "    </tr>\n",
       "    <tr>\n",
       "      <th>1.0</th>\n",
       "      <td>5</td>\n",
       "      <td>4</td>\n",
       "      <td>6</td>\n",
       "    </tr>\n",
       "    <tr>\n",
       "      <th>2.0</th>\n",
       "      <td>62</td>\n",
       "      <td>58</td>\n",
       "      <td>157</td>\n",
       "    </tr>\n",
       "  </tbody>\n",
       "</table>\n",
       "</div>"
      ],
      "text/plain": [
       "outcome_by_HOME  0.0  1.0  2.0\n",
       "row_0                         \n",
       "0.0               61    9   18\n",
       "1.0                5    4    6\n",
       "2.0               62   58  157"
      ]
     },
     "execution_count": 72,
     "metadata": {},
     "output_type": "execute_result"
    }
   ],
   "source": [
    "cm_validclf = pd.crosstab(clf.predict(X_valid), y_valid)\n",
    "cm_validclf"
   ]
  },
  {
   "cell_type": "code",
   "execution_count": 73,
   "metadata": {
    "ExecuteTime": {
     "end_time": "2020-04-02T01:10:30.177740Z",
     "start_time": "2020-04-02T01:10:30.049298Z"
    },
    "scrolled": true
   },
   "outputs": [
    {
     "data": {
      "text/html": [
       "<div>\n",
       "<style scoped>\n",
       "    .dataframe tbody tr th:only-of-type {\n",
       "        vertical-align: middle;\n",
       "    }\n",
       "\n",
       "    .dataframe tbody tr th {\n",
       "        vertical-align: top;\n",
       "    }\n",
       "\n",
       "    .dataframe thead th {\n",
       "        text-align: right;\n",
       "    }\n",
       "</style>\n",
       "<table border=\"1\" class=\"dataframe\">\n",
       "  <thead>\n",
       "    <tr style=\"text-align: right;\">\n",
       "      <th>outcome_by_HOME</th>\n",
       "      <th>0.0</th>\n",
       "      <th>1.0</th>\n",
       "      <th>2.0</th>\n",
       "    </tr>\n",
       "    <tr>\n",
       "      <th>row_0</th>\n",
       "      <th></th>\n",
       "      <th></th>\n",
       "      <th></th>\n",
       "    </tr>\n",
       "  </thead>\n",
       "  <tbody>\n",
       "    <tr>\n",
       "      <th>0.0</th>\n",
       "      <td>63</td>\n",
       "      <td>10</td>\n",
       "      <td>19</td>\n",
       "    </tr>\n",
       "    <tr>\n",
       "      <th>1.0</th>\n",
       "      <td>3</td>\n",
       "      <td>2</td>\n",
       "      <td>9</td>\n",
       "    </tr>\n",
       "    <tr>\n",
       "      <th>2.0</th>\n",
       "      <td>62</td>\n",
       "      <td>59</td>\n",
       "      <td>153</td>\n",
       "    </tr>\n",
       "  </tbody>\n",
       "</table>\n",
       "</div>"
      ],
      "text/plain": [
       "outcome_by_HOME  0.0  1.0  2.0\n",
       "row_0                         \n",
       "0.0               63   10   19\n",
       "1.0                3    2    9\n",
       "2.0               62   59  153"
      ]
     },
     "execution_count": 73,
     "metadata": {},
     "output_type": "execute_result"
    }
   ],
   "source": [
    "cm_validclf_keep = pd.crosstab(clf_keep.predict(X_valid_keep), y_valid)\n",
    "cm_validclf_keep"
   ]
  },
  {
   "cell_type": "code",
   "execution_count": 74,
   "metadata": {
    "ExecuteTime": {
     "end_time": "2020-04-02T01:10:30.309225Z",
     "start_time": "2020-04-02T01:10:30.179827Z"
    }
   },
   "outputs": [
    {
     "data": {
      "text/html": [
       "<div>\n",
       "<style scoped>\n",
       "    .dataframe tbody tr th:only-of-type {\n",
       "        vertical-align: middle;\n",
       "    }\n",
       "\n",
       "    .dataframe tbody tr th {\n",
       "        vertical-align: top;\n",
       "    }\n",
       "\n",
       "    .dataframe thead th {\n",
       "        text-align: right;\n",
       "    }\n",
       "</style>\n",
       "<table border=\"1\" class=\"dataframe\">\n",
       "  <thead>\n",
       "    <tr style=\"text-align: right;\">\n",
       "      <th>outcome_by_HOME</th>\n",
       "      <th>0.0</th>\n",
       "      <th>1.0</th>\n",
       "      <th>2.0</th>\n",
       "    </tr>\n",
       "    <tr>\n",
       "      <th>row_0</th>\n",
       "      <th></th>\n",
       "      <th></th>\n",
       "      <th></th>\n",
       "    </tr>\n",
       "  </thead>\n",
       "  <tbody>\n",
       "    <tr>\n",
       "      <th>0.0</th>\n",
       "      <td>37</td>\n",
       "      <td>14</td>\n",
       "      <td>14</td>\n",
       "    </tr>\n",
       "    <tr>\n",
       "      <th>1.0</th>\n",
       "      <td>4</td>\n",
       "      <td>5</td>\n",
       "      <td>6</td>\n",
       "    </tr>\n",
       "    <tr>\n",
       "      <th>2.0</th>\n",
       "      <td>38</td>\n",
       "      <td>45</td>\n",
       "      <td>87</td>\n",
       "    </tr>\n",
       "  </tbody>\n",
       "</table>\n",
       "</div>"
      ],
      "text/plain": [
       "outcome_by_HOME  0.0  1.0  2.0\n",
       "row_0                         \n",
       "0.0               37   14   14\n",
       "1.0                4    5    6\n",
       "2.0               38   45   87"
      ]
     },
     "execution_count": 74,
     "metadata": {},
     "output_type": "execute_result"
    }
   ],
   "source": [
    "cm_testclf_keep = pd.crosstab(clf_keep.predict(X_test_keep), y_test)\n",
    "cm_testclf_keep"
   ]
  },
  {
   "cell_type": "code",
   "execution_count": 75,
   "metadata": {
    "ExecuteTime": {
     "end_time": "2020-04-02T01:10:30.439239Z",
     "start_time": "2020-04-02T01:10:30.311218Z"
    }
   },
   "outputs": [
    {
     "data": {
      "text/html": [
       "<div>\n",
       "<style scoped>\n",
       "    .dataframe tbody tr th:only-of-type {\n",
       "        vertical-align: middle;\n",
       "    }\n",
       "\n",
       "    .dataframe tbody tr th {\n",
       "        vertical-align: top;\n",
       "    }\n",
       "\n",
       "    .dataframe thead th {\n",
       "        text-align: right;\n",
       "    }\n",
       "</style>\n",
       "<table border=\"1\" class=\"dataframe\">\n",
       "  <thead>\n",
       "    <tr style=\"text-align: right;\">\n",
       "      <th>outcome_by_HOME</th>\n",
       "      <th>0.0</th>\n",
       "      <th>1.0</th>\n",
       "      <th>2.0</th>\n",
       "    </tr>\n",
       "    <tr>\n",
       "      <th>row_0</th>\n",
       "      <th></th>\n",
       "      <th></th>\n",
       "      <th></th>\n",
       "    </tr>\n",
       "  </thead>\n",
       "  <tbody>\n",
       "    <tr>\n",
       "      <th>0.0</th>\n",
       "      <td>37</td>\n",
       "      <td>14</td>\n",
       "      <td>14</td>\n",
       "    </tr>\n",
       "    <tr>\n",
       "      <th>1.0</th>\n",
       "      <td>3</td>\n",
       "      <td>2</td>\n",
       "      <td>0</td>\n",
       "    </tr>\n",
       "    <tr>\n",
       "      <th>2.0</th>\n",
       "      <td>39</td>\n",
       "      <td>48</td>\n",
       "      <td>93</td>\n",
       "    </tr>\n",
       "  </tbody>\n",
       "</table>\n",
       "</div>"
      ],
      "text/plain": [
       "outcome_by_HOME  0.0  1.0  2.0\n",
       "row_0                         \n",
       "0.0               37   14   14\n",
       "1.0                3    2    0\n",
       "2.0               39   48   93"
      ]
     },
     "execution_count": 75,
     "metadata": {},
     "output_type": "execute_result"
    }
   ],
   "source": [
    "cm_testclf = pd.crosstab(clf.predict(X_test), y_test)\n",
    "cm_testclf"
   ]
  },
  {
   "cell_type": "code",
   "execution_count": 76,
   "metadata": {
    "ExecuteTime": {
     "end_time": "2020-04-02T01:10:30.686013Z",
     "start_time": "2020-04-02T01:10:30.441940Z"
    }
   },
   "outputs": [
    {
     "data": {
      "text/plain": [
       "Text(0, 0.5, 'Predicted label')"
      ]
     },
     "execution_count": 76,
     "metadata": {},
     "output_type": "execute_result"
    },
    {
     "data": {
      "image/png": "[encoded data removed]",
      "text/plain": [
       "<Figure size 576x432 with 2 Axes>"
      ]
     },
     "metadata": {
      "needs_background": "light"
     },
     "output_type": "display_data"
    }
   ],
   "source": [
    "cmap = plt.get_cmap('Blues')\n",
    "plt.figure(figsize=(8, 6))\n",
    "plt.imshow(cm_testclf_keep, cmap=cmap)\n",
    "plt.title('Confusion Matrix')\n",
    "plt.grid(False)\n",
    "plt.colorbar()\n",
    "plt.xlabel('True label')\n",
    "plt.ylabel('Predicted label')\n",
    "    "
   ]
  },
  {
   "cell_type": "markdown",
   "metadata": {},
   "source": [
    "### Confusion Matrix on Logistic Regression after Feature Selection"
   ]
  },
  {
   "cell_type": "code",
   "execution_count": 77,
   "metadata": {
    "ExecuteTime": {
     "end_time": "2020-04-02T01:10:30.730221Z",
     "start_time": "2020-04-02T01:10:30.687963Z"
    }
   },
   "outputs": [
    {
     "name": "stdout",
     "output_type": "stream",
     "text": [
      "0.5210526315789473\n",
      "0.6052631578947368\n"
     ]
    },
    {
     "name": "stderr",
     "output_type": "stream",
     "text": [
      "/Users/fionastrobridge/opt/anaconda3/envs/insight/lib/python3.6/site-packages/sklearn/linear_model/_sag.py:330: ConvergenceWarning: The max_iter was reached which means the coef_ did not converge\n",
      "  \"the coef_ did not converge\", ConvergenceWarning)\n"
     ]
    }
   ],
   "source": [
    "clf_LG_keep = LogisticRegression(random_state=1, multi_class='multinomial', solver='sag', C=1.0).fit(X_train_keep, y_train)\n",
    "print(clf_LG_keep.score(X_train_keep, y_train))\n",
    "\n",
    "predictions = clf_LG_keep.predict(X_valid_keep)\n",
    "print(accuracy_score(y_valid, predictions))\n"
   ]
  },
  {
   "cell_type": "code",
   "execution_count": 78,
   "metadata": {
    "ExecuteTime": {
     "end_time": "2020-04-02T01:10:49.026703Z",
     "start_time": "2020-04-02T01:10:30.732102Z"
    }
   },
   "outputs": [
    {
     "name": "stdout",
     "output_type": "stream",
     "text": [
      "Best: 0.526023 using {'C': 100, 'multi_class': 'multinomial', 'solver': 'newton-cg'}\n",
      "0.526023 (0.021980) with: {'C': 100, 'multi_class': 'multinomial', 'solver': 'newton-cg'}\n",
      "0.511404 (0.023368) with: {'C': 100, 'multi_class': 'multinomial', 'solver': 'lbfgs'}\n",
      "0.513743 (0.023073) with: {'C': 100, 'multi_class': 'multinomial', 'solver': 'sag'}\n",
      "0.525731 (0.020898) with: {'C': 100, 'multi_class': 'ovr', 'solver': 'newton-cg'}\n",
      "0.522807 (0.020207) with: {'C': 100, 'multi_class': 'ovr', 'solver': 'lbfgs'}\n",
      "0.513743 (0.022760) with: {'C': 100, 'multi_class': 'ovr', 'solver': 'sag'}\n",
      "0.526023 (0.021980) with: {'C': 10, 'multi_class': 'multinomial', 'solver': 'newton-cg'}\n",
      "0.513743 (0.027459) with: {'C': 10, 'multi_class': 'multinomial', 'solver': 'lbfgs'}\n",
      "0.513450 (0.022482) with: {'C': 10, 'multi_class': 'multinomial', 'solver': 'sag'}\n",
      "0.525731 (0.020898) with: {'C': 10, 'multi_class': 'ovr', 'solver': 'newton-cg'}\n",
      "0.523977 (0.020526) with: {'C': 10, 'multi_class': 'ovr', 'solver': 'lbfgs'}\n",
      "0.513743 (0.022760) with: {'C': 10, 'multi_class': 'ovr', 'solver': 'sag'}\n",
      "0.525731 (0.021951) with: {'C': 1.0, 'multi_class': 'multinomial', 'solver': 'newton-cg'}\n",
      "0.512865 (0.023311) with: {'C': 1.0, 'multi_class': 'multinomial', 'solver': 'lbfgs'}\n",
      "0.513450 (0.022482) with: {'C': 1.0, 'multi_class': 'multinomial', 'solver': 'sag'}\n",
      "0.525731 (0.020898) with: {'C': 1.0, 'multi_class': 'ovr', 'solver': 'newton-cg'}\n",
      "0.523392 (0.020249) with: {'C': 1.0, 'multi_class': 'ovr', 'solver': 'lbfgs'}\n",
      "0.513450 (0.022709) with: {'C': 1.0, 'multi_class': 'ovr', 'solver': 'sag'}\n",
      "0.524561 (0.020384) with: {'C': 0.1, 'multi_class': 'multinomial', 'solver': 'newton-cg'}\n",
      "0.512573 (0.024117) with: {'C': 0.1, 'multi_class': 'multinomial', 'solver': 'lbfgs'}\n",
      "0.514035 (0.023385) with: {'C': 0.1, 'multi_class': 'multinomial', 'solver': 'sag'}\n",
      "0.523977 (0.019658) with: {'C': 0.1, 'multi_class': 'ovr', 'solver': 'newton-cg'}\n",
      "0.523684 (0.019543) with: {'C': 0.1, 'multi_class': 'ovr', 'solver': 'lbfgs'}\n",
      "0.513743 (0.023251) with: {'C': 0.1, 'multi_class': 'ovr', 'solver': 'sag'}\n",
      "0.523392 (0.017651) with: {'C': 0.01, 'multi_class': 'multinomial', 'solver': 'newton-cg'}\n",
      "0.514327 (0.024074) with: {'C': 0.01, 'multi_class': 'multinomial', 'solver': 'lbfgs'}\n",
      "0.513743 (0.023073) with: {'C': 0.01, 'multi_class': 'multinomial', 'solver': 'sag'}\n",
      "0.525731 (0.013652) with: {'C': 0.01, 'multi_class': 'ovr', 'solver': 'newton-cg'}\n",
      "0.524269 (0.020129) with: {'C': 0.01, 'multi_class': 'ovr', 'solver': 'lbfgs'}\n",
      "0.513450 (0.022709) with: {'C': 0.01, 'multi_class': 'ovr', 'solver': 'sag'}\n"
     ]
    }
   ],
   "source": [
    "model = LogisticRegression()\n",
    "solvers = ['newton-cg', 'lbfgs', 'sag']\n",
    "c_values = [100, 10, 1.0, 0.1, 0.01]\n",
    "multi_class= ['multinomial', 'ovr']\n",
    "\n",
    "# define grid search\n",
    "grid = dict(solver=solvers,C=c_values, multi_class=multi_class)\n",
    "cv = RepeatedStratifiedKFold(n_splits=4, n_repeats=3, random_state=1)\n",
    "grid_search = GridSearchCV(estimator=model, param_grid=grid, n_jobs=-1, cv=cv, scoring='accuracy',error_score=0)\n",
    "grid_result = grid_search.fit(X_train_keep, y_train)\n",
    "\n",
    "# summarize results\n",
    "print(\"Best: %f using %s\" % (grid_result.best_score_, grid_result.best_params_))\n",
    "means = grid_result.cv_results_['mean_test_score']\n",
    "stds = grid_result.cv_results_['std_test_score']\n",
    "params = grid_result.cv_results_['params']\n",
    "for mean, stdev, param in zip(means, stds, params):\n",
    "    print(\"%f (%f) with: %r\" % (mean, stdev, param))"
   ]
  },
  {
   "cell_type": "code",
   "execution_count": 79,
   "metadata": {
    "ExecuteTime": {
     "end_time": "2020-04-02T01:10:49.315967Z",
     "start_time": "2020-04-02T01:10:49.028554Z"
    }
   },
   "outputs": [
    {
     "name": "stdout",
     "output_type": "stream",
     "text": [
      "0.5447368421052632\n",
      "0.5684210526315789\n"
     ]
    }
   ],
   "source": [
    "clf_LG_keep = LogisticRegression(random_state=1, multi_class='ovr', solver='newton-cg', C=1.0).fit(X_train_keep, y_train)\n",
    "print(clf_LG_keep.score(X_train_keep, y_train))\n",
    "\n",
    "predictions_keep = clf_LG_keep.predict(X_valid_keep)\n",
    "print(accuracy_score(y_valid, predictions_keep))\n"
   ]
  },
  {
   "cell_type": "code",
   "execution_count": 80,
   "metadata": {
    "ExecuteTime": {
     "end_time": "2020-04-02T01:10:49.342519Z",
     "start_time": "2020-04-02T01:10:49.318384Z"
    }
   },
   "outputs": [
    {
     "data": {
      "text/html": [
       "<div>\n",
       "<style scoped>\n",
       "    .dataframe tbody tr th:only-of-type {\n",
       "        vertical-align: middle;\n",
       "    }\n",
       "\n",
       "    .dataframe tbody tr th {\n",
       "        vertical-align: top;\n",
       "    }\n",
       "\n",
       "    .dataframe thead th {\n",
       "        text-align: right;\n",
       "    }\n",
       "</style>\n",
       "<table border=\"1\" class=\"dataframe\">\n",
       "  <thead>\n",
       "    <tr style=\"text-align: right;\">\n",
       "      <th>outcome_by_HOME</th>\n",
       "      <th>0.0</th>\n",
       "      <th>1.0</th>\n",
       "      <th>2.0</th>\n",
       "    </tr>\n",
       "    <tr>\n",
       "      <th>row_0</th>\n",
       "      <th></th>\n",
       "      <th></th>\n",
       "      <th></th>\n",
       "    </tr>\n",
       "  </thead>\n",
       "  <tbody>\n",
       "    <tr>\n",
       "      <th>0.0</th>\n",
       "      <td>55</td>\n",
       "      <td>9</td>\n",
       "      <td>14</td>\n",
       "    </tr>\n",
       "    <tr>\n",
       "      <th>1.0</th>\n",
       "      <td>13</td>\n",
       "      <td>8</td>\n",
       "      <td>17</td>\n",
       "    </tr>\n",
       "    <tr>\n",
       "      <th>2.0</th>\n",
       "      <td>60</td>\n",
       "      <td>54</td>\n",
       "      <td>150</td>\n",
       "    </tr>\n",
       "  </tbody>\n",
       "</table>\n",
       "</div>"
      ],
      "text/plain": [
       "outcome_by_HOME  0.0  1.0  2.0\n",
       "row_0                         \n",
       "0.0               55    9   14\n",
       "1.0               13    8   17\n",
       "2.0               60   54  150"
      ]
     },
     "execution_count": 80,
     "metadata": {},
     "output_type": "execute_result"
    }
   ],
   "source": [
    "cm_validLogReg = pd.crosstab(clf_LG.predict(X_valid), y_valid)\n",
    "cm_validLogReg"
   ]
  },
  {
   "cell_type": "code",
   "execution_count": 81,
   "metadata": {
    "ExecuteTime": {
     "end_time": "2020-04-02T01:10:49.369099Z",
     "start_time": "2020-04-02T01:10:49.345126Z"
    }
   },
   "outputs": [
    {
     "data": {
      "text/html": [
       "<div>\n",
       "<style scoped>\n",
       "    .dataframe tbody tr th:only-of-type {\n",
       "        vertical-align: middle;\n",
       "    }\n",
       "\n",
       "    .dataframe tbody tr th {\n",
       "        vertical-align: top;\n",
       "    }\n",
       "\n",
       "    .dataframe thead th {\n",
       "        text-align: right;\n",
       "    }\n",
       "</style>\n",
       "<table border=\"1\" class=\"dataframe\">\n",
       "  <thead>\n",
       "    <tr style=\"text-align: right;\">\n",
       "      <th>outcome_by_HOME</th>\n",
       "      <th>0.0</th>\n",
       "      <th>1.0</th>\n",
       "      <th>2.0</th>\n",
       "    </tr>\n",
       "    <tr>\n",
       "      <th>row_0</th>\n",
       "      <th></th>\n",
       "      <th></th>\n",
       "      <th></th>\n",
       "    </tr>\n",
       "  </thead>\n",
       "  <tbody>\n",
       "    <tr>\n",
       "      <th>0.0</th>\n",
       "      <td>65</td>\n",
       "      <td>11</td>\n",
       "      <td>25</td>\n",
       "    </tr>\n",
       "    <tr>\n",
       "      <th>1.0</th>\n",
       "      <td>7</td>\n",
       "      <td>3</td>\n",
       "      <td>8</td>\n",
       "    </tr>\n",
       "    <tr>\n",
       "      <th>2.0</th>\n",
       "      <td>56</td>\n",
       "      <td>57</td>\n",
       "      <td>148</td>\n",
       "    </tr>\n",
       "  </tbody>\n",
       "</table>\n",
       "</div>"
      ],
      "text/plain": [
       "outcome_by_HOME  0.0  1.0  2.0\n",
       "row_0                         \n",
       "0.0               65   11   25\n",
       "1.0                7    3    8\n",
       "2.0               56   57  148"
      ]
     },
     "execution_count": 81,
     "metadata": {},
     "output_type": "execute_result"
    }
   ],
   "source": [
    "cm_validLogReg_keep = pd.crosstab(clf_LG_keep.predict(X_valid_keep), y_valid)\n",
    "cm_validLogReg_keep"
   ]
  },
  {
   "cell_type": "markdown",
   "metadata": {},
   "source": [
    "## XGB"
   ]
  },
  {
   "cell_type": "markdown",
   "metadata": {},
   "source": [
    "### XGB Parameter Tuning"
   ]
  },
  {
   "cell_type": "code",
   "execution_count": 82,
   "metadata": {
    "ExecuteTime": {
     "end_time": "2020-04-02T01:10:49.375685Z",
     "start_time": "2020-04-02T01:10:49.371411Z"
    }
   },
   "outputs": [],
   "source": [
    "param_init = {\n",
    "    'silent': 1,  # logging mode - quiet default is 0\n",
    "    'objective': 'multi:softprob',  # error evaluation for multiclass training\n",
    "    'num_class': 3}  # the number of classes that exist in this datset"
   ]
  },
  {
   "cell_type": "code",
   "execution_count": 83,
   "metadata": {
    "ExecuteTime": {
     "end_time": "2020-04-02T01:10:49.472204Z",
     "start_time": "2020-04-02T01:10:49.377505Z"
    }
   },
   "outputs": [
    {
     "name": "stdout",
     "output_type": "stream",
     "text": [
      "0.8687013865622952\n",
      "0.8570175438596491\n"
     ]
    }
   ],
   "source": [
    "bst_init = xgb.train(param_init, dtrain)\n",
    "predstrain_init = bst_init.predict(dtrain)\n",
    "\n",
    "bst_predstrain_init = np.asarray([np.argmax(line) for line in predstrain_init])\n",
    "print(precision_score(y_train, bst_predstrain_init, average='macro'))\n",
    "print(accuracy_score(y_train, bst_predstrain_init))\n"
   ]
  },
  {
   "cell_type": "code",
   "execution_count": 84,
   "metadata": {
    "ExecuteTime": {
     "end_time": "2020-04-02T01:10:49.483134Z",
     "start_time": "2020-04-02T01:10:49.474187Z"
    }
   },
   "outputs": [
    {
     "name": "stdout",
     "output_type": "stream",
     "text": [
      "0.46206701881909923\n",
      "0.5368421052631579\n"
     ]
    }
   ],
   "source": [
    "predsvalid_init = bst_init.predict(dvalid)\n",
    "\n",
    "bst_predsvalid_init = np.asarray([np.argmax(line) for line in predsvalid_init])\n",
    "print(precision_score(y_valid, bst_predsvalid_init, average='macro'))\n",
    "print(accuracy_score(y_valid, bst_predsvalid_init))\n"
   ]
  },
  {
   "cell_type": "code",
   "execution_count": null,
   "metadata": {
    "ExecuteTime": {
     "start_time": "2020-04-02T01:03:02.096Z"
    }
   },
   "outputs": [],
   "source": [
    "xgbcl = xgb.XGBClassifier(objective='multi:softprob',num_class=3)\n",
    "param_grid = {\n",
    "     \"eta\"    : [0.01, 0.04, 0.08, 0.12, 0.13, 0.14, 0.16, 0.2] ,\n",
    "     \"max_depth\"        : [ 1, 2, 3, 4, 5, 6, 7],\n",
    "     \"min_child_weight\" : [ 1, 3, 5, 7, 9, 10, 11, 13, 15 ],\n",
    "     \"gamma\"            : [ 0.0, 0.25, 0.5, 0.75, 1.0, 1.25, 1.5],\n",
    "     \"colsample_bytree\" : [0.7, 0.8, 0.9, 1.0]\n",
    "     }\n",
    "\n",
    "grid_search = GridSearchCV(estimator=xgbcl,\n",
    "                    param_grid=param_grid, n_jobs=-1,\n",
    "                    scoring=\"accuracy\",\n",
    "                    cv=4)\n",
    "\n",
    "grid_result = grid_search.fit(X_train_keep, y_train)\n",
    "\n",
    "print(f'Best: {grid_result.best_score_} using {grid_result.best_params_}','\\n')"
   ]
  },
  {
   "cell_type": "code",
   "execution_count": null,
   "metadata": {
    "ExecuteTime": {
     "start_time": "2020-04-02T01:03:02.099Z"
    }
   },
   "outputs": [],
   "source": [
    "param = {\n",
    "    'max_depth': 1,  # the maximum depth of each tree\n",
    "    'eta': 0.01,  # the training step for each iteration\n",
    "    'silent': 1,  # logging mode - quiet\n",
    "    'objective': 'multi:softprob',  # error evaluation for multiclass training\n",
    "    'min_child_weight': 15,  #\n",
    "    'colsample_bytree': 0.9,  # \n",
    "    'gamma':0.75,\n",
    "    'num_class': 3}  # the number of classes that exist in this datset"
   ]
  },
  {
   "cell_type": "code",
   "execution_count": null,
   "metadata": {
    "ExecuteTime": {
     "start_time": "2020-04-02T01:03:02.102Z"
    }
   },
   "outputs": [],
   "source": [
    "xgbcl = xgb.XGBClassifier(objective='multi:softprob',num_class=3)\n",
    "param_grid = {\n",
    "     \"eta\"    : [0.01, 0.04, 0.08, 0.12, 0.13, 0.14, 0.16, 0.2] ,\n",
    "     \"max_depth\"        : [3, 4],\n",
    "     \"min_child_weight\" : [ 1, 3, 5, 7, 9, 10, 11, 13, 15 ],\n",
    "     \"gamma\"            : [ 0.0, 0.25, 0.5, 0.75, 1.0, 1.25, 1.5],\n",
    "     \"colsample_bytree\" : [0.7, 0.8, 0.9, 1.0]\n",
    "     }\n",
    "\n",
    "grid_search = GridSearchCV(estimator=xgbcl,\n",
    "                    param_grid=param_grid, n_jobs=-1,\n",
    "                    scoring=\"accuracy\",\n",
    "                    cv=4)\n",
    "\n",
    "grid_result = grid_search.fit(X_train_keep, y_train)\n",
    "\n",
    "print(f'Best: {grid_result.best_score_} using {grid_result.best_params_}','\\n')"
   ]
  },
  {
   "cell_type": "code",
   "execution_count": null,
   "metadata": {
    "ExecuteTime": {
     "start_time": "2020-04-02T01:03:02.106Z"
    }
   },
   "outputs": [],
   "source": [
    "param = {\n",
    "    'max_depth': 3,  # the maximum depth of each tree\n",
    "    'eta': 0.01,  # the training step for each iteration\n",
    "    'silent': 1,  # logging mode - quiet\n",
    "    'objective': 'multi:softprob',  # error evaluation for multiclass training\n",
    "    'min_child_weight': 15,  #\n",
    "    'colsample_bytree': 1.0,  # \n",
    "    'gamma':1.5,\n",
    "    'num_class': 3}  # the number of classes that exist in this datset"
   ]
  },
  {
   "cell_type": "code",
   "execution_count": null,
   "metadata": {
    "ExecuteTime": {
     "start_time": "2020-04-02T01:03:02.109Z"
    }
   },
   "outputs": [],
   "source": [
    "param = {\n",
    "    'max_depth': 3,  # the maximum depth of each tree\n",
    "    'eta': 0.14,  # the training step for each iteration\n",
    "    'silent': 1,  # logging mode - quiet\n",
    "    'objective': 'multi:softprob',  # error evaluation for multiclass training\n",
    "    'min_child_weight': 13,  #\n",
    "    'colsample_bytree': 1,  # \n",
    "    'gamma':1,\n",
    "    'num_class': 3}  # the number of classes that exist in this datset\n",
    "num_round=10"
   ]
  },
  {
   "cell_type": "code",
   "execution_count": null,
   "metadata": {
    "ExecuteTime": {
     "start_time": "2020-04-02T01:03:02.112Z"
    }
   },
   "outputs": [],
   "source": [
    "param = {\n",
    "    'max_depth': 4,  # the maximum depth of each tree\n",
    "    'eta': 0.13,  # the training step for each iteration\n",
    "    'silent': 1,  # logging mode - quiet\n",
    "    'objective': 'multi:softprob',  # error evaluation for multiclass training\n",
    "    'min_child_weight': 10,  #\n",
    "    'colsample_bytree': 1,  # \n",
    "    'gamma':1,\n",
    "    'num_class': 3}  # the number of classes that exist in this datset\n",
    "num_round=10"
   ]
  },
  {
   "cell_type": "code",
   "execution_count": null,
   "metadata": {
    "ExecuteTime": {
     "start_time": "2020-04-02T01:03:02.116Z"
    },
    "scrolled": true
   },
   "outputs": [],
   "source": [
    "bst = xgb.train(param, dtrain_keep, num_round)\n",
    "\n",
    "predstrain = bst.predict(dtrain_keep)\n",
    "bst_predstrain = np.asarray([np.argmax(line) for line in predstrain])\n",
    "print(accuracy_score(y_train, bst_predstrain))\n",
    "\n",
    "predsvalid = bst.predict(dvalid_keep)\n",
    "bst_predsvalid = np.asarray([np.argmax(line) for line in predsvalid])\n",
    "print(accuracy_score(y_valid, bst_predsvalid))\n",
    "\n",
    "predstest = bst.predict(dtest_keep)\n",
    "bst_predstest = np.asarray([np.argmax(line) for line in predstest])\n",
    "print(accuracy_score(y_test, bst_predstest))"
   ]
  },
  {
   "cell_type": "code",
   "execution_count": null,
   "metadata": {
    "ExecuteTime": {
     "start_time": "2020-04-02T01:03:02.119Z"
    }
   },
   "outputs": [],
   "source": [
    "predstest"
   ]
  },
  {
   "cell_type": "code",
   "execution_count": null,
   "metadata": {
    "ExecuteTime": {
     "start_time": "2020-04-02T01:03:02.122Z"
    }
   },
   "outputs": [],
   "source": [
    "cm_trainxgb = pd.crosstab(bst_predstrain, y_train)\n",
    "cm_trainxgb\n"
   ]
  },
  {
   "cell_type": "code",
   "execution_count": null,
   "metadata": {
    "ExecuteTime": {
     "start_time": "2020-04-02T01:03:02.125Z"
    }
   },
   "outputs": [],
   "source": [
    "cm_validxgb = pd.crosstab(bst_predsvalid, y_valid)\n",
    "cm_validxgb\n"
   ]
  },
  {
   "cell_type": "code",
   "execution_count": null,
   "metadata": {
    "ExecuteTime": {
     "start_time": "2020-04-02T01:03:02.128Z"
    }
   },
   "outputs": [],
   "source": [
    "cm_testxgb = pd.crosstab(bst_predstest, y_test)\n",
    "cm_testxgb\n"
   ]
  },
  {
   "cell_type": "code",
   "execution_count": null,
   "metadata": {
    "ExecuteTime": {
     "start_time": "2020-04-02T01:03:02.131Z"
    }
   },
   "outputs": [],
   "source": [
    "cmap = plt.get_cmap('Blues')\n",
    "plt.figure(figsize=(8, 6))\n",
    "plt.imshow(cm_testxgb, cmap=cmap)\n",
    "plt.title('Confusion Matrix')\n",
    "plt.grid(False)\n",
    "plt.colorbar()\n",
    "plt.xlabel('True label')\n",
    "plt.ylabel('Predicted label')\n"
   ]
  },
  {
   "cell_type": "code",
   "execution_count": null,
   "metadata": {
    "ExecuteTime": {
     "start_time": "2020-04-02T01:03:02.134Z"
    }
   },
   "outputs": [],
   "source": [
    "fig, ax = plt.subplots(figsize=(12,7))\n",
    "xgb.plot_importance(bst, height=0.8, ax=ax, grid=False, importance_type=\"gain\", xlabel='Feature Importance', ylabel='Features', show_values=False, color=['C0', 'C0', 'C0', 'C0', 'C0', 'C0', 'C0', 'C0', 'C0', 'C0', 'C0', 'C0', 'C0', 'C0', 'C0'])\n",
    "ax.set_yticklabels(['Home Last Season Goals Difference', 'Away Last Season Goals Difference', 'Home Salary', 'Away Total Goals For', 'Home Total Goals For', 'Away Last Season Goals For', 'Home Last Season Points', 'Away Total Goals Difference', 'Home Total Goals Difference', 'Away Last Season Points', 'Away Salary', 'Home Last Season Goals For', 'Odds Draw','Odds Away Win', 'Odds Home Win'])\n",
    "plt.show()\n"
   ]
  },
  {
   "cell_type": "code",
   "execution_count": null,
   "metadata": {
    "ExecuteTime": {
     "start_time": "2020-04-02T01:03:02.137Z"
    }
   },
   "outputs": [],
   "source": [
    "fig, ax = plt.subplots(figsize=(12,7))\n",
    "xgb.plot_importance(bst, height=0.8, ax=ax, grid=False, importance_type=\"gain\", xlabel='Feature Importance', ylabel='Features', show_values=False, color=['C0', 'C0', 'C0', 'C0', 'C0', 'C0', 'C0', 'C0', 'C0', 'C0', 'C0', 'C0', 'C1', 'C1', 'C1'])\n",
    "ax.set_yticklabels(['Home Last Season Goals Difference', 'Away Last Season Goals Difference', 'Home Salary', 'Away Total Goals For', 'Home Total Goals For', 'Away Last Season Goals For', 'Home Last Season Points', 'Away Total Goals Difference', 'Home Total Goals Difference', 'Away Last Season Points', 'Away Salary', 'Home Last Season Goals For', 'Odds Draw','Odds Away Win', 'Odds Home Win'])\n",
    "plt.show()\n"
   ]
  },
  {
   "cell_type": "code",
   "execution_count": null,
   "metadata": {
    "ExecuteTime": {
     "start_time": "2020-04-02T01:03:02.140Z"
    }
   },
   "outputs": [],
   "source": [
    "fig, ax = plt.subplots(figsize=(12,7))\n",
    "xgb.plot_importance(bst, height=0.8, ax=ax, grid=False, importance_type=\"gain\", xlabel='Feature Importance', ylabel='Features', show_values=False, color=['C1', 'C1', 'C0', 'C1', 'C1', 'C1', 'C1', 'C1', 'C1', 'C1', 'C0', 'C1', 'C0', 'C0', 'C0'])\n",
    "ax.set_yticklabels(['Home Last Season Goals Difference', 'Away Last Season Goals Difference', 'Home Salary', 'Away Total Goals For', 'Home Total Goals For', 'Away Last Season Goals For', 'Home Last Season Points', 'Away Total Goals Difference', 'Home Total Goals Difference', 'Away Last Season Points', 'Away Salary', 'Home Last Season Goals For', 'Odds Draw','Odds Away Win', 'Odds Home Win'])\n",
    "plt.show()\n"
   ]
  },
  {
   "cell_type": "code",
   "execution_count": null,
   "metadata": {
    "ExecuteTime": {
     "start_time": "2020-04-02T01:03:02.144Z"
    }
   },
   "outputs": [],
   "source": [
    "fig, ax = plt.subplots(figsize=(12,7))\n",
    "xgb.plot_importance(bst, height=0.8, ax=ax, grid=False, importance_type=\"gain\", xlabel='Feature Importance', ylabel='Features', show_values=False, color=['C0', 'C0', 'C1', 'C0', 'C0', 'C0', 'C0', 'C0', 'C0', 'C0', 'C1', 'C0', 'C0', 'C0', 'C0'])\n",
    "ax.set_yticklabels(['Home Last Season Goals Difference', 'Away Last Season Goals Difference', 'Home Salary', 'Away Total Goals For', 'Home Total Goals For', 'Away Last Season Goals For', 'Home Last Season Points', 'Away Total Goals Difference', 'Home Total Goals Difference', 'Away Last Season Points', 'Away Salary', 'Home Last Season Goals For', 'Odds Draw','Odds Away Win', 'Odds Home Win'])\n",
    "plt.show()\n"
   ]
  },
  {
   "cell_type": "markdown",
   "metadata": {},
   "source": [
    "## Comparison against baseline methods"
   ]
  },
  {
   "cell_type": "markdown",
   "metadata": {},
   "source": [
    "### RF, XGB and Log Reg"
   ]
  },
  {
   "cell_type": "code",
   "execution_count": null,
   "metadata": {
    "ExecuteTime": {
     "start_time": "2020-04-02T01:03:02.148Z"
    }
   },
   "outputs": [],
   "source": [
    "print_score(clf, X_train, y_train, X_valid, y_valid)\n",
    "print_score(clf, X_train, y_train, X_test, y_test)\n",
    "print_score(clf_keep, X_train_keep, y_train, X_valid_keep, y_valid)\n",
    "print_score(clf_keep, X_train_keep, y_train, X_test_keep, y_test)\n",
    "print_score(clf_LG, X_train, y_train, X_valid, y_valid)\n",
    "print_score(clf_LG, X_train, y_train, X_test, y_test)\n",
    "print_score(clf_LG_keep, X_train_keep, y_train, X_valid_keep, y_valid)\n",
    "print_score(clf_LG_keep, X_train_keep, y_train, X_test_keep, y_test)"
   ]
  },
  {
   "cell_type": "code",
   "execution_count": null,
   "metadata": {
    "ExecuteTime": {
     "start_time": "2020-04-02T01:03:02.151Z"
    }
   },
   "outputs": [],
   "source": [
    "print(metrics.classification_report(y_test, bst_predstest, digits=3))\n"
   ]
  },
  {
   "cell_type": "markdown",
   "metadata": {},
   "source": [
    "### Random, Home Team and Lowest Odds"
   ]
  },
  {
   "cell_type": "code",
   "execution_count": null,
   "metadata": {
    "ExecuteTime": {
     "start_time": "2020-04-02T01:03:02.154Z"
    }
   },
   "outputs": [],
   "source": [
    "results = pd.DataFrame(bst_predstest)\n",
    "results.rename(columns = {0:'XGB'}, inplace = True)\n",
    "results.head()"
   ]
  },
  {
   "cell_type": "code",
   "execution_count": null,
   "metadata": {
    "ExecuteTime": {
     "start_time": "2020-04-02T01:03:02.158Z"
    }
   },
   "outputs": [],
   "source": [
    "results['RandomNumber'] = np.random.randint(0, 3, results.shape[0])\n",
    "results.head(300)"
   ]
  },
  {
   "cell_type": "code",
   "execution_count": null,
   "metadata": {
    "ExecuteTime": {
     "start_time": "2020-04-02T01:03:02.161Z"
    }
   },
   "outputs": [],
   "source": [
    "print(metrics.classification_report(y_test, results['RandomNumber'], digits=3))\n",
    "\n"
   ]
  },
  {
   "cell_type": "code",
   "execution_count": null,
   "metadata": {
    "ExecuteTime": {
     "start_time": "2020-04-02T01:03:02.164Z"
    }
   },
   "outputs": [],
   "source": [
    "cm_testrandom = pd.crosstab(results['RandomNumber'], y_test)\n",
    "cm_testrandom"
   ]
  },
  {
   "cell_type": "code",
   "execution_count": null,
   "metadata": {
    "ExecuteTime": {
     "start_time": "2020-04-02T01:03:02.167Z"
    }
   },
   "outputs": [],
   "source": [
    "results['HomeTeamWins'] = 2\n",
    "results.head()\n",
    "print(metrics.classification_report(y_test, results['HomeTeamWins'], digits=3))\n",
    "cm_testhome = pd.crosstab(results['HomeTeamWins'], y_test)\n",
    "cm_testhome"
   ]
  },
  {
   "cell_type": "code",
   "execution_count": null,
   "metadata": {
    "ExecuteTime": {
     "start_time": "2020-04-02T01:03:02.170Z"
    }
   },
   "outputs": [],
   "source": [
    "results['Draw'] = 1\n",
    "results.head()\n",
    "print(metrics.classification_report(y_test, results['Draw'], digits=3))\n",
    "cm_testhome = pd.crosstab(results['Draw'], y_test)\n",
    "cm_testhome"
   ]
  },
  {
   "cell_type": "code",
   "execution_count": null,
   "metadata": {
    "ExecuteTime": {
     "start_time": "2020-04-02T01:03:02.173Z"
    }
   },
   "outputs": [],
   "source": [
    "results['BestOdds'] = 0\n",
    "results.BestOdds[(X_test_keep.AVERAGE_ODD_WIN < X_test_keep.AVERAGE_ODD_OPPONENT_WIN) & (X_test_keep.AVERAGE_ODD_WIN < X_test_keep.AVERAGE_ODD_DRAW)] = 2\n",
    "results.BestOdds[(X_test_keep.AVERAGE_ODD_OPPONENT_WIN < X_test_keep.AVERAGE_ODD_WIN) & (X_test_keep.AVERAGE_ODD_OPPONENT_WIN < X_test_keep.AVERAGE_ODD_DRAW)] = 0\n",
    "results.BestOdds[(X_test_keep.AVERAGE_ODD_DRAW < X_test_keep.AVERAGE_ODD_WIN) & (X_test_keep.AVERAGE_ODD_DRAW < X_test_keep.AVERAGE_ODD_OPPONENT_WIN)] = 1\n",
    "\n",
    "print(metrics.classification_report(y_test, results['BestOdds'], digits=3))\n",
    "cm_testbestodds = pd.crosstab(results['BestOdds'], y_test)\n",
    "cm_testbestodds\n"
   ]
  },
  {
   "cell_type": "code",
   "execution_count": null,
   "metadata": {
    "ExecuteTime": {
     "start_time": "2020-04-02T01:03:02.176Z"
    },
    "scrolled": false
   },
   "outputs": [],
   "source": [
    "#%matplotlib qt\n",
    "data_x = ['Soccer Science','Best Odds', 'Home Team', 'Random']\n",
    "data_y = [56.4, 52.8, 42.8, 31.6]\n",
    "plt.bar(data_x, data_y, color='blue')\n",
    "plt.xlabel('Different Methods of Prediction')\n",
    "plt.ylabel('Accuracy')\n",
    "plt.ylim((20, 65))"
   ]
  },
  {
   "cell_type": "code",
   "execution_count": null,
   "metadata": {
    "ExecuteTime": {
     "start_time": "2020-04-02T01:03:02.179Z"
    }
   },
   "outputs": [],
   "source": [
    "#%matplotlib qt\n",
    "data_x = ['XGBoost','Random Forest', 'Logistic Regression']\n",
    "data_y = [56.4, 53.6, 52]\n",
    "plt.bar(data_x, data_y, color='blue')\n",
    "plt.xlabel('Different Models')\n",
    "plt.ylabel('Accuracy')\n",
    "plt.ylim((40, 60))"
   ]
  },
  {
   "cell_type": "code",
   "execution_count": null,
   "metadata": {
    "ExecuteTime": {
     "start_time": "2020-04-02T01:03:02.182Z"
    }
   },
   "outputs": [],
   "source": [
    "#%matplotlib qt\n",
    "data_x = ['Soccer Science','Best Odds']\n",
    "data_y = [56.4, 52.8]\n",
    "plt.bar(data_x, data_y, color='blue')\n",
    "plt.xlabel('Models')\n",
    "plt.ylabel('Accuracy')\n",
    "plt.ylim((40, 60))"
   ]
  },
  {
   "cell_type": "code",
   "execution_count": null,
   "metadata": {
    "ExecuteTime": {
     "start_time": "2020-04-02T01:03:02.185Z"
    }
   },
   "outputs": [],
   "source": [
    "#%matplotlib qt\n",
    "data_x = ['Best Odds']\n",
    "data_y = [-1879]\n",
    "plt.bar(data_x, data_y, color=['C3'])\n",
    "plt.xlabel('Predicting Outcomes')\n",
    "plt.ylabel('Money Outcome ($)')\n",
    "plt.ylim((-2000, 1500))"
   ]
  },
  {
   "cell_type": "code",
   "execution_count": null,
   "metadata": {
    "ExecuteTime": {
     "start_time": "2020-04-02T01:03:02.188Z"
    }
   },
   "outputs": [],
   "source": [
    "#%matplotlib qt\n",
    "data_x = ['Soccer Science','Best Odds']\n",
    "data_y = [1211.0, -1879]\n",
    "plt.bar(data_x, data_y, color=['C2', 'C3'])\n",
    "plt.xlabel('Different Models')\n",
    "plt.ylabel('Money Outcome')"
   ]
  },
  {
   "cell_type": "markdown",
   "metadata": {},
   "source": [
    "### What if you bet 100 USD on each game for 2019 second half"
   ]
  },
  {
   "cell_type": "code",
   "execution_count": null,
   "metadata": {
    "ExecuteTime": {
     "start_time": "2020-04-02T01:03:02.192Z"
    }
   },
   "outputs": [],
   "source": [
    "results['HomeOdds'] = X_test_keep.AVERAGE_ODD_WIN\n",
    "results['AwayOdds'] = X_test_keep.AVERAGE_ODD_OPPONENT_WIN\n",
    "results['DrawOdds'] = X_test.AVERAGE_ODD_DRAW\n",
    "results['RF'] = clf_keep.predict(X_test_keep)\n",
    "results['LogReg'] = clf_LG_keep.predict(X_test_keep)\n",
    "results['Actual'] = y_test\n",
    "results.head(300)"
   ]
  },
  {
   "cell_type": "code",
   "execution_count": null,
   "metadata": {
    "ExecuteTime": {
     "start_time": "2020-04-02T01:03:02.195Z"
    }
   },
   "outputs": [],
   "source": [
    "bets_placed = len(results)*100\n",
    "len(results)"
   ]
  },
  {
   "cell_type": "code",
   "execution_count": null,
   "metadata": {
    "ExecuteTime": {
     "start_time": "2020-04-02T01:03:02.198Z"
    }
   },
   "outputs": [],
   "source": [
    "results['XGB_Outcome'] = 0\n",
    "results.XGB_Outcome[(results.XGB == 0) & (results.Actual == 0)] = results.AwayOdds * 100\n",
    "results.XGB_Outcome[(results.XGB == 1) & (results.Actual == 1)] = results.DrawOdds * 100\n",
    "results.XGB_Outcome[(results.XGB == 2) & (results.Actual == 2)] = results.HomeOdds * 100\n",
    "winnings_XGB = results['XGB_Outcome'].sum()\n",
    "tot_winnings_XGB = winnings_XGB - bets_placed\n",
    "tot_winnings_XGB"
   ]
  },
  {
   "cell_type": "code",
   "execution_count": null,
   "metadata": {
    "ExecuteTime": {
     "start_time": "2020-04-02T01:03:02.201Z"
    }
   },
   "outputs": [],
   "source": [
    "results['RF_Outcome'] = 0\n",
    "results.RF_Outcome[(results.RF == 0) & (results.Actual == 0)] = results.AwayOdds * 100\n",
    "results.RF_Outcome[(results.RF == 1) & (results.Actual == 1)] = results.DrawOdds * 100\n",
    "results.RF_Outcome[(results.RF == 2) & (results.Actual == 2)] = results.HomeOdds * 100\n",
    "winnings_rf = results['RF_Outcome'].sum()\n",
    "tot_winnings_rf = winnings_rf - bets_placed\n",
    "tot_winnings_rf"
   ]
  },
  {
   "cell_type": "code",
   "execution_count": null,
   "metadata": {
    "ExecuteTime": {
     "start_time": "2020-04-02T01:03:02.205Z"
    }
   },
   "outputs": [],
   "source": [
    "results['LogReg_Outcome'] = 0\n",
    "results.LogReg_Outcome[(results.LogReg == 0) & (results.Actual == 0)] = results.AwayOdds * 100\n",
    "results.LogReg_Outcome[(results.LogReg == 1) & (results.Actual == 1)] = results.DrawOdds * 100\n",
    "results.LogReg_Outcome[(results.LogReg == 2) & (results.Actual == 2)] = results.HomeOdds * 100\n",
    "winnings_logreg = results['LogReg_Outcome'].sum()\n",
    "tot_winnings_logreg = winnings_logreg - bets_placed\n",
    "tot_winnings_logreg\n"
   ]
  },
  {
   "cell_type": "code",
   "execution_count": null,
   "metadata": {
    "ExecuteTime": {
     "start_time": "2020-04-02T01:03:02.208Z"
    }
   },
   "outputs": [],
   "source": [
    "results['Random_Outcome'] = 0\n",
    "results.Random_Outcome[(results.RandomNumber == 0) & (results.Actual == 0)] = results.AwayOdds * 100\n",
    "results.Random_Outcome[(results.RandomNumber == 1) & (results.Actual == 1)] = results.DrawOdds * 100\n",
    "results.Random_Outcome[(results.RandomNumber == 2) & (results.Actual == 2)] = results.HomeOdds * 100\n",
    "winnings_random = results['Random_Outcome'].sum()\n",
    "tot_winnings_random = winnings_random - bets_placed\n",
    "tot_winnings_random"
   ]
  },
  {
   "cell_type": "code",
   "execution_count": null,
   "metadata": {
    "ExecuteTime": {
     "start_time": "2020-04-02T01:03:02.211Z"
    }
   },
   "outputs": [],
   "source": [
    "results['Home_Outcome'] = 0\n",
    "results.Home_Outcome[(results.HomeTeamWins == 0) & (results.Actual == 0)] = results.AwayOdds * 100\n",
    "results.Home_Outcome[(results.HomeTeamWins == 1) & (results.Actual == 1)] = results.DrawOdds * 100\n",
    "results.Home_Outcome[(results.HomeTeamWins == 2) & (results.Actual == 2)] = results.HomeOdds * 100\n",
    "winnings_home = results['Home_Outcome'].sum()\n",
    "tot_winnings_home = winnings_home - bets_placed\n",
    "tot_winnings_home"
   ]
  },
  {
   "cell_type": "code",
   "execution_count": null,
   "metadata": {
    "ExecuteTime": {
     "start_time": "2020-04-02T01:03:02.214Z"
    }
   },
   "outputs": [],
   "source": [
    "results['Draw_Outcome'] = 1\n",
    "results.Draw_Outcome[(results.Draw == 0) & (results.Actual == 0)] = results.AwayOdds * 100\n",
    "results.Draw_Outcome[(results.Draw == 1) & (results.Actual == 1)] = results.DrawOdds * 100\n",
    "results.Draw_Outcome[(results.Draw == 2) & (results.Actual == 2)] = results.HomeOdds * 100\n",
    "winnings_draw = results['Draw_Outcome'].sum()\n",
    "tot_winnings_draw = winnings_draw - bets_placed\n",
    "tot_winnings_draw"
   ]
  },
  {
   "cell_type": "code",
   "execution_count": null,
   "metadata": {
    "ExecuteTime": {
     "start_time": "2020-04-02T01:03:02.217Z"
    }
   },
   "outputs": [],
   "source": [
    "results['Odds_Outcome'] = 0\n",
    "results.Odds_Outcome[(results.BestOdds == 0) & (results.Actual == 0)] = results.AwayOdds * 100\n",
    "results.Odds_Outcome[(results.BestOdds == 1) & (results.Actual == 1)] = results.DrawOdds * 100\n",
    "results.Odds_Outcome[(results.BestOdds == 2) & (results.Actual == 2)] = results.HomeOdds * 100\n",
    "winnings_odds = results['Odds_Outcome'].sum()\n",
    "tot_winnings_odds = winnings_odds - bets_placed\n",
    "tot_winnings_odds"
   ]
  },
  {
   "cell_type": "markdown",
   "metadata": {},
   "source": [
    "## Outputs for Web Application"
   ]
  },
  {
   "cell_type": "code",
   "execution_count": null,
   "metadata": {
    "ExecuteTime": {
     "start_time": "2020-04-02T01:03:02.221Z"
    }
   },
   "outputs": [],
   "source": [
    "filename = 'df_19B20A.csv'\n",
    "df_19B20A_output.to_csv(filename)"
   ]
  },
  {
   "cell_type": "code",
   "execution_count": null,
   "metadata": {
    "ExecuteTime": {
     "start_time": "2020-04-02T01:03:02.224Z"
    }
   },
   "outputs": [],
   "source": [
    "df_19B20A_output.info()"
   ]
  },
  {
   "cell_type": "code",
   "execution_count": null,
   "metadata": {
    "ExecuteTime": {
     "start_time": "2020-04-02T01:03:02.227Z"
    }
   },
   "outputs": [],
   "source": [
    "home_team = 5.02\n",
    "away_team = 6.53\n",
    "df_19B20A_output.AVERAGE_ODD_DRAW = 3.7\n",
    "df_19B20A_output.AVERAGE_ODD_WIN = 1.83 \n",
    "df_19B20A_output.AVERAGE_ODD_OPPONENT_WIN = 4.33"
   ]
  },
  {
   "cell_type": "code",
   "execution_count": null,
   "metadata": {
    "ExecuteTime": {
     "start_time": "2020-04-02T01:03:02.229Z"
    }
   },
   "outputs": [],
   "source": [
    "prediction_input = df_19B20A_output[(df_19B20A_output.A_Av_Salary_Club==away_team) & (df_19B20A_output.H_Av_Salary_Club==home_team)]\n",
    "prediction_input\n",
    "\n"
   ]
  },
  {
   "cell_type": "code",
   "execution_count": null,
   "metadata": {
    "ExecuteTime": {
     "start_time": "2020-04-02T01:03:02.233Z"
    }
   },
   "outputs": [],
   "source": [
    "dprediction_input = xgb.DMatrix(prediction_input)"
   ]
  },
  {
   "cell_type": "code",
   "execution_count": null,
   "metadata": {
    "ExecuteTime": {
     "start_time": "2020-04-02T01:03:02.236Z"
    }
   },
   "outputs": [],
   "source": [
    "preds_SS = bst.predict(dprediction_input)\n",
    "print(preds_SS)\n",
    "prediction = np.asarray([np.argmax(line) for line in preds_SS])\n",
    "print(prediction)\n"
   ]
  },
  {
   "cell_type": "code",
   "execution_count": null,
   "metadata": {
    "ExecuteTime": {
     "start_time": "2020-04-02T01:03:02.239Z"
    }
   },
   "outputs": [],
   "source": [
    "pickle.dump(bst, open(\"finalized_model.pickle.dat\", \"wb\"))"
   ]
  }
 ],
 "metadata": {
  "kernelspec": {
   "display_name": "Python 3",
   "language": "python",
   "name": "python3"
  },
  "language_info": {
   "codemirror_mode": {
    "name": "ipython",
    "version": 3
   },
   "file_extension": ".py",
   "mimetype": "text/x-python",
   "name": "python",
   "nbconvert_exporter": "python",
   "pygments_lexer": "ipython3",
   "version": "3.6.10"
  },
  "toc": {
   "base_numbering": 1,
   "nav_menu": {},
   "number_sections": true,
   "sideBar": true,
   "skip_h1_title": false,
   "title_cell": "Table of Contents",
   "title_sidebar": "Contents",
   "toc_cell": false,
   "toc_position": {},
   "toc_section_display": true,
   "toc_window_display": false
  }
 },
 "nbformat": 4,
 "nbformat_minor": 2
}
